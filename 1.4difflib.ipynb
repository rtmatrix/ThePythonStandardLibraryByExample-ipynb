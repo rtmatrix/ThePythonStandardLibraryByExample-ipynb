{
 "cells": [
  {
   "cell_type": "markdown",
   "metadata": {},
   "source": [
    "# Python 2 标准库示例:：1.4 difflib-序列比较\n",
    "\n",
    "**目的**: 比较序列，特别是文本行。\n",
    "\n",
    "**Python 版本**: 2.1+\n",
    "\n",
    "*difflib* 模块对比较文非常有用，并包含有支持多种通用差分格式的多个报告生成函数。\n",
    "\n",
    "本文使用的测试数据如下："
   ]
  },
  {
   "cell_type": "code",
   "execution_count": 5,
   "metadata": {},
   "outputs": [
    {
     "name": "stdout",
     "output_type": "stream",
     "text": [
      "tex1 lines: ['Lorem ipsum dolor sit amet, consectetuer adipiscing', 'elit. Integer eu lacus accumsan arcu fermentum euismod. Donec', 'pulvinar porttitor tellus. Aliquam venenatis. Donec facilisis', 'pharetra tortor.  In nec mauris eget magna consequat', 'convallis. Nam sed sem vitae odio pellentesque interdum. Sed', 'consequat viverra nisl. Suspendisse arcu metus, blandit quis,', 'rhoncus ac, pharetra eget, velit. Mauris urna. Morbi nonummy', 'molestie orci. Praesent nisi elit, fringilla ac, suscipit non,', 'tristique vel, mauris. Curabitur vel lorem id nisl porta', 'adipiscing. Suspendisse eu lectus. In nunc. Duis vulputate', 'tristique enim. Donec quis lectus a justo imperdiet tempus.']\n",
      "\n",
      "text2 lines: ['Lorem ipsum dolor sit amet, consectetuer adipiscing', 'elit. Integer eu lacus accumsan arcu fermentum euismod. Donec', 'pulvinar, porttitor tellus. Aliquam venenatis. Donec facilisis', 'pharetra tortor. In nec mauris eget magna consequat', 'convallis. Nam cras vitae mi vitae odio pellentesque interdum. Sed', 'consequat viverra nisl. Suspendisse arcu metus, blandit quis,', 'rhoncus ac, pharetra eget, velit. Mauris urna. Morbi nonummy', 'molestie orci. Praesent nisi elit, fringilla ac, suscipit non,', 'tristique vel, mauris. Curabitur vel lorem id nisl porta', 'adipiscing. Duis vulputate tristique enim. Donec quis lectus a', 'justo imperdiet tempus.  Suspendisse eu lectus. In nunc.']\n"
     ]
    }
   ],
   "source": [
    "text1 = \"\"\"Lorem ipsum dolor sit amet, consectetuer adipiscing\n",
    "elit. Integer eu lacus accumsan arcu fermentum euismod. Donec\n",
    "pulvinar porttitor tellus. Aliquam venenatis. Donec facilisis\n",
    "pharetra tortor.  In nec mauris eget magna consequat\n",
    "convallis. Nam sed sem vitae odio pellentesque interdum. Sed\n",
    "consequat viverra nisl. Suspendisse arcu metus, blandit quis,\n",
    "rhoncus ac, pharetra eget, velit. Mauris urna. Morbi nonummy\n",
    "molestie orci. Praesent nisi elit, fringilla ac, suscipit non,\n",
    "tristique vel, mauris. Curabitur vel lorem id nisl porta\n",
    "adipiscing. Suspendisse eu lectus. In nunc. Duis vulputate\n",
    "tristique enim. Donec quis lectus a justo imperdiet tempus.\"\"\"\n",
    "\n",
    "text1_lines = text1.splitlines()\n",
    "print 'tex1 lines:', repr(text1_lines)\n",
    "\n",
    "text2 = \"\"\"Lorem ipsum dolor sit amet, consectetuer adipiscing\n",
    "elit. Integer eu lacus accumsan arcu fermentum euismod. Donec\n",
    "pulvinar, porttitor tellus. Aliquam venenatis. Donec facilisis\n",
    "pharetra tortor. In nec mauris eget magna consequat\n",
    "convallis. Nam cras vitae mi vitae odio pellentesque interdum. Sed\n",
    "consequat viverra nisl. Suspendisse arcu metus, blandit quis,\n",
    "rhoncus ac, pharetra eget, velit. Mauris urna. Morbi nonummy\n",
    "molestie orci. Praesent nisi elit, fringilla ac, suscipit non,\n",
    "tristique vel, mauris. Curabitur vel lorem id nisl porta\n",
    "adipiscing. Duis vulputate tristique enim. Donec quis lectus a\n",
    "justo imperdiet tempus.  Suspendisse eu lectus. In nunc.\"\"\"\n",
    "\n",
    "text2_lines = text2.splitlines()\n",
    "print\n",
    "print 'text2 lines:', repr(text2_lines)"
   ]
  },
  {
   "cell_type": "markdown",
   "metadata": {},
   "source": [
    "## 文本体的比较\n",
    "\n",
    "*Differ* 类用于处理文本行序列，并产生可读的差异信息，或者叫修改指令。*Differ* 的默认输出同 UNIX 下的 *diff* 命令的输出类似。它包含有取自两个比较列表中的源值，包含共同部分的值，及表示修改的标识数据。\n",
    "\n",
    "+ 带 `-` 前缀的行：表示这行出现在第一个序列中，但没有在第二个序列中\n",
    "+ 带 `+` 前缀的行： 表示这行出现在第二个序列中，但没有在第一个序列中\n",
    "+ 如果版本间是增量修改，则有额外的带 `?` 的新行来强调修改内容\n",
    "+ 如果行没有修改，则在最左边另加一个空格，以用于对齐\n",
    "\n",
    "*Differ.compare()* 的参数是 2 个序列值。"
   ]
  },
  {
   "cell_type": "code",
   "execution_count": 6,
   "metadata": {},
   "outputs": [
    {
     "name": "stdout",
     "output_type": "stream",
     "text": [
      "  Lorem ipsum dolor sit amet, consectetuer adipiscing\n",
      "  elit. Integer eu lacus accumsan arcu fermentum euismod. Donec\n",
      "- pulvinar porttitor tellus. Aliquam venenatis. Donec facilisis\n",
      "+ pulvinar, porttitor tellus. Aliquam venenatis. Donec facilisis\n",
      "?         +\n",
      "\n",
      "- pharetra tortor.  In nec mauris eget magna consequat\n",
      "?                 -\n",
      "\n",
      "+ pharetra tortor. In nec mauris eget magna consequat\n",
      "- convallis. Nam sed sem vitae odio pellentesque interdum. Sed\n",
      "?                  - --\n",
      "\n",
      "+ convallis. Nam cras vitae mi vitae odio pellentesque interdum. Sed\n",
      "?                +++ +++++   +\n",
      "\n",
      "  consequat viverra nisl. Suspendisse arcu metus, blandit quis,\n",
      "  rhoncus ac, pharetra eget, velit. Mauris urna. Morbi nonummy\n",
      "  molestie orci. Praesent nisi elit, fringilla ac, suscipit non,\n",
      "  tristique vel, mauris. Curabitur vel lorem id nisl porta\n",
      "- adipiscing. Suspendisse eu lectus. In nunc. Duis vulputate\n",
      "- tristique enim. Donec quis lectus a justo imperdiet tempus.\n",
      "+ adipiscing. Duis vulputate tristique enim. Donec quis lectus a\n",
      "+ justo imperdiet tempus.  Suspendisse eu lectus. In nunc.\n"
     ]
    }
   ],
   "source": [
    "import difflib\n",
    "\n",
    "d = difflib.Differ()\n",
    "diff = d.compare(text1_lines, text2_lines)\n",
    "print '\\n'.join(diff)"
   ]
  },
  {
   "cell_type": "markdown",
   "metadata": {},
   "source": [
    "*ndiff()* 方法的输出本质上与 *compare()* 的相同，但它只针对处理文本数据，并且去除了输入中的噪音数据 (noise)。\n",
    "\n",
    "### 其它输出格式\n",
    "\n",
    "*Differ* 类会输出所有的输入行，但是 *unified diff* 只会包含有修改的行和一些上下文行，在 Python 2.3+ 中， *unified_diff()* 输出 *unified diff* 格式。"
   ]
  },
  {
   "cell_type": "code",
   "execution_count": 8,
   "metadata": {},
   "outputs": [
    {
     "name": "stdout",
     "output_type": "stream",
     "text": [
      "--- \n",
      "+++ \n",
      "@@ -1,11 +1,11 @@\n",
      " Lorem ipsum dolor sit amet, consectetuer adipiscing\n",
      " elit. Integer eu lacus accumsan arcu fermentum euismod. Donec\n",
      "-pulvinar porttitor tellus. Aliquam venenatis. Donec facilisis\n",
      "-pharetra tortor.  In nec mauris eget magna consequat\n",
      "-convallis. Nam sed sem vitae odio pellentesque interdum. Sed\n",
      "+pulvinar, porttitor tellus. Aliquam venenatis. Donec facilisis\n",
      "+pharetra tortor. In nec mauris eget magna consequat\n",
      "+convallis. Nam cras vitae mi vitae odio pellentesque interdum. Sed\n",
      " consequat viverra nisl. Suspendisse arcu metus, blandit quis,\n",
      " rhoncus ac, pharetra eget, velit. Mauris urna. Morbi nonummy\n",
      " molestie orci. Praesent nisi elit, fringilla ac, suscipit non,\n",
      " tristique vel, mauris. Curabitur vel lorem id nisl porta\n",
      "-adipiscing. Suspendisse eu lectus. In nunc. Duis vulputate\n",
      "-tristique enim. Donec quis lectus a justo imperdiet tempus.\n",
      "+adipiscing. Duis vulputate tristique enim. Donec quis lectus a\n",
      "+justo imperdiet tempus.  Suspendisse eu lectus. In nunc.\n"
     ]
    }
   ],
   "source": [
    "import difflib\n",
    "\n",
    "diff = difflib.unified_diff(text1_lines,\n",
    "                           text2_lines,\n",
    "                           lineterm='',\n",
    "                           )\n",
    "print '\\n'.join(list(diff))"
   ]
  },
  {
   "cell_type": "markdown",
   "metadata": {},
   "source": [
    "上面的 *lineterm* 参数值告诉 *unified_diff()* 不要在返回结果的行中添加换行符，因为输入都没有带换行符。这个输出格式和 SVN 等版本控制工具的输出类似。\n",
    "\n",
    "使用 *context_diff()* 也可产生类似的可读输出。\n",
    "\n",
    "## 垃圾（噪音）数据\n",
    "\n",
    "所有能产生差异序列的函数都接受 2 个参数（值为一个函数），用于判断哪些行是垃圾行，因而需要忽略，判断行中的哪些字符是垃圾是垃圾字符，因而也需要忽略。这些参数一般用来忽略文件中的标签和空白符的修改情况。"
   ]
  },
  {
   "cell_type": "code",
   "execution_count": 9,
   "metadata": {},
   "outputs": [
    {
     "name": "stdout",
     "output_type": "stream",
     "text": [
      "A = ' abcd'\n",
      "B = 'abcd abcd'\n",
      "\n",
      "Without junk detection:\n",
      " i = 0\n",
      " j = 4\n",
      " k = 5\n",
      " A[i:i+k] = ' abcd'\n",
      " B[j:j+k] = ' abcd'\n",
      "\n",
      "Treat spaces as junk:\n",
      " i = 1\n",
      " j = 0\n",
      " k = 4\n",
      " A[i:i+k] = 'abcd'\n",
      " B[j:j+k] = 'abcd'\n"
     ]
    }
   ],
   "source": [
    "# This example is adapted from the source for difflib.py\n",
    "\n",
    "from difflib import SequenceMatcher\n",
    "\n",
    "def show_results(s):\n",
    "    i, j, k = s.find_longest_match(0, 5, 0, 9)\n",
    "    print ' i = %d' % i\n",
    "    print ' j = %d' % j\n",
    "    print ' k = %d' % k\n",
    "    print ' A[i:i+k] = %r' % A[i:i+k]\n",
    "    print ' B[j:j+k] = %r' % B[j:j+k]\n",
    "    \n",
    "A = \" abcd\"\n",
    "B = \"abcd abcd\"\n",
    "\n",
    "print 'A = %r' % A\n",
    "print 'B = %r' % B\n",
    "\n",
    "print '\\nWithout junk detection:'\n",
    "show_results(SequenceMatcher(None, A, B))\n",
    "\n",
    "print '\\nTreat spaces as junk:'\n",
    "show_results(SequenceMatcher(lambda x: x==\" \", A, B))"
   ]
  },
  {
   "cell_type": "markdown",
   "metadata": {},
   "source": [
    "*Differ* 类默认没有显式设置忽略任何行或字符，但它依赖 *SequenceMatcher* 来检测噪音。*ndiff()* 默认忽略空格和制表符。\n",
    "\n",
    "## 比较任意类型\n",
    "\n",
    "*SequenceMatcher* 类对两个任意类型的序列进行比较，只需序列值可 *hashable*。它使用的算法能在去除噪音的基础上，识别出最长的连续匹配块。"
   ]
  },
  {
   "cell_type": "code",
   "execution_count": 11,
   "metadata": {},
   "outputs": [
    {
     "name": "stdout",
     "output_type": "stream",
     "text": [
      " Initial data:\n",
      "s1 = [1, 2, 3, 5, 6, 4]\n",
      "s2 = [2, 3, 5, 4, 6, 1]\n",
      "s1 == s2: False\n",
      "\n",
      "Replace [4] from s1[5:6] with [1] from s2[5:6]\n",
      " s1 = [1, 2, 3, 5, 6, 1]\n",
      "s1[4:5] and s2[4:5] are the same\n",
      " s1 = [1, 2, 3, 5, 6, 1]\n",
      "Insert [4] from s2[3:4] into s1 at 4\n",
      " s1 = [1, 2, 3, 5, 4, 6, 1]\n",
      "s1[1:4] and s2[0:3] are the same\n",
      " s1 = [1, 2, 3, 5, 4, 6, 1]\n",
      "Remove [1] from positions [0:1]\n",
      " s1 = [2, 3, 5, 4, 6, 1]\n",
      "s1 == s2: True\n"
     ]
    }
   ],
   "source": [
    "import difflib\n",
    "\n",
    "s1 = [1, 2, 3, 5, 6, 4]\n",
    "s2 = [2, 3, 5, 4, 6, 1]\n",
    "\n",
    "print 'Initial data:'\n",
    "print 's1 =', s1\n",
    "print 's2 =', s2\n",
    "print 's1 == s2:', s1==s2\n",
    "print\n",
    "\n",
    "matcher = difflib.SequenceMatcher(None, s1, s2)\n",
    "for tag, i1, i2, j1, j2 in reversed(matcher.get_opcodes()):\n",
    "    if tag == 'delete':\n",
    "        print 'Remove %s from positions [%d:%d]' % \\\n",
    "            (s1[i1:i2], i1, i2)\n",
    "        del s1[i1:i2]\n",
    "    elif tag == 'equal':\n",
    "        print 's1[%d:%d] and s2[%d:%d] are the same' % \\\n",
    "            (i1, i2, j1, j2)\n",
    "    elif tag == 'insert':\n",
    "        print 'Insert %s from s2[%d:%d] into s1 at %d' % \\\n",
    "            (s2[j1:j2], j1, j2, i1)\n",
    "        s1[i1:i2] = s2[j1:j2]\n",
    "    elif tag == 'replace':\n",
    "        print 'Replace %s from s1[%d:%d] with %s from s2[%d:%d]' % (\n",
    "            s1[i1:i2], i1, i2, s2[j1:j2], j1, j2)\n",
    "        s1[i1:i2] = s2[j1:j2]\n",
    "        \n",
    "    print ' s1 =', s1\n",
    "print 's1 == s2:', s1==s2"
   ]
  },
  {
   "cell_type": "markdown",
   "metadata": {},
   "source": [
    "*SequenceMatcher.get_opcodes()* 方法返回将源列出转变成新列表的指令序列。上例中，先将指令序列反序，再执行修改指令，这能确保添加和删除操作上指令中使用到列表索引还能正确引用。\n",
    "\n",
    "## 更多资源\n",
    "\n",
    "[difflib](https://docs.python.org/3/library/difflib.html) The standard library documentation for this module."
   ]
  }
 ],
 "metadata": {
  "kernelspec": {
   "display_name": "Python 2",
   "language": "python",
   "name": "python2"
  },
  "language_info": {
   "codemirror_mode": {
    "name": "ipython",
    "version": 2
   },
   "file_extension": ".py",
   "mimetype": "text/x-python",
   "name": "python",
   "nbconvert_exporter": "python",
   "pygments_lexer": "ipython2",
   "version": "2.7.12"
  }
 },
 "nbformat": 4,
 "nbformat_minor": 2
}
