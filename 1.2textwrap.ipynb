{
 "cells": [
  {
   "cell_type": "markdown",
   "metadata": {},
   "source": [
    "# Python 2 标准库示例：1.2 textwrap-格式化文本段\n",
    "\n",
    "**目的**: 通过调整段中的断行符的位置来格式化文本。\n",
    "\n",
    "**Python 版本**: 2.5+\n",
    "\n",
    "*textwrap* 模块提供了对段落的折行和填充功能。\n",
    "\n",
    "## 填充段落\n",
    "\n",
    "*fill()* 函数以一个文本段作为一个输入，输出一个格式化文本段。"
   ]
  },
  {
   "cell_type": "code",
   "execution_count": 12,
   "metadata": {},
   "outputs": [
    {
     "name": "stdout",
     "output_type": "stream",
     "text": [
      "No dedent:\n",
      "\n",
      "     The textwrap module can be used to format\n",
      "text for output in     situations where pretty-\n",
      "printing is desired.  It offers     programmatic\n",
      "functionality similar to the paragraph wrapping\n",
      "or filling features found in many text editors.\n"
     ]
    }
   ],
   "source": [
    "sample_text = '''\n",
    "    The textwrap module can be used to format text for output in\n",
    "    situations where pretty-printing is desired.  It offers\n",
    "    programmatic functionality similar to the paragraph wrapping\n",
    "    or filling features found in many text editors.\n",
    "    '''\n",
    "\n",
    "import textwrap\n",
    "\n",
    "print 'No dedent:\\n'\n",
    "print textwrap.fill(sample_text, width=50)"
   ]
  },
  {
   "cell_type": "markdown",
   "metadata": {},
   "source": [
    "上例中，文本段的宽度限制为了 50，并默认进行左对齐。由于没有进行取消缩进操作，原文本中每行行首的缩进字符都会在结果中保留。\n",
    "\n",
    "## 删除已有的缩进\n",
    "\n",
    "*dedent()* 函数会删除源文本中各行行首的 **共有** 缩进部分，但会保留多出的缩进符，比如：\n",
    "\n",
    "```\n",
    " Line one.\n",
    "   Line two.\n",
    " Line three.\n",
    "```\n",
    "\n",
    "会变成：\n",
    "\n",
    "```\n",
    "Line one.\n",
    "  Line two.\n",
    "Line three.\n",
    "```"
   ]
  },
  {
   "cell_type": "code",
   "execution_count": 13,
   "metadata": {},
   "outputs": [
    {
     "name": "stdout",
     "output_type": "stream",
     "text": [
      "Dedented:\n",
      "\n",
      "\n",
      "The textwrap module can be used to format text for output in\n",
      "situations where pretty-printing is desired.  It offers\n",
      "programmatic functionality similar to the paragraph wrapping\n",
      "or filling features found in many text editors.\n",
      "\n"
     ]
    }
   ],
   "source": [
    "import textwrap\n",
    "\n",
    "dedented_text = textwrap.dedent(sample_text)\n",
    "print 'Dedented:\\n'\n",
    "print dedented_text"
   ]
  },
  {
   "cell_type": "markdown",
   "metadata": {},
   "source": [
    "## 组合 dedent 和 fill"
   ]
  },
  {
   "cell_type": "code",
   "execution_count": 14,
   "metadata": {},
   "outputs": [
    {
     "name": "stdout",
     "output_type": "stream",
     "text": [
      "45 Columns:\n",
      "\n",
      "The textwrap module can be used to format\n",
      "text for output in situations where pretty-\n",
      "printing is desired.  It offers programmatic\n",
      "functionality similar to the paragraph\n",
      "wrapping or filling features found in many\n",
      "text editors.\n",
      "\n",
      "70 Columns:\n",
      "\n",
      "The textwrap module can be used to format text for output in\n",
      "situations where pretty-printing is desired.  It offers programmatic\n",
      "functionality similar to the paragraph wrapping or filling features\n",
      "found in many text editors.\n",
      "\n"
     ]
    }
   ],
   "source": [
    "import textwrap\n",
    "\n",
    "dedented_text = textwrap.dedent(sample_text).strip()\n",
    "for width in [45, 70]:\n",
    "    print '%d Columns:\\n' % width\n",
    "    print textwrap.fill(dedented_text, width=width)\n",
    "    print"
   ]
  },
  {
   "cell_type": "markdown",
   "metadata": {},
   "source": [
    "## 悬挂式缩进\n",
    "\n",
    "首行的缩进和其它行的缩进可以独立控制，从而可以实现悬挂式缩进。其中的缩进符也可以是非空白符。"
   ]
  },
  {
   "cell_type": "code",
   "execution_count": 15,
   "metadata": {},
   "outputs": [
    {
     "name": "stdout",
     "output_type": "stream",
     "text": [
      "The textwrap module can be used to format text for\n",
      "    output in situations where pretty-printing is\n",
      "    desired.  It offers programmatic functionality\n",
      "    similar to the paragraph wrapping or filling\n",
      "    features found in many text editors.\n"
     ]
    }
   ],
   "source": [
    "import textwrap\n",
    "\n",
    "dedented_text = textwrap.dedent(sample_text).strip()\n",
    "print textwrap.fill(dedented_text,\n",
    "                   initial_indent='',\n",
    "                   subsequent_indent=' '*4,\n",
    "                   width=50,\n",
    "                   )"
   ]
  }
 ],
 "metadata": {
  "kernelspec": {
   "display_name": "Python 2",
   "language": "python",
   "name": "python2"
  },
  "language_info": {
   "codemirror_mode": {
    "name": "ipython",
    "version": 2
   },
   "file_extension": ".py",
   "mimetype": "text/x-python",
   "name": "python",
   "nbconvert_exporter": "python",
   "pygments_lexer": "ipython2",
   "version": "2.7.12"
  }
 },
 "nbformat": 4,
 "nbformat_minor": 2
}
