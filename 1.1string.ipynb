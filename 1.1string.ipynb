{
 "cells": [
  {
   "cell_type": "markdown",
   "metadata": {},
   "source": [
    "# Python 2 标准库示例：1.1 String-文本常量和模板\n",
    "\n",
    "Python 2.0 之前，通常使用 *string* 模块中的函数来处理文本（已过时），没有使用 *string* 对象的方法。\n",
    "\n",
    "Python 2.4 及之后的程序可能会使用 *string.Template* 来参数化字符串，即将动态数值插入到文本中。\n",
    "\n",
    "*textwrap* 模块中的工具用于格式化文本段，如限制文本宽度，添加缩进，插入换行以实现折行功能等。\n",
    "\n",
    "*string* 对象支持内置的相等和排序比较操作，除此之外，标准库中还包含 2 个与文本值比较相关的模块。*re* 是一个完整的正则表达式库，用 C 实现。它适于在大数据集中进行子串查询和模式匹配。\n",
    "\n",
    "*difflib* 模块能计算出两个文本序列间的实际不同处，如新增、删除、修改等各部分。我们可以利用 *difflib* 中的比较函数的输出，来反映文本随时间的修改情况。\n",
    "\n",
    "## string--文本常量和模板 \n",
    "\n",
    "**目的**: 包含用于处理文本的常量和类。\n",
    "**Python 版本**: 1.4+\n",
    "\n",
    "自 2.0 开始，之前在 *string* 模块中实现的函数都迁移到了 *str* 和 *unicode* 对象中，作为方法呈现。*string* 模块的相应函数已经过时，会到 Python 3.0 时删除。\n",
    "\n",
    "*string* 模块中还保留一些有用的常量和类，用于处理 *string* 和 *unicode* 对象。\n",
    "\n",
    "###  函数\n",
    "\n",
    "*capwords()* 和 *maketrans()* 这两个函数没有从 *string* 中移除。\n",
    "\n",
    "*capwords()* 函数将字符串中每个字的首字母大写。"
   ]
  },
  {
   "cell_type": "code",
   "execution_count": 21,
   "metadata": {},
   "outputs": [
    {
     "name": "stdout",
     "output_type": "stream",
     "text": [
      "The quick brown fox jumped over the lazy dog.\n",
      "The Quick Brown Fox Jumped Over The Lazy Dog.\n"
     ]
    }
   ],
   "source": [
    "import string\n",
    "\n",
    "s = 'The quick brown fox jumped over the lazy dog.'\n",
    "\n",
    "print s\n",
    "print string.capwords(s)"
   ]
  },
  {
   "cell_type": "markdown",
   "metadata": {},
   "source": [
    "其作用等于：先调用 *split()*，再将每个字的首字母变大写，然后调用 *join()* 组合回文本。\n",
    "\n",
    "*maketrans()* 函数会先创建一个转换表，然后 *translate()* 方法会通过查询该转换表，将一个字符转换成另一个字符。这种方式比多次调用 *replace()* 便捷。"
   ]
  },
  {
   "cell_type": "code",
   "execution_count": 22,
   "metadata": {},
   "outputs": [
    {
     "name": "stdout",
     "output_type": "stream",
     "text": [
      "The quick brown fox jumped over the lazy dog.\n",
      "Th3 qu1ck 620wn f0x jum93d 0v32 7h3 142y d06.\n"
     ]
    }
   ],
   "source": [
    "import string\n",
    "\n",
    "leet = string.maketrans('abegiloprstz', '463611092572')\n",
    "\n",
    "s = 'The quick brown fox jumped over the lazy dog.'\n",
    "\n",
    "print s\n",
    "print s.translate(leet)"
   ]
  },
  {
   "cell_type": "markdown",
   "metadata": {},
   "source": [
    "上面例子中，e->3, i->1,b->6,...\n",
    "\n",
    "###  模板\n",
    "\n",
    "文本模板在 Python 2.4 (PEP 292) 时引入。使用 *string.Template* 时，变量标识前加 \\$，如 \\$var，必要时，也可加 {}，以与周围文本区分，如 \\${var}。"
   ]
  },
  {
   "cell_type": "code",
   "execution_count": 23,
   "metadata": {},
   "outputs": [
    {
     "name": "stdout",
     "output_type": "stream",
     "text": [
      "TEMPLATE: \n",
      "Variable: foo\n",
      "Escape: $\n",
      "Variable in text: fooiable\n",
      "\n",
      "INTERPOLATION:  \n",
      "Variable: foo\n",
      "Escape: %\n",
      "Variable in text: foosiable\n",
      "\n"
     ]
    }
   ],
   "source": [
    "import string\n",
    "\n",
    "values = {'var': 'foo'}\n",
    "\n",
    "t = string.Template(\"\"\"\n",
    "Variable: $var\n",
    "Escape: $$\n",
    "Variable in text: ${var}iable\n",
    "\"\"\")\n",
    "\n",
    "print 'TEMPLATE:', t.substitute(values)\n",
    "\n",
    "s = \"\"\"\n",
    "Variable: %(var)s\n",
    "Escape: %%\n",
    "Variable in text: %(var)ssiable\n",
    "\"\"\"\n",
    "\n",
    "print 'INTERPOLATION: ', s % values"
   ]
  },
  {
   "cell_type": "markdown",
   "metadata": {},
   "source": [
    "上面的例子中，触发字符(`$` 和 `%`) 都通过重复两次实现转义。\n",
    "\n",
    "模板和字符串标准修改间的一个关键不同是：模板的参数不考虑类型，它们的值都会预先转化成字符串后，再插入结果中。并且没有格式化选项，比如无法控制浮点数值的小数表示个数。\n",
    "\n",
    "但是，模板的一个好处是，使用 *safe_substitute()* 方法时，如果没有为模板提供足够的参数值，也不会抛出异常，缺少值的变量表达式会在结果中原样保留。"
   ]
  },
  {
   "cell_type": "code",
   "execution_count": 24,
   "metadata": {},
   "outputs": [
    {
     "name": "stdout",
     "output_type": "stream",
     "text": [
      "substitute():  ERROR: 'missing'\n",
      "safe_substitute():  foo is here but $missing is not provided\n"
     ]
    }
   ],
   "source": [
    "import string\n",
    "\n",
    "values = {'var': 'foo'}\n",
    "\n",
    "t = string.Template(\"$var is here but $missing is not provided\")\n",
    "\n",
    "try:\n",
    "    print 'substitute(): ', t.substitute(values)\n",
    "except KeyError, err:\n",
    "    print 'ERROR:', str(err)\n",
    "    \n",
    "print 'safe_substitute(): ', t.safe_substitute(values)"
   ]
  },
  {
   "cell_type": "markdown",
   "metadata": {},
   "source": [
    "### 1.1.3  高级模板\n",
    "\n",
    "*string.Template* 类通过正则表达式来查找变量名，因此可以通过修改类属性 *delimiter* 和 *idpattern* 来修改。"
   ]
  },
  {
   "cell_type": "code",
   "execution_count": 25,
   "metadata": {},
   "outputs": [
    {
     "name": "stdout",
     "output_type": "stream",
     "text": [
      "Modified ID pattern:\n",
      "\n",
      "    Delimiter: %\n",
      "    Replaced: replaced\n",
      "    Ignored: %notunderscored\n",
      "    \n"
     ]
    }
   ],
   "source": [
    "import string\n",
    "\n",
    "class MyTemplate(string.Template):\n",
    "    delimiter = '%'\n",
    "    idpattern = '[a-z]+_[a-z]+'\n",
    "    \n",
    "values = {'with_underscore': 'replaced',\n",
    "         'notunderscored': 'not replaced',\n",
    "         }\n",
    "\n",
    "t = MyTemplate('''\n",
    "    Delimiter: %%\n",
    "    Replaced: %with_underscore\n",
    "    Ignored: %notunderscored\n",
    "    ''')\n",
    "\n",
    "print 'Modified ID pattern:'\n",
    "print t.safe_substitute(values)"
   ]
  },
  {
   "cell_type": "markdown",
   "metadata": {},
   "source": [
    "上例中，模板的分隔符修改为了 %, 变量名通过 idpattern 限制为了必须包含有下划线字符。\n",
    "\n",
    "对于更复杂的情况，可以重载 *pattern* 类属性实现。提供的 *pattern* 这个正则表达式必须包含 4 个命名组，来匹配获取：转义的分隔符，命名变量，带花括号版本的变量名，及任何无效的分隔符模式。"
   ]
  },
  {
   "cell_type": "code",
   "execution_count": 26,
   "metadata": {},
   "outputs": [
    {
     "name": "stdout",
     "output_type": "stream",
     "text": [
      "\n",
      "    \\$(?:\n",
      "      (?P<escaped>\\$) |   # Escape sequence of two delimiters\n",
      "      (?P<named>[_a-z][_a-z0-9]*)      |   # delimiter and a Python identifier\n",
      "      {(?P<braced>[_a-z][_a-z0-9]*)}   |   # delimiter and a braced identifier\n",
      "      (?P<invalid>)              # Other ill-formed delimiter exprs\n",
      "    )\n",
      "    \n"
     ]
    }
   ],
   "source": [
    "import string\n",
    "\n",
    "t = string.Template('$var')\n",
    "print t.pattern.pattern"
   ]
  },
  {
   "cell_type": "markdown",
   "metadata": {},
   "source": [
    "*t.pattern* 是已编译版本的正则表达式，源字符串版本是 *t.pattern.pattern*。\n",
    "\n",
    "下面的例子中定义了一个新的 *pattern*，以使用 *{{var}}* 这种变量语法。"
   ]
  },
  {
   "cell_type": "code",
   "execution_count": 27,
   "metadata": {},
   "outputs": [
    {
     "name": "stdout",
     "output_type": "stream",
     "text": [
      "MATCHES: [('{{', '', '', ''), ('', 'var', '', '')]\n",
      "SUBSTITUTED: \n",
      "{{\n",
      "replacement\n",
      "\n"
     ]
    }
   ],
   "source": [
    "import re\n",
    "import string\n",
    "\n",
    "class MyTemplate(string.Template):\n",
    "    delimiter = '{{'\n",
    "    pattern = r'''\n",
    "    \\{\\{(?:\n",
    "      (?P<escaped>\\{\\{)|\n",
    "      (?P<named>[_a-z][_a-z0-9]*)\\}\\}|\n",
    "      (?P<braced>[_a-z][_a-z0-9]*)\\}\\}|\n",
    "      (?P<invalid>)\n",
    "    )\n",
    "    '''\n",
    "    \n",
    "t = MyTemplate('''\n",
    "{{{{\n",
    "{{var}}\n",
    "''')\n",
    "\n",
    "print 'MATCHES:', t.pattern.findall(t.template)\n",
    "print 'SUBSTITUTED:', t.safe_substitute(var='replacement')"
   ]
  },
  {
   "cell_type": "markdown",
   "metadata": {},
   "source": [
    "# 更多资源\n",
    "\n",
    "+ [string 标准库文档](https://docs.python.org/2.7/library/string.html?highlight=string#module-string)\n",
    "+ [PEP 292](www.python.org/dev/peps/pep-0292)\n",
    "+ [1337](https://en.wikipedia.org/wiki/Leet), \"Leetspeak\"，另一种字母表\n",
    "\n",
    "# 参考\n",
    "\n",
    "+ [The Python Standard Library By Example: 1.1 String-Text Constants and Templates](https://www.amazon.com/Python-Standard-Library-Example/dp/0321767349)"
   ]
  }
 ],
 "metadata": {
  "kernelspec": {
   "display_name": "Python 2",
   "language": "python",
   "name": "python2"
  },
  "language_info": {
   "codemirror_mode": {
    "name": "ipython",
    "version": 2
   },
   "file_extension": ".py",
   "mimetype": "text/x-python",
   "name": "python",
   "nbconvert_exporter": "python",
   "pygments_lexer": "ipython2",
   "version": "2.7.12"
  }
 },
 "nbformat": 4,
 "nbformat_minor": 2
}
