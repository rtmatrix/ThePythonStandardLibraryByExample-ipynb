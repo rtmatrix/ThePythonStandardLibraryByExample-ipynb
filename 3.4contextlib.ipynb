{
 "cells": [
  {
   "cell_type": "markdown",
   "metadata": {},
   "source": [
    "# Python 2 标准库示例：3.4 contextlib-上下文管理工具\n",
    "\n",
    "\n",
    "**目的**: 创建和使用上下文管理器的工具。\n",
    "\n",
    "**Python 版本**: 2.5+。\n",
    "\n",
    "*contextlib* 模块结合 *with* 语句使用上下文管理器。由于 *with* 语句在 Python 2.6 中引入，若要在 Python 2.5 中使用，则需要从 `__future__` 中导入。\n",
    "\n",
    "\n",
    "# Context Manager API\n",
    "\n",
    "一个 *context manager* 负责一个代码段中的一个资源，它在当进入代码段时创建，并在退出代码段时被清除。例如，文件对象支持 *context manager API*，从而确保了如下的代码段中，当完成读写操作后，文件会被自动关闭。"
   ]
  },
  {
   "cell_type": "code",
   "execution_count": null,
   "metadata": {
    "collapsed": true
   },
   "outputs": [],
   "source": [
    "with open('/tmp/pymotw.txt', 'wt') as f:\n",
    "    f.write('contents go here')\n",
    "# file is automatically closed"
   ]
  },
  {
   "cell_type": "markdown",
   "metadata": {},
   "source": [
    "上下文管理器对象通过 *with* 语句启用，主要有 2 个方法。`__enter()__` 方法在执行流进入 *with* 的代码段时运行，它返回的一个对象会在当前上下文中使用。当执行流离开代码段时，会调用 `__exit__()` 来清理使用的资源。"
   ]
  },
  {
   "cell_type": "code",
   "execution_count": 1,
   "metadata": {},
   "outputs": [
    {
     "name": "stdout",
     "output_type": "stream",
     "text": [
      "__init__()\n",
      "__enter__()\n",
      "Doing work in the context\n",
      "__exit__()\n"
     ]
    }
   ],
   "source": [
    "class Context(object):\n",
    "    def __init__(self):\n",
    "        print '__init__()'\n",
    "        \n",
    "    def __enter__(self):\n",
    "        print '__enter__()'\n",
    "        return self\n",
    "    \n",
    "    def __exit__(self, exc_type, exc_val, exc_tb):\n",
    "        print '__exit__()'\n",
    "        \n",
    "with Context():\n",
    "    print 'Doing work in the context'"
   ]
  },
  {
   "cell_type": "markdown",
   "metadata": {},
   "source": [
    "`__enter__()` 方法返回的对象，可通过 *with* 语句的 *as* 从句关联到一个变量，如下。"
   ]
  },
  {
   "cell_type": "code",
   "execution_count": 3,
   "metadata": {},
   "outputs": [
    {
     "name": "stdout",
     "output_type": "stream",
     "text": [
      "Context.__init__()\n",
      "Context.__enter__()\n",
      "WithinContext.__init__(<__main__.Context object at 0x7fdbc327cfd0>)\n",
      "WithinContext.do_something()\n",
      "Context.__exit__()\n"
     ]
    }
   ],
   "source": [
    "class WithinContext(object):\n",
    "    def __init__(self, context):\n",
    "        print 'WithinContext.__init__(%s)' % context\n",
    "        \n",
    "    def do_something(self):\n",
    "        print 'WithinContext.do_something()'\n",
    "        \n",
    "    def __del__(self):\n",
    "        print 'WithinContext.__del__'\n",
    "        \n",
    "class Context(object):\n",
    "    def __init__(self):\n",
    "        print 'Context.__init__()'\n",
    "        \n",
    "    def __enter__(self):\n",
    "        print 'Context.__enter__()'\n",
    "        return WithinContext(self)\n",
    "    \n",
    "    def __exit__(self, exc_type, exc_val, exc_tb):\n",
    "        print 'Context.__exit__()'\n",
    "        \n",
    "with Context() as c:\n",
    "    c.do_something()"
   ]
  },
  {
   "cell_type": "markdown",
   "metadata": {},
   "source": [
    "如果 *with* 代码段中抛出异常， 则 `__exit__()` 方法的参数会接收到异常的详细信息。"
   ]
  },
  {
   "cell_type": "code",
   "execution_count": 5,
   "metadata": {},
   "outputs": [
    {
     "name": "stdout",
     "output_type": "stream",
     "text": [
      "__init__(True)\n",
      "__enter__()\n",
      "__exit__()\n",
      " exc_type= <type 'exceptions.RuntimeError'>\n",
      " exc_val= error message handled\n",
      " exc_tb= <traceback object at 0x7fdbadeeab00>\n",
      "\n",
      "__init__(False)\n",
      "__enter__()\n",
      "__exit__()\n",
      " exc_type= <type 'exceptions.RuntimeError'>\n",
      " exc_val= error message propagated\n",
      " exc_tb= <traceback object at 0x7fdbadeeac68>\n"
     ]
    },
    {
     "ename": "RuntimeError",
     "evalue": "error message propagated",
     "output_type": "error",
     "traceback": [
      "\u001b[0;31m---------------------------------------------------------------------------\u001b[0m",
      "\u001b[0;31mRuntimeError\u001b[0m                              Traceback (most recent call last)",
      "\u001b[0;32m<ipython-input-5-45d0ff46304f>\u001b[0m in \u001b[0;36m<module>\u001b[0;34m()\u001b[0m\n\u001b[1;32m     21\u001b[0m \u001b[0;34m\u001b[0m\u001b[0m\n\u001b[1;32m     22\u001b[0m \u001b[0;32mwith\u001b[0m \u001b[0mContext\u001b[0m\u001b[0;34m(\u001b[0m\u001b[0mFalse\u001b[0m\u001b[0;34m)\u001b[0m\u001b[0;34m:\u001b[0m\u001b[0;34m\u001b[0m\u001b[0m\n\u001b[0;32m---> 23\u001b[0;31m     \u001b[0;32mraise\u001b[0m \u001b[0mRuntimeError\u001b[0m\u001b[0;34m(\u001b[0m\u001b[0;34m'error message propagated'\u001b[0m\u001b[0;34m)\u001b[0m\u001b[0;34m\u001b[0m\u001b[0m\n\u001b[0m",
      "\u001b[0;31mRuntimeError\u001b[0m: error message propagated"
     ]
    }
   ],
   "source": [
    "class Context(object):\n",
    "    def __init__(self, handle_error):\n",
    "        print '__init__(%s)' % handle_error\n",
    "        self.handle_error = handle_error\n",
    "        \n",
    "    def __enter__(self):\n",
    "        print '__enter__()'\n",
    "        return self\n",
    "    \n",
    "    def __exit__(self, exc_type, exc_val, exc_tb):\n",
    "        print '__exit__()'\n",
    "        print ' exc_type=', exc_type\n",
    "        print ' exc_val=', exc_val\n",
    "        print ' exc_tb=', exc_tb\n",
    "        return self.handle_error\n",
    "    \n",
    "with Context(True):\n",
    "    raise RuntimeError('error message handled')\n",
    "    \n",
    "print\n",
    "\n",
    "with Context(False):\n",
    "    raise RuntimeError('error message propagated')"
   ]
  },
  {
   "cell_type": "markdown",
   "metadata": {},
   "source": [
    "`__exit__()` 返回 `True` 表示已处理了异常，不向上传递异常，而返回 `False` 表示会向上传递异常。\n",
    "\n",
    "# 用 generator 实现上下文管理器\n",
    "\n",
    "定义上下文管理器的传统方法是实现 `__enter__()` 和 `__exit__()`。但也可以通过 *contextmanager()* 装饰器将一个 *generator* 函数直接转变成一个上下文管理器。"
   ]
  },
  {
   "cell_type": "code",
   "execution_count": 7,
   "metadata": {},
   "outputs": [
    {
     "name": "stdout",
     "output_type": "stream",
     "text": [
      "Normal:\n",
      " entering\n",
      " inside with statement: {}\n",
      " exiting\n",
      "\n",
      "Handled error:\n",
      " entering\n",
      " Error: showing example of handling an error\n",
      " exiting\n",
      "\n",
      "Unhandled error:\n",
      " entering\n",
      " exiting\n"
     ]
    },
    {
     "ename": "ValueError",
     "evalue": "this exception is not handled",
     "output_type": "error",
     "traceback": [
      "\u001b[0;31m---------------------------------------------------------------------------\u001b[0m",
      "\u001b[0;31mValueError\u001b[0m                                Traceback (most recent call last)",
      "\u001b[0;32m<ipython-input-7-ee829d1776a7>\u001b[0m in \u001b[0;36m<module>\u001b[0;34m()\u001b[0m\n\u001b[1;32m     21\u001b[0m \u001b[0;32mprint\u001b[0m \u001b[0;34m'\\nUnhandled error:'\u001b[0m\u001b[0;34m\u001b[0m\u001b[0m\n\u001b[1;32m     22\u001b[0m \u001b[0;32mwith\u001b[0m \u001b[0mmake_context\u001b[0m\u001b[0;34m(\u001b[0m\u001b[0;34m)\u001b[0m \u001b[0;32mas\u001b[0m \u001b[0mvalue\u001b[0m\u001b[0;34m:\u001b[0m\u001b[0;34m\u001b[0m\u001b[0m\n\u001b[0;32m---> 23\u001b[0;31m     \u001b[0;32mraise\u001b[0m \u001b[0mValueError\u001b[0m\u001b[0;34m(\u001b[0m\u001b[0;34m'this exception is not handled'\u001b[0m\u001b[0;34m)\u001b[0m\u001b[0;34m\u001b[0m\u001b[0m\n\u001b[0m",
      "\u001b[0;31mValueError\u001b[0m: this exception is not handled"
     ]
    }
   ],
   "source": [
    "import contextlib\n",
    "\n",
    "@contextlib.contextmanager\n",
    "def make_context():\n",
    "    print ' entering'            # __enter__\n",
    "    try:\n",
    "        yield {}                 # return from __enter__\n",
    "    except RuntimeError, err:    \n",
    "        print ' Error:', err     # like __exit__ return True, not to propagate.\n",
    "    finally:\n",
    "        print ' exiting'         # __exit__\n",
    "        \n",
    "print 'Normal:'\n",
    "with make_context() as value:\n",
    "    print ' inside with statement:', value\n",
    "    \n",
    "print '\\nHandled error:'\n",
    "with make_context() as value:\n",
    "    raise RuntimeError('showing example of handling an error')\n",
    "    \n",
    "print '\\nUnhandled error:'\n",
    "with make_context() as value:\n",
    "    raise ValueError('this exception is not handled')"
   ]
  },
  {
   "cell_type": "markdown",
   "metadata": {},
   "source": [
    "*generator* 中 *yield* 前的代码用来初始化上下文管理器，并只 *yield* 一次，*yield* 出的值相当于 `__enter__` 的返回值。`try, except` 中提及的异常会被处理，不会向上传递，即等同 `__exit__` 返回 True。\n",
    "\n",
    "# 嵌套上下文\n",
    "\n",
    "使用 *nested()* 可在一个 *with* 语句中使用嵌套的上下文。"
   ]
  },
  {
   "cell_type": "code",
   "execution_count": 8,
   "metadata": {},
   "outputs": [
    {
     "name": "stdout",
     "output_type": "stream",
     "text": [
      "entering: A\n",
      "entering: B\n",
      "inside with statement: A B\n",
      "exiting: B\n",
      "exiting: A\n"
     ]
    },
    {
     "name": "stderr",
     "output_type": "stream",
     "text": [
      "/usr/local/lib/python2.7/dist-packages/ipykernel_launcher.py:10: DeprecationWarning: With-statements now directly support multiple context managers\n",
      "  # Remove the CWD from sys.path while we load stuff.\n"
     ]
    }
   ],
   "source": [
    "import contextlib\n",
    "\n",
    "@contextlib.contextmanager\n",
    "def make_context(name):\n",
    "    print 'entering:', name\n",
    "    yield name\n",
    "    print 'exiting:', name\n",
    "    \n",
    "with contextlib.nested(make_context('A'),\n",
    "                      make_context('B')) as (A, B):\n",
    "    print 'inside with statement:', A, B"
   ]
  },
  {
   "cell_type": "markdown",
   "metadata": {},
   "source": [
    "上例中，注意到进入上下文的顺序和离开的正好相反。在 Python 2.7 中， *nested()* 已过时，因为 *with* 现已直接支持嵌套，如下："
   ]
  },
  {
   "cell_type": "code",
   "execution_count": 9,
   "metadata": {},
   "outputs": [
    {
     "name": "stdout",
     "output_type": "stream",
     "text": [
      "entering: A\n",
      "entering: B\n",
      "inside with statement: A B\n",
      "exiting: B\n",
      "exiting: A\n"
     ]
    }
   ],
   "source": [
    "import contextlib\n",
    "\n",
    "@contextlib.contextmanager\n",
    "def make_context(name):\n",
    "    print 'entering:', name\n",
    "    yield name\n",
    "    print 'exiting:', name\n",
    "    \n",
    "with make_context('A') as A, make_context('B') as B:\n",
    "    print 'inside with statement:', A, B"
   ]
  },
  {
   "cell_type": "markdown",
   "metadata": {},
   "source": [
    "# 关闭打开的句柄\n",
    "\n",
    "*file* 类支持 *context manager API*，但有些旧的类如 `urllib.urlopen()` 返回的对象，都是用 `close()` 方法关闭，但不支持 *context manager API*。\n",
    "\n",
    "可以使用 *closing()* 为这些对象创建一个上下文，确保退出时会调用 `close()`。"
   ]
  },
  {
   "cell_type": "code",
   "execution_count": 10,
   "metadata": {},
   "outputs": [
    {
     "name": "stdout",
     "output_type": "stream",
     "text": [
      "Normal Example:\n",
      " __init__()\n",
      " inside with statement\n",
      " close()\n",
      "\n",
      "Error handling example:\n",
      " __init__()\n",
      " rasing from inside with statement\n",
      " close()\n",
      " Had an error: error message\n"
     ]
    }
   ],
   "source": [
    "import contextlib\n",
    "\n",
    "class Door(object):\n",
    "    def __init__(self):\n",
    "        print ' __init__()'\n",
    "        \n",
    "    def close(self):\n",
    "        print ' close()'\n",
    "        \n",
    "print 'Normal Example:'\n",
    "with contextlib.closing(Door()) as door:\n",
    "    print ' inside with statement'\n",
    "    \n",
    "print '\\nError handling example:'\n",
    "try:\n",
    "    with contextlib.closing(Door()) as door:\n",
    "        print ' rasing from inside with statement'\n",
    "        raise RuntimeError('error message')\n",
    "except Exception, err:\n",
    "    print ' Had an error:', err"
   ]
  },
  {
   "cell_type": "markdown",
   "metadata": {},
   "source": [
    "# 更多资源\n",
    "\n",
    "+ [contextlib](https://docs.python.org/2/library/contextlib.html) Standard library documentation for this module."
   ]
  }
 ],
 "metadata": {
  "kernelspec": {
   "display_name": "Python 2",
   "language": "python",
   "name": "python2"
  },
  "language_info": {
   "codemirror_mode": {
    "name": "ipython",
    "version": 2
   },
   "file_extension": ".py",
   "mimetype": "text/x-python",
   "name": "python",
   "nbconvert_exporter": "python",
   "pygments_lexer": "ipython2",
   "version": "2.7.12"
  }
 },
 "nbformat": 4,
 "nbformat_minor": 2
}
