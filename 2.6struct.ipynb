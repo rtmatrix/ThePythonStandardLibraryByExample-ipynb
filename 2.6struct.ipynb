{
 "cells": [
  {
   "cell_type": "markdown",
   "metadata": {},
   "source": [
    "# Python 2 标准库示例：2.6 struct-二进制数据结构\n",
    "\n",
    "\n",
    "**目的**: 字节字符串与二进制数据之间的转换。\n",
    "\n",
    "**Python 版本**: 1.4+\n",
    "\n",
    "*struct* 模块实现了 Python 数值与用字节字符串表示的 C struct 数据间的转换。\n",
    "\n",
    "可以采用 *struct* 模块级的函数进行转换工作，也可以先创建一个 *Struct* 类实例，用其方法进行操作。\n",
    "\n",
    "存储格式指示串和正则表达式类似，也会进行预编译。\n",
    "\n",
    "\n",
    "# 打包与解包\n",
    "\n",
    "*struct* 通过 *pack()* 将 Python 数值打包成字节字符串，用 *unpack()* 将字节中解包回 Python 数值。\n",
    "\n",
    "下面的例子中，存储格式指示串指明了： 1 个整数，1 个 2 字符的字符串，1 个浮点数。"
   ]
  },
  {
   "cell_type": "code",
   "execution_count": 4,
   "metadata": {},
   "outputs": [
    {
     "name": "stdout",
     "output_type": "stream",
     "text": [
      "Original values: (1, 'ab', 2.7)\n",
      "Format string: I 2s f\n",
      "Uses: 12 bytes\n",
      "Packed values: 0100000061620000cdcc2c40\n"
     ]
    }
   ],
   "source": [
    "import struct\n",
    "import binascii\n",
    "\n",
    "values = (1, 'ab', 2.7)\n",
    "s = struct.Struct('I 2s f')\n",
    "packed_data = s.pack(*values)\n",
    "\n",
    "print 'Original values:', values\n",
    "print 'Format string:', s.format\n",
    "print 'Uses:', s.size, 'bytes' # s.size = struct.calcsize(s.format)\n",
    "print 'Packed values:', binascii.hexlify(packed_data)"
   ]
  },
  {
   "cell_type": "markdown",
   "metadata": {},
   "source": [
    "使用 *unpack()* 进行解包。"
   ]
  },
  {
   "cell_type": "code",
   "execution_count": 5,
   "metadata": {},
   "outputs": [
    {
     "name": "stdout",
     "output_type": "stream",
     "text": [
      "Unpacked values: (1, 'ab', 2.700000047683716)\n"
     ]
    }
   ],
   "source": [
    "import struct\n",
    "import binascii\n",
    "\n",
    "packed_data = binascii.unhexlify('0100000061620000cdcc2c40')\n",
    "\n",
    "s = struct.Struct('I 2s f')\n",
    "unpacked_data = s.unpack(packed_data)\n",
    "print 'Unpacked values:', unpacked_data"
   ]
  },
  {
   "cell_type": "markdown",
   "metadata": {},
   "source": [
    "注意到上面 *unpack()* 回来后浮点数值的变化。\n",
    "\n",
    "\n",
    "# 格式字符串\n",
    "\n",
    "格式字符串是一种用于指定封包解包数据存储布局的一种机制。它由格式字符组成，而格式字符指定封包解包数据的类型。同时，还包含一些特殊字符，用来控制字节序、大小和对齐。\n",
    "\n",
    "## 字节序、大小和对齐\n",
    "\n",
    "C 类型默认使用本机的本地格式和字节序表示，并会使用填充字节来保持对齐。\n",
    "\n",
    "格式字符串的第 1 个字符可用来表示封包数据的字节序、大小和对齐，和字符的意义如下：\n",
    "\n",
    "字符 | 字节序              | 大小     | 对齐\n",
    "-----|\n",
    "`@`  | native              | native   | native\n",
    "`=`  | native              | standard | none\n",
    "`<`  | little-endian       | standard | none\n",
    "`>`  | big-endian          | standard | none\n",
    "`!`  | network(big-endian) | standard | none\n",
    "\n",
    "如果第 1 个字符不是上表中的字符，则默认即为 `@`。\n",
    "\n",
    "下面是一个例子。"
   ]
  },
  {
   "cell_type": "code",
   "execution_count": 6,
   "metadata": {},
   "outputs": [
    {
     "name": "stdout",
     "output_type": "stream",
     "text": [
      "Original values: (1, 'ab', 2.7)\n",
      "\n",
      "Format string: @ I 2s f for native, native\n",
      "Uses: 12 bytes\n",
      "Packed Value: 0100000061620000cdcc2c40\n",
      "Unpacked Value: (1, 'ab', 2.700000047683716)\n",
      "\n",
      "Format string: = I 2s f for native, standard\n",
      "Uses: 10 bytes\n",
      "Packed Value: 010000006162cdcc2c40\n",
      "Unpacked Value: (1, 'ab', 2.700000047683716)\n",
      "\n",
      "Format string: < I 2s f for little-endian\n",
      "Uses: 10 bytes\n",
      "Packed Value: 010000006162cdcc2c40\n",
      "Unpacked Value: (1, 'ab', 2.700000047683716)\n",
      "\n",
      "Format string: > I 2s f for big-endian\n",
      "Uses: 10 bytes\n",
      "Packed Value: 000000016162402ccccd\n",
      "Unpacked Value: (1, 'ab', 2.700000047683716)\n",
      "\n",
      "Format string: ! I 2s f for network\n",
      "Uses: 10 bytes\n",
      "Packed Value: 000000016162402ccccd\n",
      "Unpacked Value: (1, 'ab', 2.700000047683716)\n"
     ]
    }
   ],
   "source": [
    "import struct\n",
    "import binascii\n",
    "\n",
    "values = (1, 'ab', 2.7)\n",
    "print 'Original values:', values\n",
    "endianness = [\n",
    "    ('@', 'native, native'),\n",
    "    ('=', 'native, standard'),\n",
    "    ('<', 'little-endian'),\n",
    "    ('>', 'big-endian'),\n",
    "    ('!', 'network'),\n",
    "]\n",
    "\n",
    "for code, name in endianness:\n",
    "    s = struct.Struct(code + ' I 2s f')\n",
    "    packed_data = s.pack(*values)\n",
    "    print\n",
    "    print 'Format string:', s.format, 'for', name\n",
    "    print 'Uses:', s.size, 'bytes'\n",
    "    print 'Packed Value:', binascii.hexlify(packed_data)\n",
    "    print 'Unpacked Value:', s.unpack(packed_data)"
   ]
  },
  {
   "cell_type": "markdown",
   "metadata": {},
   "source": [
    "## 格式字符\n",
    "\n",
    "C 与 Python 值之间的转换关系通过格式字符指定。下表中的 **标准大小** 列表示封包数据用标准大小是的字节数（即格式字符串首字符为 `<`, `>`, `!`, `=` 时）。\n",
    "\n",
    "下面是格式字符表。\n",
    "\n",
    "格式 | C 类型             | Python 类型       | 标准大小\n",
    "-----|\n",
    "x    | 填充字节           | 无值              |\n",
    "c    | char               | 长度为 1 的字符串 | 1\n",
    "b    | signed char        | integer           | 1\n",
    "B    | unsigned char      | integer           | 1\n",
    "?    | \\_Bool             | bool              | 1\n",
    "h    | short              | integer           | 2\n",
    "H    | unsigned short     | integer           | 2\n",
    "i    | int                | integer           | 4\n",
    "I    | unsigned int       | integer           | 4\n",
    "l    | long               | integer           | 4\n",
    "L    | unsigned long      | integer           | 4\n",
    "q    | long long          | integer           | 8\n",
    "Q    | unsigned long long | integer           | 8\n",
    "f    | float              | float             | 4\n",
    "d    | double             | float             | 8\n",
    "s    | char[]             | string            |\n",
    "p    | char[]             | string            |\n",
    "P    | void *             | integer           |\n",
    "\n",
    "\n",
    "每个格式字符前都可加表示重复次数的数字（之间不能有空白符），比如 `4h` 表示 `hhhh`。而格式字符间的空白符都会被忽略。\n",
    "\n",
    "对于 `s` 来说，前面的数字表示字符串的大小，而不像其它格式字符那样表示重复次数。因此 `10s` 表示一个 10 字节的字符串，而 `10c` 表示 10 个字符。\n",
    "\n",
    "\n",
    "# 缓冲区\n",
    "\n",
    "二进制封包数据一般用于提高性能，如用于和扩展模块的数据交互。在这些情况下，可为 `Struct` 对象预先分配一个缓冲区来进一步优化。*pack_into()* 和 *unpack_from()* 方法支持对缓冲区操作。"
   ]
  },
  {
   "cell_type": "code",
   "execution_count": 7,
   "metadata": {},
   "outputs": [
    {
     "name": "stdout",
     "output_type": "stream",
     "text": [
      "Original: (1, 'ab', 2.7)\n",
      "\n",
      "ctypes string buffer\n",
      "Before: 000000000000000000000000\n",
      "After: 0100000061620000cdcc2c40\n",
      "Unpacked: (1, 'ab', 2.700000047683716)\n",
      "\n",
      "array\n",
      "Before: 000000000000000000000000\n",
      "After: 0100000061620000cdcc2c40\n",
      "Unpacked: (1, 'ab', 2.700000047683716)\n"
     ]
    }
   ],
   "source": [
    "import struct\n",
    "import binascii\n",
    "\n",
    "s = struct.Struct('I 2s f')\n",
    "values = (1, 'ab', 2.7)\n",
    "print 'Original:', values\n",
    "\n",
    "print\n",
    "print 'ctypes string buffer'\n",
    "\n",
    "import ctypes\n",
    "b = ctypes.create_string_buffer(s.size)\n",
    "print 'Before:', binascii.hexlify(b.raw)\n",
    "s.pack_into(b, 0, *values)\n",
    "print 'After:', binascii.hexlify(b.raw)\n",
    "print 'Unpacked:', s.unpack_from(b, 0)\n",
    "\n",
    "print\n",
    "print 'array'\n",
    "\n",
    "import array\n",
    "a = array.array('c', '\\0' * s.size)\n",
    "print 'Before:', binascii.hexlify(a)\n",
    "s.pack_into(a, 0, *values)\n",
    "print 'After:', binascii.hexlify(a)\n",
    "print 'Unpacked:', s.unpack_from(a, 0)"
   ]
  },
  {
   "cell_type": "markdown",
   "metadata": {},
   "source": [
    "# 更多资源\n",
    "\n",
    "+ [struct](https://docs.python.org/2/library/struct.html) The standard library documentation for this module.\n",
    "+ [binascii](http://docs.python.org/2/library/binascii.html) The binascii module, for producing ASCII representations of binary data.\n",
    "+ [Endianness](http://en.wikipedia.org/wiki/Endianness) Wikipedia article that provides an explanation of byte order and endianness in encoding."
   ]
  }
 ],
 "metadata": {
  "kernelspec": {
   "display_name": "Python 2",
   "language": "python",
   "name": "python2"
  },
  "language_info": {
   "codemirror_mode": {
    "name": "ipython",
    "version": 2
   },
   "file_extension": ".py",
   "mimetype": "text/x-python",
   "name": "python",
   "nbconvert_exporter": "python",
   "pygments_lexer": "ipython2",
   "version": "2.7.12"
  }
 },
 "nbformat": 4,
 "nbformat_minor": 2
}
