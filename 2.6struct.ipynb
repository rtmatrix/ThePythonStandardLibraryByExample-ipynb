{
 "cells": [
  {
   "cell_type": "markdown",
   "metadata": {},
   "source": [
    "# Python 2 标准库示例：2.6 struct-二进制数据结构\n",
    "\n",
    "\n",
    "**目的**: 字节字符串与二进制数据之间的转换。\n",
    "\n",
    "**Python 版本**: 1.4+\n",
    "\n",
    "*struct* 模块实现了 Python 数值与用字节字符串表示的 C struct 数据间的转换。\n",
    "\n",
    "可以采用 *struct* 模块级的函数进行转换工作，也可以先创建一个 *Struct* 类实例，用其方法进行操作。\n",
    "\n",
    "存储格式指示串和正则表达式类似，也会进行预编译。\n",
    "\n",
    "\n",
    "# 打包与解包\n",
    "\n",
    "*struct* 通过 *pack()* 将 Python 数值打包成字节字符串，用 *unpack()* 将字节中解包回 Python 数值。\n",
    "\n",
    "下面的例子中，存储格式指示串指明了： 1 个整数，1 个 2 字符的字符串，1 个浮点数。"
   ]
  },
  {
   "cell_type": "code",
   "execution_count": 1,
   "metadata": {},
   "outputs": [
    {
     "name": "stdout",
     "output_type": "stream",
     "text": [
      "Original values: (1, 'ab', 2.7)\n",
      "Format string: I 2s f\n",
      "Uses: 12 bytes\n",
      "Packed values: 0100000061620000cdcc2c40\n"
     ]
    }
   ],
   "source": [
    "import struct\n",
    "import binascii\n",
    "\n",
    "values = (1, 'ab', 2.7)\n",
    "s = struct.Struct('I 2s f')\n",
    "packed_data = s.pack(*values)\n",
    "\n",
    "print 'Original values:', values\n",
    "print 'Format string:', s.format\n",
    "print 'Uses:', s.size, 'bytes' # s.size = struct.calcsize(s.format)\n",
    "print 'Packed values:', binascii.hexlify(packed_data)"
   ]
  },
  {
   "cell_type": "markdown",
   "metadata": {},
   "source": [
    "使用 *unpack()* 进行解包。"
   ]
  },
  {
   "cell_type": "code",
   "execution_count": 2,
   "metadata": {},
   "outputs": [
    {
     "name": "stdout",
     "output_type": "stream",
     "text": [
      "Unpacked values: (1, 'ab', 2.700000047683716)\n"
     ]
    }
   ],
   "source": [
    "import struct\n",
    "import binascii\n",
    "\n",
    "packed_data = binascii.unhexlify('0100000061620000cdcc2c40')\n",
    "\n",
    "s = struct.Struct('I 2s f')\n",
    "unpacked_data = s.unpack(packed_data)\n",
    "print 'Unpacked values:', unpacked_data"
   ]
  },
  {
   "cell_type": "markdown",
   "metadata": {},
   "source": [
    "注意到上面 *unpack()* 回来后浮点数值的变化。\n",
    "\n",
    "\n",
    "# 格式字符串\n",
    "\n",
    "格式字符串是一种用于指定预期数据存储布局的一种机制。它由格式字符组成，而格式字符指定数据的转换类型。\n",
    "\n",
    "下面是格式字符"
   ]
  }
 ],
 "metadata": {
  "kernelspec": {
   "display_name": "Python 2",
   "language": "python",
   "name": "python2"
  },
  "language_info": {
   "codemirror_mode": {
    "name": "ipython",
    "version": 2
   },
   "file_extension": ".py",
   "mimetype": "text/x-python",
   "name": "python",
   "nbconvert_exporter": "python",
   "pygments_lexer": "ipython2",
   "version": "2.7.12"
  }
 },
 "nbformat": 4,
 "nbformat_minor": 2
}
