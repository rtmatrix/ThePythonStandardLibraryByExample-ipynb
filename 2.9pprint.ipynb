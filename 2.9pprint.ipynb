{
 "cells": [
  {
   "cell_type": "markdown",
   "metadata": {},
   "source": [
    "# Python 2 标准库示例：2.9 pprint-美化数据结构输出\n",
    "\n",
    "\n",
    "**目的**: 美化数据结构输出。\n",
    "\n",
    "**Python 版本**: 1.4+。\n",
    "\n",
    "\n",
    "*pprint* 中的格式化器产生的数据结构表示，能被解析器正常解析，并且也非常易读。其输出会尽可以放在同一行上，当有跨行时则会添加适当的缩进。\n",
    "\n",
    "下面是使用的测试数据。"
   ]
  },
  {
   "cell_type": "code",
   "execution_count": 2,
   "metadata": {
    "collapsed": true
   },
   "outputs": [],
   "source": [
    "data = [ (1, { 'a':'A', 'b':'B', 'c':'C', 'd':'D' }),\n",
    "    (2, { 'e':'E', 'f':'F', 'g':'G', 'h':'H',\n",
    "        'i':'I', 'j':'J', 'k':'K', 'l':'L',\n",
    "        }),\n",
    "]"
   ]
  },
  {
   "cell_type": "markdown",
   "metadata": {},
   "source": [
    "# 输出\n",
    "\n",
    "使用该模板的最简单方法是使用 *pprint()* 函数，它将内容输出到作为参数传入的数据源中（默认为 *sys.stdout*)。"
   ]
  },
  {
   "cell_type": "code",
   "execution_count": 3,
   "metadata": {},
   "outputs": [
    {
     "name": "stdout",
     "output_type": "stream",
     "text": [
      "print:\n",
      "[(1, {'a': 'A', 'c': 'C', 'b': 'B', 'd': 'D'}), (2, {'e': 'E', 'g': 'G', 'f': 'F', 'i': 'I', 'h': 'H', 'k': 'K', 'j': 'J', 'l': 'L'})]\n",
      "\n",
      "pprint:\n",
      "[(1, {'a': 'A', 'b': 'B', 'c': 'C', 'd': 'D'}),\n",
      " (2,\n",
      "  {'e': 'E',\n",
      "   'f': 'F',\n",
      "   'g': 'G',\n",
      "   'h': 'H',\n",
      "   'i': 'I',\n",
      "   'j': 'J',\n",
      "   'k': 'K',\n",
      "   'l': 'L'})]\n"
     ]
    }
   ],
   "source": [
    "from pprint import pprint\n",
    "\n",
    "print 'print:'\n",
    "print data\n",
    "print\n",
    "print 'pprint:'\n",
    "pprint(data)"
   ]
  }
 ],
 "metadata": {
  "kernelspec": {
   "display_name": "Python 2",
   "language": "python",
   "name": "python2"
  },
  "language_info": {
   "codemirror_mode": {
    "name": "ipython",
    "version": 2
   },
   "file_extension": ".py",
   "mimetype": "text/x-python",
   "name": "python",
   "nbconvert_exporter": "python",
   "pygments_lexer": "ipython2",
   "version": "2.7.12"
  }
 },
 "nbformat": 4,
 "nbformat_minor": 2
}
