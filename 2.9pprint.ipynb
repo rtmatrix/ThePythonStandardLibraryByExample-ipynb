{
 "cells": [
  {
   "cell_type": "markdown",
   "metadata": {},
   "source": [
    "# Python 2 标准库示例：2.9 pprint-美化数据结构输出\n",
    "\n",
    "\n",
    "**目的**: 美化数据结构输出。\n",
    "\n",
    "**Python 版本**: 1.4+。\n",
    "\n",
    "\n",
    "*pprint* 中的格式化器产生的数据结构表示，能被解析器正常解析，并且也非常易读。其输出会尽可以放在同一行上，当有跨行时则会添加适当的缩进。\n",
    "\n",
    "下面是使用的测试数据。"
   ]
  },
  {
   "cell_type": "code",
   "execution_count": 2,
   "metadata": {
    "collapsed": true
   },
   "outputs": [],
   "source": [
    "data = [ (1, { 'a':'A', 'b':'B', 'c':'C', 'd':'D' }),\n",
    "    (2, { 'e':'E', 'f':'F', 'g':'G', 'h':'H',\n",
    "        'i':'I', 'j':'J', 'k':'K', 'l':'L',\n",
    "        }),\n",
    "]"
   ]
  },
  {
   "cell_type": "markdown",
   "metadata": {},
   "source": [
    "# 输出\n",
    "\n",
    "使用该模板的最简单方法是使用 *pprint()* 函数，它将内容输出到作为参数传入的数据源中（默认为 *sys.stdout*)。"
   ]
  },
  {
   "cell_type": "code",
   "execution_count": 3,
   "metadata": {},
   "outputs": [
    {
     "name": "stdout",
     "output_type": "stream",
     "text": [
      "print:\n",
      "[(1, {'a': 'A', 'c': 'C', 'b': 'B', 'd': 'D'}), (2, {'e': 'E', 'g': 'G', 'f': 'F', 'i': 'I', 'h': 'H', 'k': 'K', 'j': 'J', 'l': 'L'})]\n",
      "\n",
      "pprint:\n",
      "[(1, {'a': 'A', 'b': 'B', 'c': 'C', 'd': 'D'}),\n",
      " (2,\n",
      "  {'e': 'E',\n",
      "   'f': 'F',\n",
      "   'g': 'G',\n",
      "   'h': 'H',\n",
      "   'i': 'I',\n",
      "   'j': 'J',\n",
      "   'k': 'K',\n",
      "   'l': 'L'})]\n"
     ]
    }
   ],
   "source": [
    "from pprint import pprint\n",
    "\n",
    "print 'print:'\n",
    "print data\n",
    "print\n",
    "print 'pprint:'\n",
    "pprint(data)"
   ]
  },
  {
   "cell_type": "markdown",
   "metadata": {},
   "source": [
    "# 格式化\n",
    "\n",
    "使用 *pformat()* 不进行输出，只返回一个字符串表示。"
   ]
  },
  {
   "cell_type": "code",
   "execution_count": 3,
   "metadata": {},
   "outputs": [
    {
     "name": "stderr",
     "output_type": "stream",
     "text": [
      "DEBUG    Logging pformatted data\n",
      "DEBUG    [(1, {'a': 'A', 'b': 'B', 'c': 'C', 'd': 'D'}),\n",
      "DEBUG     (2,\n",
      "DEBUG      {'e': 'E',\n",
      "DEBUG       'f': 'F',\n",
      "DEBUG       'g': 'G',\n",
      "DEBUG       'h': 'H',\n",
      "DEBUG       'i': 'I',\n",
      "DEBUG       'j': 'J',\n",
      "DEBUG       'k': 'K',\n",
      "DEBUG       'l': 'L'})]\n"
     ]
    }
   ],
   "source": [
    "import logging\n",
    "from pprint import pformat\n",
    "\n",
    "logging.basicConfig(level=logging.DEBUG,\n",
    "                   format='%(levelname)-8s %(message)s',\n",
    "                   )\n",
    "logging.debug('Logging pformatted data')\n",
    "formatted = pformat(data)\n",
    "for line in formatted.splitlines():\n",
    "    logging.debug(line.rstrip())"
   ]
  },
  {
   "cell_type": "markdown",
   "metadata": {},
   "source": [
    "# 与其它类兼容\n",
    "\n",
    "*pprint()* 使用 *PrettyPrinter* 类来格式化，并兼容所有定义了 *__repr__* 的类"
   ]
  },
  {
   "cell_type": "code",
   "execution_count": 4,
   "metadata": {},
   "outputs": [
    {
     "name": "stdout",
     "output_type": "stream",
     "text": [
      "[Node('Node-1',[]),\n",
      " Node('Node-2',[Node('Node-2-1',[])]),\n",
      " Node('Node-3',[Node('Node3-1',[])])]\n"
     ]
    }
   ],
   "source": [
    "from pprint import pprint\n",
    "\n",
    "class Node(object):\n",
    "    def __init__(self, name, contents=[]):\n",
    "        self.name = name\n",
    "        self.contents = contents[:]\n",
    "        \n",
    "    def __repr__(self):\n",
    "        return ('Node(' + repr(self.name) + ',' +\n",
    "               repr(self.contents) + ')'\n",
    "               )\n",
    "    \n",
    "trees = [ Node('Node-1'),\n",
    "            Node('Node-2', [ Node('Node-2-1')]),\n",
    "            Node('Node-3', [ Node('Node3-1')]),\n",
    "        ]\n",
    "pprint(trees)"
   ]
  },
  {
   "cell_type": "markdown",
   "metadata": {},
   "source": [
    "# 递归\n",
    "\n",
    "递归数据结构使用 `<Recursion on typename with id=number>` 这种形式的引用来表示。"
   ]
  },
  {
   "cell_type": "code",
   "execution_count": 5,
   "metadata": {},
   "outputs": [
    {
     "name": "stdout",
     "output_type": "stream",
     "text": [
      "id(local_data) => 3028745740\n",
      "['a', 'b', 1, 2, <Recursion on list with id=3028745740>]\n"
     ]
    }
   ],
   "source": [
    "from pprint import pprint\n",
    "\n",
    "local_data = ['a', 'b', 1, 2]\n",
    "local_data.append(local_data)\n",
    "\n",
    "print 'id(local_data) =>', id(local_data)\n",
    "pprint(local_data)"
   ]
  },
  {
   "cell_type": "markdown",
   "metadata": {},
   "source": [
    "# 限制嵌套输出的层级"
   ]
  },
  {
   "cell_type": "code",
   "execution_count": 7,
   "metadata": {},
   "outputs": [
    {
     "name": "stdout",
     "output_type": "stream",
     "text": [
      "[(...), (...)]\n"
     ]
    }
   ],
   "source": [
    "from pprint import pprint\n",
    "\n",
    "pprint(data, depth=1)"
   ]
  },
  {
   "cell_type": "markdown",
   "metadata": {},
   "source": [
    "# 控制输出宽度\n",
    "\n",
    "格式化后默认的输出宽度是 80 字符，可用 *width* 参数调整。当调整后的宽度太小，折行后出现语法错误，将不会进行折行。"
   ]
  },
  {
   "cell_type": "code",
   "execution_count": 8,
   "metadata": {},
   "outputs": [
    {
     "name": "stdout",
     "output_type": "stream",
     "text": [
      "Width =  80\n",
      "[(1, {'a': 'A', 'b': 'B', 'c': 'C', 'd': 'D'}),\n",
      " (2,\n",
      "  {'e': 'E',\n",
      "   'f': 'F',\n",
      "   'g': 'G',\n",
      "   'h': 'H',\n",
      "   'i': 'I',\n",
      "   'j': 'J',\n",
      "   'k': 'K',\n",
      "   'l': 'L'})]\n",
      "\n",
      "Width =  5\n",
      "[(1,\n",
      "  {'a': 'A',\n",
      "   'b': 'B',\n",
      "   'c': 'C',\n",
      "   'd': 'D'}),\n",
      " (2,\n",
      "  {'e': 'E',\n",
      "   'f': 'F',\n",
      "   'g': 'G',\n",
      "   'h': 'H',\n",
      "   'i': 'I',\n",
      "   'j': 'J',\n",
      "   'k': 'K',\n",
      "   'l': 'L'})]\n",
      "\n"
     ]
    }
   ],
   "source": [
    "from pprint import pprint\n",
    "\n",
    "for width in [80, 5]:\n",
    "    print 'Width = ', width\n",
    "    pprint(data, width=width)\n",
    "    print"
   ]
  },
  {
   "cell_type": "markdown",
   "metadata": {},
   "source": [
    "# 更多资源\n",
    "\n",
    "+ [pprint](https://docs.python.org/2/library/pprint.html) Standard library documentation for this module."
   ]
  }
 ],
 "metadata": {
  "kernelspec": {
   "display_name": "Python 2",
   "language": "python",
   "name": "python2"
  },
  "language_info": {
   "codemirror_mode": {
    "name": "ipython",
    "version": 2
   },
   "file_extension": ".py",
   "mimetype": "text/x-python",
   "name": "python",
   "nbconvert_exporter": "python",
   "pygments_lexer": "ipython2",
   "version": "2.7.12"
  }
 },
 "nbformat": 4,
 "nbformat_minor": 2
}
