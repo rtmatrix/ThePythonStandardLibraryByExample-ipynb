{
 "cells": [
  {
   "cell_type": "markdown",
   "metadata": {},
   "source": [
    "# Python 2 标准库示例：4.3 calendar-处理日期值\n",
    "\n",
    "\n",
    "**目的**: 该模块实现了一些处理日期的类，用来管理年、月、周等值。\n",
    "\n",
    "**Python 版本**: 1.4+， 并在 2.5 时有更新。\n",
    "\n",
    "*calendar* 模块定义了 *Calendar*，封装了日历计算相关的方法。另外，子类 *TextCalendar* 和 *HTMLCalendar* 可进行格式化输出。这些类默认将周一设置为每周的第一天（欧洲习惯），但可在初始化通过传入参数修改（0 是 周一，..., 6 是周日，也可用模块中的常量指定，如 *calendar.MONDAY*）。\n",
    "\n",
    "# 格式化的例子\n",
    "\n",
    "*prmonth()* (print month) 函数格式化输出某年某月的日历信息。"
   ]
  },
  {
   "cell_type": "code",
   "execution_count": 1,
   "metadata": {},
   "outputs": [
    {
     "name": "stdout",
     "output_type": "stream",
     "text": [
      "     June 2017\n",
      "Mo Tu We Th Fr Sa Su\n",
      "          1  2  3  4\n",
      " 5  6  7  8  9 10 11\n",
      "12 13 14 15 16 17 18\n",
      "19 20 21 22 23 24 25\n",
      "26 27 28 29 30\n"
     ]
    }
   ],
   "source": [
    "import calendar\n",
    "\n",
    "c = calendar.TextCalendar(calendar.MONDAY)\n",
    "c.prmonth(2017, 6)"
   ]
  },
  {
   "cell_type": "markdown",
   "metadata": {},
   "source": [
    "使用 *HTMLCalendar* 的 *formatmonth()* 可产生一个类似效果的表格（HTML 文本），用 HTML 标签组成，并且每个单元格设置了对应星期几的一个 CSS 类。\n",
    "\n",
    "# 自定义输出\n",
    "\n",
    "使用如果要输出自定义格式的日历信息，可根据本模块提供的一些方法"
   ]
  },
  {
   "cell_type": "code",
   "execution_count": 5,
   "metadata": {},
   "outputs": [
    {
     "name": "stdout",
     "output_type": "stream",
     "text": [
      "  Monday    Tuesday   Wednesday   Thursday    Friday    Saturday    Sunday  \n"
     ]
    }
   ],
   "source": [
    "import calendar\n",
    "import pprint\n",
    "\n",
    "cal = calendar.Calendar()\n",
    "\n",
    "print calendar.weekheader(10)"
   ]
  }
 ],
 "metadata": {
  "kernelspec": {
   "display_name": "Python 2",
   "language": "python",
   "name": "python2"
  },
  "language_info": {
   "codemirror_mode": {
    "name": "ipython",
    "version": 2
   },
   "file_extension": ".py",
   "mimetype": "text/x-python",
   "name": "python",
   "nbconvert_exporter": "python",
   "pygments_lexer": "ipython2",
   "version": "2.7.12"
  }
 },
 "nbformat": 4,
 "nbformat_minor": 2
}
