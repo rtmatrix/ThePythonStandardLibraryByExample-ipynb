{
 "cells": [
  {
   "cell_type": "markdown",
   "metadata": {},
   "source": [
    "# Python 2 标准库示例：2.7 weakref-非持久对象引用\n",
    "\n",
    "\n",
    "**目的**: 引用 \"昂贵\" 的对象，但允许在没有其它 *nonweak* 引用时进行垃圾回收。\n",
    "\n",
    "**Python 版本**: 2.1+\n",
    "\n",
    "*weakref* 模块支持弱引用。普通引用会增加对象的引用计数，从而阻止了垃圾回收。而弱引用不会阻止垃圾回收，适用于有环路引用的情况。\n",
    "\n",
    "# 引用\n",
    "\n",
    "对对象的弱引用通过 *ref* 类来管理。要取回源对象，调用引用对象即可。"
   ]
  },
  {
   "cell_type": "code",
   "execution_count": 1,
   "metadata": {},
   "outputs": [
    {
     "name": "stdout",
     "output_type": "stream",
     "text": [
      "obj: <__main__.ExpensiveObject object at 0xb503aa4c>\n",
      "ref: <weakref at 0xb503c43c; to 'ExpensiveObject' at 0xb503aa4c>\n",
      "r(): <__main__.ExpensiveObject object at 0xb503aa4c>\n",
      "deleting obj\n",
      "(Deleting <__main__.ExpensiveObject object at 0xb503aa4c>)\n",
      "r(): None\n"
     ]
    }
   ],
   "source": [
    "import weakref\n",
    "\n",
    "class ExpensiveObject(object):\n",
    "    def __del__(self):\n",
    "        print '(Deleting %s)' % self\n",
    "        \n",
    "obj = ExpensiveObject()\n",
    "r = weakref.ref(obj)\n",
    "\n",
    "print 'obj:', obj\n",
    "print 'ref:', r\n",
    "print 'r():', r()\n",
    "\n",
    "print 'deleting obj'\n",
    "del obj\n",
    "print 'r():', r()"
   ]
  },
  {
   "cell_type": "markdown",
   "metadata": {},
   "source": [
    "上例中，当被引用对象删除后，调用引用对象返回 *None*。\n",
    "\n",
    "# 引用回调函数\n",
    "\n",
    "*ref* 类的构造函数接收一个可选的可调用函数参数，它在被引用对象删除时调用。"
   ]
  },
  {
   "cell_type": "code",
   "execution_count": 3,
   "metadata": {},
   "outputs": [
    {
     "name": "stdout",
     "output_type": "stream",
     "text": [
      "obj: <__main__.ExpensiveObject object at 0xb503ae2c>\n",
      "ref: <weakref at 0xb503c9b4; to 'ExpensiveObject' at 0xb503ae2c>\n",
      "r(): <__main__.ExpensiveObject object at 0xb503ae2c>\n",
      "deleting obj\n",
      "calling callback( <weakref at 0xb503c9b4; dead> )\n",
      "(Deleting <__main__.ExpensiveObject object at 0xb503ae2c>)\n",
      "r(): None\n"
     ]
    }
   ],
   "source": [
    "import weakref\n",
    "\n",
    "class ExpensiveObject(object):\n",
    "    def __del__(self):\n",
    "        print '(Deleting %s)' % self\n",
    "        \n",
    "def callback(reference):\n",
    "    \"\"\"Invoked when referenced object is deleted\"\"\"\n",
    "    print 'calling callback(', reference, ')'\n",
    "    \n",
    "obj = ExpensiveObject()\n",
    "r = weakref.ref(obj, callback)\n",
    "\n",
    "print 'obj:', obj\n",
    "print 'ref:', r\n",
    "print 'r():', r()\n",
    "\n",
    "print 'deleting obj'\n",
    "del obj\n",
    "print 'r():', r()"
   ]
  },
  {
   "cell_type": "markdown",
   "metadata": {},
   "source": [
    "# 代理\n",
    "\n",
    "使用代理通常比使用弱引用更加便捷。使用代理就跟使用源对象一样，因此使用方无需区别使用的是一个代理还是一个实际对象。"
   ]
  },
  {
   "cell_type": "code",
   "execution_count": 6,
   "metadata": {},
   "outputs": [
    {
     "name": "stdout",
     "output_type": "stream",
     "text": [
      "(Deleting <__main__.ExpensiveObject object at 0xb503ad0c>)\n",
      "via obj: My Obj\n",
      "via ref: My Obj\n",
      "via proxy: My Obj\n",
      "(Deleting <__main__.ExpensiveObject object at 0xb46eec8c>)\n",
      "via proxy:"
     ]
    },
    {
     "ename": "ReferenceError",
     "evalue": "weakly-referenced object no longer exists",
     "output_type": "error",
     "traceback": [
      "\u001b[0;31m---------------------------------------------------------------------------\u001b[0m",
      "\u001b[0;31mReferenceError\u001b[0m                            Traceback (most recent call last)",
      "\u001b[0;32m<ipython-input-6-f171937a2b7c>\u001b[0m in \u001b[0;36m<module>\u001b[0;34m()\u001b[0m\n\u001b[1;32m     15\u001b[0m \u001b[0;32mprint\u001b[0m \u001b[0;34m'via proxy:'\u001b[0m\u001b[0;34m,\u001b[0m \u001b[0mp\u001b[0m\u001b[0;34m.\u001b[0m\u001b[0mname\u001b[0m\u001b[0;34m\u001b[0m\u001b[0m\n\u001b[1;32m     16\u001b[0m \u001b[0;32mdel\u001b[0m \u001b[0mobj\u001b[0m\u001b[0;34m\u001b[0m\u001b[0m\n\u001b[0;32m---> 17\u001b[0;31m \u001b[0;32mprint\u001b[0m \u001b[0;34m'via proxy:'\u001b[0m\u001b[0;34m,\u001b[0m \u001b[0mp\u001b[0m\u001b[0;34m.\u001b[0m\u001b[0mname\u001b[0m\u001b[0;34m\u001b[0m\u001b[0m\n\u001b[0m",
      "\u001b[0;31mReferenceError\u001b[0m: weakly-referenced object no longer exists"
     ]
    }
   ],
   "source": [
    "import weakref\n",
    "\n",
    "class ExpensiveObject(object):\n",
    "    def __init__(self, name):\n",
    "        self.name = name\n",
    "    def __del__(self):\n",
    "        print '(Deleting %s)' % self\n",
    "        \n",
    "obj = ExpensiveObject('My Obj')\n",
    "r = weakref.ref(obj)\n",
    "p = weakref.proxy(obj)\n",
    "\n",
    "print 'via obj:', obj.name\n",
    "print 'via ref:', r().name\n",
    "print 'via proxy:', p.name\n",
    "del obj\n",
    "print 'via proxy:', p.name"
   ]
  },
  {
   "cell_type": "markdown",
   "metadata": {},
   "source": [
    "上例中，当删除被引用对象后，访问代理将抛出 `ReferenceError`。\n",
    "\n",
    "\n",
    "# 环引用 \n",
    "\n",
    "图结构包含有环引用，下例中分别用普通对象和代理（弱引用）来演示区别。例子中的图结点都只支持一个出口。"
   ]
  },
  {
   "cell_type": "code",
   "execution_count": null,
   "metadata": {
    "scrolled": false
   },
   "outputs": [],
   "source": [
    "import gc\n",
    "from pprint import pprint\n",
    "import weakref\n",
    "\n",
    "class Graph(object):\n",
    "    def __init__(self, name):\n",
    "        self.name = name\n",
    "        self.other = None\n",
    "        \n",
    "    def set_next(self, other):\n",
    "        print '%s.set_next(%r)' % (self.name, other)\n",
    "        self.other = other\n",
    "        \n",
    "    def all_nodes(self):\n",
    "        \"Generate the nodes in the graph sequence.\"\n",
    "        yield self\n",
    "        n = self.other\n",
    "        while n and n.name != self.name:\n",
    "            yield n\n",
    "            n = n.other\n",
    "        if n is self:\n",
    "            yield n\n",
    "        return\n",
    "    \n",
    "    def __str__(self):\n",
    "        return '->'.join(n.name for n in self.all_nodes())\n",
    "    \n",
    "    def __repr__(self):\n",
    "        return '<%s at 0x%x name=%s>' % (self.__class__.__name__,\n",
    "                                         id(self), self.name)\n",
    "    \n",
    "    def __del__(self):\n",
    "        print '(Deleting %s)' % self.name\n",
    "        self.set_next(None)\n",
    "        \n",
    "def collect_and_show_garbage():\n",
    "    \"Show what garbage is present.\"\n",
    "    print 'Collecting...'\n",
    "    # run garbage collection, return num of unreachable objects\n",
    "    n = gc.collect() \n",
    "    print 'Unreachable objects:', n\n",
    "    print 'Garbage:', \n",
    "    pprint(gc.garbage)\n",
    "    \n",
    "def demo(graph_factory):\n",
    "    print 'Set up graph:'\n",
    "    one = graph_factory('one')\n",
    "    two = graph_factory('two')\n",
    "    three = graph_factory('three')\n",
    "    one.set_next(two)\n",
    "    two.set_next(three)\n",
    "    three.set_next(one)\n",
    "    \n",
    "    print \n",
    "    print 'Graph:'\n",
    "    print str(one)\n",
    "    collect_and_show_garbage()\n",
    "    \n",
    "    print\n",
    "    three = None\n",
    "    two = None\n",
    "    print 'After 2 references removed:'\n",
    "    print str(one)\n",
    "    collect_and_show_garbage()\n",
    "    \n",
    "    print\n",
    "    print 'Removing last reference:'\n",
    "    one = None\n",
    "    collect_and_show_garbage()\n",
    "    \n",
    "    \n",
    "# __main__\n",
    "# DEBUG_LEAK causes gc to print info about\n",
    "# objects that cannot be seen\n",
    "gc.set_debug(gc.DEBUG_LEAK)\n",
    "\n",
    "print 'Setting up the cycle'\n",
    "print\n",
    "demo(Graph)\n",
    "\n",
    "print\n",
    "print 'Breaking the cycle and cleaning up garbage'\n",
    "print\n",
    "gc.garbage[0].set_next(None)\n",
    "while gc.garbage:\n",
    "    del gc.garbage[0]\n",
    "print\n",
    "collect_and_show_garbage()"
   ]
  },
  {
   "cell_type": "code",
   "execution_count": null,
   "metadata": {
    "collapsed": true
   },
   "outputs": [],
   "source": [
    "Setting up the cycle\n",
    "\n",
    "Set up graph:\n",
    "one.set_next(<Graph at 0xb71ef9ec name=two>)\n",
    "two.set_next(<Graph at 0xb71efa0c name=three>)\n",
    "three.set_next(<Graph at 0xb71ef9cc name=one>)\n",
    "\n",
    "Graph:\n",
    "one->two->three->one\n",
    "Collecting...\n",
    "Unreachable objects: 0\n",
    "Garbage:[]\n",
    "\n",
    "After 2 references removed:\n",
    "one->two->three->one\n",
    "Collecting...\n",
    "Unreachable objects: 0\n",
    "Garbage:[]\n",
    "\n",
    "Removing last reference:\n",
    "Collecting...\n",
    "gc: uncollectable <Graph 0xb71ef9cc>\n",
    "gc: uncollectable <Graph 0xb71ef9ec>\n",
    "gc: uncollectable <Graph 0xb71efa0c>\n",
    "gc: uncollectable <dict 0xb71f935c>\n",
    "gc: uncollectable <dict 0xb71f93e4>\n",
    "gc: uncollectable <dict 0xb71f92d4>\n",
    "Unreachable objects: 6\n",
    "Garbage:[<Graph at 0xb71ef9cc name=one>,\n",
    " <Graph at 0xb71ef9ec name=two>,\n",
    " <Graph at 0xb71efa0c name=three>,\n",
    " {'name': 'one', 'other': <Graph at 0xb71ef9ec name=two>},\n",
    " {'name': 'two', 'other': <Graph at 0xb71efa0c name=three>},\n",
    " {'name': 'three', 'other': <Graph at 0xb71ef9cc name=one>}]\n",
    "\n",
    "Breaking the cycle and cleaning up garbage\n",
    "\n",
    "one.set_next(None)\n",
    "(Deleting two)\n",
    "two.set_next(None)\n",
    "(Deleting three)\n",
    "three.set_next(None)\n",
    "(Deleting one)\n",
    "one.set_next(None)\n",
    "\n",
    "Collecting...\n",
    "Unreachable objects: 0\n",
    "Garbage:[]"
   ]
  },
  {
   "cell_type": "markdown",
   "metadata": {},
   "source": [
    "下例中创建一个更智能的 *WeakGraph*，它通过使用代理避免了出现环引用。"
   ]
  },
  {
   "cell_type": "code",
   "execution_count": null,
   "metadata": {},
   "outputs": [],
   "source": [
    "import gc\n",
    "from pprint import pprint\n",
    "import weakref\n",
    "\n",
    "class WeakGraph(Graph):\n",
    "    def set_next(self, other):\n",
    "        if other is not None:\n",
    "            # see if we should replace the reference\n",
    "            # to other with a weakref\n",
    "            if self in other.all_nodes():\n",
    "                other = weakref.proxy(other)\n",
    "        super(WeakGraph, self).set_next(other)\n",
    "        return\n",
    "\n",
    "# __main__\n",
    "# DEBUG_LEAK causes gc to print info about\n",
    "# objects that cannot be seen\n",
    "gc.set_debug(gc.DEBUG_LEAK)\n",
    "\n",
    "demo(Graph)"
   ]
  },
  {
   "cell_type": "code",
   "execution_count": null,
   "metadata": {
    "collapsed": true
   },
   "outputs": [],
   "source": [
    "Set up graph:\n",
    "one.set_next(<WeakGraph at 0xb7212aec name=two>)\n",
    "two.set_next(<WeakGraph at 0xb7212b0c name=three>)\n",
    "three.set_next(<weakproxy at 0xb7213414 to WeakGraph at 0xb7212acc>)\n",
    "\n",
    "Graph:\n",
    "one->two->three\n",
    "Collecting...\n",
    "Unreachable objects: 0\n",
    "Garbage:[]\n",
    "\n",
    "After 2 references removed:\n",
    "one->two->three\n",
    "Collecting...\n",
    "Unreachable objects: 0\n",
    "Garbage:[]\n",
    "\n",
    "Removing last reference:\n",
    "(Deleting one)\n",
    "one.set_next(None)\n",
    "(Deleting two)\n",
    "two.set_next(None)\n",
    "(Deleting three)\n",
    "three.set_next(None)\n",
    "Collecting...\n",
    "Unreachable objects: 0\n",
    "Garbage:[]"
   ]
  },
  {
   "cell_type": "markdown",
   "metadata": {},
   "source": [
    "由于 *WeakGraph* 使用代理来引用已出现的对象，从而避免了出现环引用，垃圾回收机制可回收删除的对象。\n",
    "\n",
    "# 缓存对象\n",
    "\n",
    "*ref* 和 *proxy* 类都是 *低层的*。它们可用于维护对单个对象的引用。而 *WeakKeyDictionary* 和 *WeakValueDictionary* 提供了操作多个对象的 API。\n",
    "\n",
    "*WeakValueDictionary* 继承至 *dict*，但它对其值对象使用了弱引用，允许当其它代码没有使用它们时，可进行垃圾回收。而 *WeakKeyDictionary* 则对其键使用了弱引用。"
   ]
  },
  {
   "cell_type": "code",
   "execution_count": null,
   "metadata": {},
   "outputs": [],
   "source": [
    "import gc\n",
    "from pprint import pprint\n",
    "import weakref\n",
    "\n",
    "gc.set_debug(gc.DEBUG_LEAK)\n",
    "\n",
    "class ExpensiveObject(object):\n",
    "    def __init__(self, name):\n",
    "        self.name = name\n",
    "    \n",
    "    def __repr__(self):\n",
    "        return 'ExpensiveObject (%s)' % self.name\n",
    "    \n",
    "    def __del__(self):\n",
    "        print ' (Deleting %s)' % self\n",
    "        \n",
    "\n",
    "def demo(cache_factory):\n",
    "    # hold objects so any weak references\n",
    "    # are not removed immediately\n",
    "    all_refs = {}\n",
    "    # create the cache using the factory\n",
    "    print 'cache type:', cache_factory\n",
    "    cache = cache_factory()\n",
    "    for name in ['one', 'two', 'three']:\n",
    "        o = ExpensiveObject(name)\n",
    "        cache[name] = o\n",
    "        all_refs[name] = o\n",
    "        del o # decref\n",
    "        \n",
    "    print ' all_refs = ',\n",
    "    pprint(all_refs)\n",
    "    print '\\n Before, cache contains:', cache.keys()\n",
    "    for name, value in cache.items():\n",
    "        print ' %s = %s' % (name, value)\n",
    "        del value # decref\n",
    "        \n",
    "    # Remove all refs to the objects except the cache\n",
    "    print '\\n Cleanup:'\n",
    "    del all_refs\n",
    "    gc.collect()\n",
    "    \n",
    "    print '\\n After, cache contains:', cache.keys()\n",
    "    for name, value in cache.items():\n",
    "        print ' %s = %s' % (name, value)\n",
    "    print ' demo returning'\n",
    "    return\n",
    "\n",
    "demo(dict)\n",
    "print\n",
    "\n",
    "demo(weakref.WeakValueDictionary)"
   ]
  },
  {
   "cell_type": "code",
   "execution_count": null,
   "metadata": {
    "collapsed": true
   },
   "outputs": [],
   "source": [
    "cache type: <type 'dict'>\n",
    " all_refs = {'one': ExpensiveObject (one),\n",
    " 'three': ExpensiveObject (three),\n",
    " 'two': ExpensiveObject (two)}\n",
    "\n",
    " Before, cache contains: ['three', 'two', 'one']\n",
    " three = ExpensiveObject (three)\n",
    " two = ExpensiveObject (two)\n",
    " one = ExpensiveObject (one)\n",
    "\n",
    " Cleanup:\n",
    "\n",
    " After, cache contains: ['three', 'two', 'one']\n",
    " three = ExpensiveObject (three)\n",
    " two = ExpensiveObject (two)\n",
    " one = ExpensiveObject (one)\n",
    " demo returning\n",
    " (Deleting ExpensiveObject (three))\n",
    " (Deleting ExpensiveObject (two))\n",
    " (Deleting ExpensiveObject (one))\n",
    "\n",
    "cache type: weakref.WeakValueDictionary\n",
    " all_refs = {'one': ExpensiveObject (one),\n",
    " 'three': ExpensiveObject (three),\n",
    " 'two': ExpensiveObject (two)}\n",
    "\n",
    " Before, cache contains: ['three', 'two', 'one']\n",
    " three = ExpensiveObject (three)\n",
    " two = ExpensiveObject (two)\n",
    " one = ExpensiveObject (one)\n",
    "\n",
    " Cleanup:\n",
    " (Deleting ExpensiveObject (three))\n",
    " (Deleting ExpensiveObject (two))\n",
    " (Deleting ExpensiveObject (one))\n",
    "\n",
    " After, cache contains: []\n",
    " demo returning"
   ]
  },
  {
   "cell_type": "markdown",
   "metadata": {},
   "source": [
    "上例中，当值为垃圾回收后，*WeakValueDictionary* 中对应的整个元素都被删除。\n",
    "\n",
    "要注意的是，由于 *WeakValueDictionary* 是基于 *dict* 的，因此在遍历时不能修改其大小。\n",
    "\n",
    "使用时，一般使用 *WeakValueDictionary* 和 *WeakKeyDictionary* 即可，而 *ref*, *proxy* 等被看作低层接口，用于实现高级功能。\n",
    "\n",
    "# 是否可弱引用\n",
    "\n",
    "一些内置类型，如 *list*, *dict* 等不直接直接被弱引用，但他们的子类可以。"
   ]
  },
  {
   "cell_type": "code",
   "execution_count": null,
   "metadata": {
    "collapsed": true
   },
   "outputs": [],
   "source": [
    "class Dict(dict):\n",
    "    pass\n",
    "\n",
    "obj = Dict(red=1, green=2, blue=3) # 该对象可被弱引用"
   ]
  },
  {
   "cell_type": "markdown",
   "metadata": {},
   "source": [
    "而 Cpython 中的 *tuple*, *long* 等即使其子类也不支持被弱引用。"
   ]
  },
  {
   "cell_type": "markdown",
   "metadata": {},
   "source": [
    "# 更多资源\n",
    "\n",
    "+ [weakref](https://docs.python.org/2/library/weakref.html) Standard library documentation for this module."
   ]
  }
 ],
 "metadata": {
  "kernelspec": {
   "display_name": "Python 2",
   "language": "python",
   "name": "python2"
  },
  "language_info": {
   "codemirror_mode": {
    "name": "ipython",
    "version": 2
   },
   "file_extension": ".py",
   "mimetype": "text/x-python",
   "name": "python",
   "nbconvert_exporter": "python",
   "pygments_lexer": "ipython2",
   "version": "2.7.12"
  }
 },
 "nbformat": 4,
 "nbformat_minor": 2
}
