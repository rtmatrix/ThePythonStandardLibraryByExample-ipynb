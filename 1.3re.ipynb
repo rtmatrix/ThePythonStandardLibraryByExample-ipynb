{
 "cells": [
  {
   "cell_type": "markdown",
   "metadata": {},
   "source": [
    "# Python 2 标准库示例：1.3 re-正则表达式\n",
    "\n",
    "**目的**: 通过形式化模式在文本中查询和修改文本。\n",
    "\n",
    "**Python 版本**: 1.5+\n",
    "\n",
    "*正则表达式* 是用形式化语法描述的文本匹配模式。模式会被解析为一组指令，这些指令在之后执行时会将一个字符串作为输入，并产出一个匹配子集或一个源字符串的修改版本。\n",
    "\n",
    "Python 的 *re* 模块使用 Perl 的正则表达式语法，并进行了一些扩展。\n",
    "\n",
    "## 在文本中查找模式\n",
    "\n",
    "*search()* 函数接受一个 *pattern* 和一个需在其中查找的文本为输入，当找到匹配模式时，返回 *Match* 对象，未找到时返回 *None*。\n",
    "\n",
    "每个 *Match* 对象都包含有匹配的信息，如源输入的字符串 *match.string*，使用的正则表达式 *match.re.pattern*，匹配的模式在源输入字符串中的位置等 *match.start(), match.end()*。"
   ]
  },
  {
   "cell_type": "code",
   "execution_count": 28,
   "metadata": {},
   "outputs": [
    {
     "name": "stdout",
     "output_type": "stream",
     "text": [
      "Found \"this\"\n",
      " in \"Does this text math the pattern?\"\n",
      " from 5 to 9 (\"this)\n"
     ]
    }
   ],
   "source": [
    "import re\n",
    "\n",
    "pattern = 'this'\n",
    "text = 'Does this text math the pattern?'\n",
    "\n",
    "match = re.search(pattern, text)\n",
    "\n",
    "s = match.start()\n",
    "e = match.end()\n",
    "\n",
    "print 'Found \"%s\"\\n in \"%s\"\\n from %d to %d (\"%s)' % \\\n",
    "    (match.re.pattern, match.string, s, e, text[s:e])"
   ]
  },
  {
   "cell_type": "markdown",
   "metadata": {},
   "source": [
    "## 编译表达式\n",
    "\n",
    "*re* 中模块级的函数都需要有一个正则表达式字符串作为输入参数，但是对于常用的表达式，预先将其编译会更高效。*compile()* 函数将正则表达式字符串编译成 *RegexObject*。"
   ]
  },
  {
   "cell_type": "code",
   "execution_count": 29,
   "metadata": {},
   "outputs": [
    {
     "name": "stdout",
     "output_type": "stream",
     "text": [
      "Text: 'Does this text match the pattern?'\n",
      "\n",
      "Seeking \"this\" -> match!\n",
      "Seeking \"that\" -> no match\n"
     ]
    }
   ],
   "source": [
    "import re\n",
    "\n",
    "# Precompile the patterns\n",
    "regexes = [re.compile(p)\n",
    "          for p in ['this', 'that']\n",
    "          ]\n",
    "text = 'Does this text match the pattern?'\n",
    "\n",
    "print 'Text: %r\\n' % text\n",
    "\n",
    "for regex in regexes:\n",
    "    print 'Seeking \"%s\" ->' % regex.pattern,\n",
    "    \n",
    "    if regex.search(text):\n",
    "        print 'match!'\n",
    "    else:\n",
    "        print 'no match'"
   ]
  },
  {
   "cell_type": "markdown",
   "metadata": {},
   "source": [
    "模块级的函数为用到的所有正则表达式维护一个预编译版本的缓存，但是缓存大小有限。\n",
    "\n",
    "直接使用预编译表达式有 2 个优点：\n",
    "\n",
    "+ 避免了缓存查询的开销\n",
    "+ 预编译过程发生在模块加载时，因此将编译工作被前推到了应用启动时。\n",
    "\n",
    "## 多重匹配 \n",
    "\n",
    "*findall()* 函数返回所有非重叠的匹配子字符串。"
   ]
  },
  {
   "cell_type": "code",
   "execution_count": 30,
   "metadata": {},
   "outputs": [
    {
     "name": "stdout",
     "output_type": "stream",
     "text": [
      "Found \"ab\"\n",
      "Found \"ab\"\n"
     ]
    }
   ],
   "source": [
    "import re\n",
    "\n",
    "text = 'abbaaabbbbaaaaa'\n",
    "\n",
    "pattern = 'ab'\n",
    "\n",
    "for matched_substr in re.findall(pattern, text):\n",
    "    print 'Found \"%s\"' % matched_substr"
   ]
  },
  {
   "cell_type": "markdown",
   "metadata": {},
   "source": [
    "*finditer()* 类似 *findall()*，但它返回 *Match* 实例的迭代器。"
   ]
  },
  {
   "cell_type": "code",
   "execution_count": 31,
   "metadata": {},
   "outputs": [
    {
     "name": "stdout",
     "output_type": "stream",
     "text": [
      "Found \"ab\" at 0:2\n",
      "Found \"ab\" at 5:7\n"
     ]
    }
   ],
   "source": [
    "import re\n",
    "\n",
    "text = 'abbaaabbbbaaaaa'\n",
    "\n",
    "pattern = 'ab'\n",
    "\n",
    "for match in re.finditer(pattern, text):\n",
    "    s = match.start()\n",
    "    e = match.end()\n",
    "    print 'Found \"%s\" at %d:%d' % (text[s:e], s, e)"
   ]
  },
  {
   "cell_type": "markdown",
   "metadata": {},
   "source": [
    "## 模式语法"
   ]
  },
  {
   "cell_type": "code",
   "execution_count": 32,
   "metadata": {},
   "outputs": [
    {
     "name": "stdout",
     "output_type": "stream",
     "text": [
      "Pattern 'ab' ('a' followed by 'b')\n",
      "\n",
      "  'abbaaabbbbaaaaa'\n",
      "  'ab'\n",
      "  .....'ab'\n",
      "\n"
     ]
    }
   ],
   "source": [
    "import re\n",
    "\n",
    "def test_patterns(text, patterns=[]):\n",
    "    \"\"\"Given source text and a list of patterns, look for\n",
    "    matches for each pattern within the text and print\n",
    "    them to stdout.\n",
    "    \"\"\"\n",
    "    # Look for each pattern in the text and print the results\n",
    "    for pattern, desc in patterns:\n",
    "        print 'Pattern %r (%s)\\n' % (pattern, desc)\n",
    "        print '  %r' % text\n",
    "        for match in re.finditer(pattern, text):\n",
    "            s = match.start()\n",
    "            e = match.end()\n",
    "            substr = text[s:e]\n",
    "            n_backslashes = text[:s].count('\\\\')\n",
    "            prefix = '.' * (s+n_backslashes)\n",
    "            print '  %s%r' % (prefix, substr)\n",
    "        print\n",
    "    return\n",
    "\n",
    "test_patterns('abbaaabbbbaaaaa',\n",
    "    [('ab', \"'a' followed by 'b'\"),\n",
    "    ])"
   ]
  },
  {
   "cell_type": "markdown",
   "metadata": {},
   "source": [
    "### 重复匹配"
   ]
  },
  {
   "cell_type": "code",
   "execution_count": 33,
   "metadata": {},
   "outputs": [
    {
     "name": "stdout",
     "output_type": "stream",
     "text": [
      "Pattern 'ab*' (a followed by zero or more b)\n",
      "\n",
      "  'abbaabbba'\n",
      "  'abb'\n",
      "  ...'a'\n",
      "  ....'abbb'\n",
      "  ........'a'\n",
      "\n",
      "Pattern 'ab+' (a followed by one or more b)\n",
      "\n",
      "  'abbaabbba'\n",
      "  'abb'\n",
      "  ....'abbb'\n",
      "\n",
      "Pattern 'ab?' (a followed by zero or one b)\n",
      "\n",
      "  'abbaabbba'\n",
      "  'ab'\n",
      "  ...'a'\n",
      "  ....'ab'\n",
      "  ........'a'\n",
      "\n",
      "Pattern 'ab{3}' (a followed by three b)\n",
      "\n",
      "  'abbaabbba'\n",
      "  ....'abbb'\n",
      "\n",
      "Pattern 'ab{2,3}' (a followed by two to three b)\n",
      "\n",
      "  'abbaabbba'\n",
      "  'abb'\n",
      "  ....'abbb'\n",
      "\n"
     ]
    }
   ],
   "source": [
    "test_patterns(\n",
    "    'abbaabbba',\n",
    "    [ ('ab*', 'a followed by zero or more b'),\n",
    "    ('ab+', 'a followed by one or more b'),\n",
    "    ('ab?', 'a followed by zero or one b'),\n",
    "    ('ab{3}', 'a followed by three b'),\n",
    "    ('ab{2,3}', 'a followed by two to three b'),\n",
    "    ])"
   ]
  },
  {
   "cell_type": "markdown",
   "metadata": {},
   "source": [
    "通常，当处理重复指令时， *re* 会尽可以消耗（匹配使用完）多的输入源。这即所谓的 *贪婪* 行为，它会导致更少的匹配数量，或每个匹配时包含有更多的内容。*贪婪* 行为可以通过在重复指令后加 `?` 来关闭。"
   ]
  },
  {
   "cell_type": "code",
   "execution_count": 34,
   "metadata": {},
   "outputs": [
    {
     "name": "stdout",
     "output_type": "stream",
     "text": [
      "Pattern 'ab*?' (a followed by zero or more b)\n",
      "\n",
      "  'abbaabbba'\n",
      "  'a'\n",
      "  ...'a'\n",
      "  ....'a'\n",
      "  ........'a'\n",
      "\n",
      "Pattern 'ab+?' (a followed by one or more b)\n",
      "\n",
      "  'abbaabbba'\n",
      "  'ab'\n",
      "  ....'ab'\n",
      "\n",
      "Pattern 'ab??' (a followed by zero or one b)\n",
      "\n",
      "  'abbaabbba'\n",
      "  'a'\n",
      "  ...'a'\n",
      "  ....'a'\n",
      "  ........'a'\n",
      "\n",
      "Pattern 'ab{3}?' (a followed by three b)\n",
      "\n",
      "  'abbaabbba'\n",
      "  ....'abbb'\n",
      "\n",
      "Pattern 'ab{2,3}?' (a followed by two to three b)\n",
      "\n",
      "  'abbaabbba'\n",
      "  'abb'\n",
      "  ....'abb'\n",
      "\n"
     ]
    }
   ],
   "source": [
    "test_patterns(\n",
    "    'abbaabbba',\n",
    "    [ ('ab*?', 'a followed by zero or more b'),\n",
    "    ('ab+?', 'a followed by one or more b'),\n",
    "    ('ab??', 'a followed by zero or one b'),\n",
    "    ('ab{3}?', 'a followed by three b'),\n",
    "    ('ab{2,3}?', 'a followed by two to three b'),\n",
    "    ])"
   ]
  },
  {
   "cell_type": "markdown",
   "metadata": {},
   "source": [
    "### 字符集"
   ]
  },
  {
   "cell_type": "code",
   "execution_count": 35,
   "metadata": {},
   "outputs": [
    {
     "name": "stdout",
     "output_type": "stream",
     "text": [
      "Pattern '[ab]' (either a or b)\n",
      "\n",
      "  'abbaabbba'\n",
      "  'a'\n",
      "  .'b'\n",
      "  ..'b'\n",
      "  ...'a'\n",
      "  ....'a'\n",
      "  .....'b'\n",
      "  ......'b'\n",
      "  .......'b'\n",
      "  ........'a'\n",
      "\n",
      "Pattern 'a[ab]+' (a followed by 1 or more a or b)\n",
      "\n",
      "  'abbaabbba'\n",
      "  'abbaabbba'\n",
      "\n",
      "Pattern 'a[ab]+?' (a followed by 1 or more a or b, not greedy)\n",
      "\n",
      "  'abbaabbba'\n",
      "  'ab'\n",
      "  ...'aa'\n",
      "\n"
     ]
    }
   ],
   "source": [
    "test_patterns(\n",
    "    'abbaabbba',\n",
    "    [ ('[ab]', 'either a or b'),\n",
    "        ('a[ab]+', 'a followed by 1 or more a or b'),\n",
    "        ('a[ab]+?', 'a followed by 1 or more a or b, not greedy'),\n",
    "    ])"
   ]
  },
  {
   "cell_type": "markdown",
   "metadata": {},
   "source": [
    "使用 `^` 可以排除字符集中的字符。"
   ]
  },
  {
   "cell_type": "code",
   "execution_count": 36,
   "metadata": {},
   "outputs": [
    {
     "name": "stdout",
     "output_type": "stream",
     "text": [
      "Pattern '[^-. ]+' (sequences without -, ., or space)\n",
      "\n",
      "  'This is some text -- with punctuation.'\n",
      "  'This'\n",
      "  .....'is'\n",
      "  ........'some'\n",
      "  .............'text'\n",
      "  .....................'with'\n",
      "  ..........................'punctuation'\n",
      "\n"
     ]
    }
   ],
   "source": [
    "test_patterns(\n",
    "    'This is some text -- with punctuation.',\n",
    "    [ ('[^-. ]+', 'sequences without -, ., or space'),\n",
    "    ])"
   ]
  },
  {
   "cell_type": "markdown",
   "metadata": {},
   "source": [
    "使用字符区间。"
   ]
  },
  {
   "cell_type": "code",
   "execution_count": 37,
   "metadata": {},
   "outputs": [
    {
     "name": "stdout",
     "output_type": "stream",
     "text": [
      "Pattern '[a-z]+' (sequences of lowercase letters)\n",
      "\n",
      "  'This is some text -- with punctuation.'\n",
      "  .'his'\n",
      "  .....'is'\n",
      "  ........'some'\n",
      "  .............'text'\n",
      "  .....................'with'\n",
      "  ..........................'punctuation'\n",
      "\n",
      "Pattern '[A-Z]+' (sequences of uppercase letters)\n",
      "\n",
      "  'This is some text -- with punctuation.'\n",
      "  'T'\n",
      "\n",
      "Pattern '[a-zA-Z]+' (sequences of lowercase or uppercase letters)\n",
      "\n",
      "  'This is some text -- with punctuation.'\n",
      "  'This'\n",
      "  .....'is'\n",
      "  ........'some'\n",
      "  .............'text'\n",
      "  .....................'with'\n",
      "  ..........................'punctuation'\n",
      "\n",
      "Pattern '[A-Z][a-z]+' (one uppercase followed by lowercase)\n",
      "\n",
      "  'This is some text -- with punctuation.'\n",
      "  'This'\n",
      "\n"
     ]
    }
   ],
   "source": [
    "test_patterns(\n",
    "    'This is some text -- with punctuation.',\n",
    "    [ ('[a-z]+', 'sequences of lowercase letters'),\n",
    "    ('[A-Z]+', 'sequences of uppercase letters'),\n",
    "    ('[a-zA-Z]+', 'sequences of lowercase or uppercase letters'),\n",
    "    ('[A-Z][a-z]+', 'one uppercase followed by lowercase'),\n",
    "    ])"
   ]
  },
  {
   "cell_type": "markdown",
   "metadata": {},
   "source": [
    "`.` 可匹配任何单个字符。"
   ]
  },
  {
   "cell_type": "code",
   "execution_count": 38,
   "metadata": {},
   "outputs": [
    {
     "name": "stdout",
     "output_type": "stream",
     "text": [
      "Pattern 'a.' (a followed by any one character)\n",
      "\n",
      "  'abbaabbba'\n",
      "  'ab'\n",
      "  ...'aa'\n",
      "\n",
      "Pattern 'b.' (b followed by any one character)\n",
      "\n",
      "  'abbaabbba'\n",
      "  .'bb'\n",
      "  .....'bb'\n",
      "  .......'ba'\n",
      "\n",
      "Pattern 'a.*b' (a followed by anything, ending in b)\n",
      "\n",
      "  'abbaabbba'\n",
      "  'abbaabbb'\n",
      "\n",
      "Pattern 'a.*?b' (a followed by anything, ending in b)\n",
      "\n",
      "  'abbaabbba'\n",
      "  'ab'\n",
      "  ...'aab'\n",
      "\n"
     ]
    }
   ],
   "source": [
    "test_patterns(\n",
    "    'abbaabbba',\n",
    "    [ ('a.', 'a followed by any one character'),\n",
    "    ('b.', 'b followed by any one character'),\n",
    "    ('a.*b', 'a followed by anything, ending in b'),\n",
    "    ('a.*?b', 'a followed by anything, ending in b'),\n",
    "    ])"
   ]
  },
  {
   "cell_type": "markdown",
   "metadata": {},
   "source": [
    "### 转义码\n",
    "\n",
    "这些都是可被 *re* 模块识别的预定义的字符集。\n",
    "\n",
    "+ `\\d`: 匹配一个数字\n",
    "+ `\\D`: 匹配一个非数字字符\n",
    "+ `\\s`: 匹配一个空白符（tab, 空格，换行等）\n",
    "+ `\\S`: 匹配一个非空白符\n",
    "+ `\\w`: 匹配一个字母或数字\n",
    "+ `\\W`: 匹配一个非字母又非数字的字符"
   ]
  },
  {
   "cell_type": "code",
   "execution_count": 39,
   "metadata": {},
   "outputs": [
    {
     "name": "stdout",
     "output_type": "stream",
     "text": [
      "Pattern '\\\\d+' (sequence of digits)\n",
      "\n",
      "  'A prime #1 example!'\n",
      "  .........'1'\n",
      "\n",
      "Pattern '\\\\D+' (sequence of nondigits)\n",
      "\n",
      "  'A prime #1 example!'\n",
      "  'A prime #'\n",
      "  ..........' example!'\n",
      "\n",
      "Pattern '\\\\s+' (sequence of whitespace)\n",
      "\n",
      "  'A prime #1 example!'\n",
      "  .' '\n",
      "  .......' '\n",
      "  ..........' '\n",
      "\n",
      "Pattern '\\\\S+' (sequence of nonwhitespace)\n",
      "\n",
      "  'A prime #1 example!'\n",
      "  'A'\n",
      "  ..'prime'\n",
      "  ........'#1'\n",
      "  ...........'example!'\n",
      "\n",
      "Pattern '\\\\w+' (alphanumeric characters)\n",
      "\n",
      "  'A prime #1 example!'\n",
      "  'A'\n",
      "  ..'prime'\n",
      "  .........'1'\n",
      "  ...........'example'\n",
      "\n",
      "Pattern '\\\\W+' (nonalphanumeric)\n",
      "\n",
      "  'A prime #1 example!'\n",
      "  .' '\n",
      "  .......' #'\n",
      "  ..........' '\n",
      "  ..................'!'\n",
      "\n"
     ]
    }
   ],
   "source": [
    "test_patterns(\n",
    "    'A prime #1 example!',\n",
    "    [ (r'\\d+', 'sequence of digits'),\n",
    "    (r'\\D+', 'sequence of nondigits'),\n",
    "    (r'\\s+', 'sequence of whitespace'),\n",
    "    (r'\\S+', 'sequence of nonwhitespace'),\n",
    "    (r'\\w+', 'alphanumeric characters'),\n",
    "    (r'\\W+', 'nonalphanumeric'),\n",
    "    ])"
   ]
  },
  {
   "cell_type": "markdown",
   "metadata": {},
   "source": [
    "要匹配正则表达式语法中的字符中，要进行转义。"
   ]
  },
  {
   "cell_type": "code",
   "execution_count": 40,
   "metadata": {},
   "outputs": [
    {
     "name": "stdout",
     "output_type": "stream",
     "text": [
      "Pattern '\\\\\\\\.\\\\+' (escape code)\n",
      "\n",
      "  '\\\\d+ \\\\D+ \\\\s+'\n",
      "  '\\\\d+'\n",
      "  .....'\\\\D+'\n",
      "  ..........'\\\\s+'\n",
      "\n"
     ]
    }
   ],
   "source": [
    "test_patterns(\n",
    "    r'\\d+ \\D+ \\s+',\n",
    "    [ (r'\\\\.\\+', 'escape code'),\n",
    "    ])"
   ]
  },
  {
   "cell_type": "markdown",
   "metadata": {},
   "source": [
    "### 锚点\n",
    "\n",
    "用来指定匹配项出现的位置。\n",
    "\n",
    "+ `^`: 行首或字符串首\n",
    "+ `$`: 行末或字符串末\n",
    "+ `\\A`: 字符串首\n",
    "+ `\\Z`: 字符串末\n",
    "+ `\\b`: 字前或字后的空字符串\n",
    "+ `\\B`: 非字前或字后的空字符串"
   ]
  },
  {
   "cell_type": "code",
   "execution_count": 41,
   "metadata": {},
   "outputs": [
    {
     "name": "stdout",
     "output_type": "stream",
     "text": [
      "Pattern '^\\\\w+' (word at start of string)\n",
      "\n",
      "  'This is some text -- with punctuation.'\n",
      "  'This'\n",
      "\n",
      "Pattern '\\\\A\\\\w+' (word at start of string)\n",
      "\n",
      "  'This is some text -- with punctuation.'\n",
      "  'This'\n",
      "\n",
      "Pattern '\\\\w+\\\\S*$' (word near end of string, skip punctuation)\n",
      "\n",
      "  'This is some text -- with punctuation.'\n",
      "  ..........................'punctuation.'\n",
      "\n",
      "Pattern '\\\\w+\\\\S*\\\\Z' (word near end of string, skip punctuation)\n",
      "\n",
      "  'This is some text -- with punctuation.'\n",
      "  ..........................'punctuation.'\n",
      "\n",
      "Pattern '\\\\w*t\\\\w*' (word containing t)\n",
      "\n",
      "  'This is some text -- with punctuation.'\n",
      "  .............'text'\n",
      "  .....................'with'\n",
      "  ..........................'punctuation'\n",
      "\n",
      "Pattern '\\\\bt\\\\w+' (t at start of word)\n",
      "\n",
      "  'This is some text -- with punctuation.'\n",
      "  .............'text'\n",
      "\n",
      "Pattern '\\\\w+t\\\\b' (t at end of word)\n",
      "\n",
      "  'This is some text -- with punctuation.'\n",
      "  .............'text'\n",
      "\n",
      "Pattern '\\\\Bt\\\\B' (t, not start or end of word)\n",
      "\n",
      "  'This is some text -- with punctuation.'\n",
      "  .......................'t'\n",
      "  ..............................'t'\n",
      "  .................................'t'\n",
      "\n"
     ]
    }
   ],
   "source": [
    "test_patterns(\n",
    "    'This is some text -- with punctuation.',\n",
    "    [ (r'^\\w+', 'word at start of string'),\n",
    "    (r'\\A\\w+', 'word at start of string'),\n",
    "    (r'\\w+\\S*$', 'word near end of string, skip punctuation'),\n",
    "    (r'\\w+\\S*\\Z', 'word near end of string, skip punctuation'),\n",
    "    (r'\\w*t\\w*', 'word containing t'),\n",
    "    (r'\\bt\\w+', 't at start of word'),\n",
    "    (r'\\w+t\\b', 't at end of word'),\n",
    "    (r'\\Bt\\B', 't, not start or end of word'),\n",
    "    ])"
   ]
  },
  {
   "cell_type": "markdown",
   "metadata": {},
   "source": [
    "## 查询限定\n",
    "\n",
    "*match()* 总是从源字符串的开头开始匹配。"
   ]
  },
  {
   "cell_type": "code",
   "execution_count": 42,
   "metadata": {},
   "outputs": [
    {
     "name": "stdout",
     "output_type": "stream",
     "text": [
      "Text : This is some text -- with punctuation.\n",
      "Pattern: is\n",
      "Match : None\n",
      "Search : <_sre.SRE_Match object at 0xb1c5b8e0>\n"
     ]
    }
   ],
   "source": [
    "import re\n",
    "\n",
    "text = 'This is some text -- with punctuation.'\n",
    "pattern = 'is'\n",
    "\n",
    "print 'Text :', text\n",
    "print 'Pattern:', pattern\n",
    "\n",
    "m = re.match(pattern, text)\n",
    "print 'Match :', m\n",
    "s = re.search(pattern, text)\n",
    "print 'Search :', s"
   ]
  },
  {
   "cell_type": "markdown",
   "metadata": {},
   "source": [
    "预编译正则表达式对象的 *search()* 方法可接收可选的 *start* 和 *end* 位置参数，用以限定进行查询的源字符串。"
   ]
  },
  {
   "cell_type": "code",
   "execution_count": 43,
   "metadata": {},
   "outputs": [
    {
     "name": "stdout",
     "output_type": "stream",
     "text": [
      "Text: This is some text -- with punctuation.\n",
      "\n",
      "   0 :  3 = \"This\"\n",
      "   5 :  6 = \"is\"\n"
     ]
    }
   ],
   "source": [
    "import re\n",
    "\n",
    "text = 'This is some text -- with punctuation.'\n",
    "pattern = re.compile(r'\\b\\w*is\\w*\\b')\n",
    "\n",
    "print 'Text:', text\n",
    "print\n",
    "\n",
    "pos = 0\n",
    "while True:\n",
    "    match = pattern.search(text, pos)\n",
    "    if not match:\n",
    "        break\n",
    "    s = match.start()\n",
    "    e = match.end()\n",
    "    print '  %2d : %2d = \"%s\"' % (s, e-1, text[s:e])\n",
    "    #Move forward in text for the next search\n",
    "    pos = e"
   ]
  },
  {
   "cell_type": "markdown",
   "metadata": {},
   "source": [
    "## 匹配分组\n",
    "\n",
    "分组 *group* 通过在模式中定义 `()` 实现。任何一个正则表达式都可以作为一个分组嵌套入更大的表达式中。重复修饰符可以作用于分组上。"
   ]
  },
  {
   "cell_type": "code",
   "execution_count": 44,
   "metadata": {},
   "outputs": [
    {
     "name": "stdout",
     "output_type": "stream",
     "text": [
      "Pattern 'a(ab)' (a followed by literal ab)\n",
      "\n",
      "  'abbaaabbbbaaaaa'\n",
      "  ....'aab'\n",
      "\n",
      "Pattern 'a(a*b*)' (a followed by 0-n a and 0-n b)\n",
      "\n",
      "  'abbaaabbbbaaaaa'\n",
      "  'abb'\n",
      "  ...'aaabbbb'\n",
      "  ..........'aaaaa'\n",
      "\n",
      "Pattern 'a(ab)*' (a followed by 0-n ab)\n",
      "\n",
      "  'abbaaabbbbaaaaa'\n",
      "  'a'\n",
      "  ...'a'\n",
      "  ....'aab'\n",
      "  ..........'a'\n",
      "  ...........'a'\n",
      "  ............'a'\n",
      "  .............'a'\n",
      "  ..............'a'\n",
      "\n",
      "Pattern 'a(ab)+' (a followed by 1-n ab)\n",
      "\n",
      "  'abbaaabbbbaaaaa'\n",
      "  ....'aab'\n",
      "\n"
     ]
    }
   ],
   "source": [
    "test_patterns(\n",
    "    'abbaaabbbbaaaaa',\n",
    "    [ ('a(ab)', 'a followed by literal ab'),\n",
    "    ('a(a*b*)', 'a followed by 0-n a and 0-n b'),\n",
    "    ('a(ab)*', 'a followed by 0-n ab'),\n",
    "    ('a(ab)+', 'a followed by 1-n ab'),\n",
    "    ])"
   ]
  },
  {
   "cell_type": "markdown",
   "metadata": {
    "collapsed": true
   },
   "source": [
    "*Match* 对象上的 *groups()* 方法，可用于访问模式中被每个分组匹配的子串，其返回是一个字符串元组，元组中的字符串是模式中分组按顺匹配的字符串。"
   ]
  },
  {
   "cell_type": "code",
   "execution_count": 45,
   "metadata": {},
   "outputs": [
    {
     "name": "stdout",
     "output_type": "stream",
     "text": [
      "This is some text -- with punctuation.\n",
      "\n",
      "Pattern '^(\\\\w+)' (word at start of string)\n",
      "\n",
      "   ('This',)\n",
      "\n",
      "Pattern '(\\\\w+)\\\\S*$' (word at end, with optional punctuation)\n",
      "\n",
      "   ('punctuation',)\n",
      "\n",
      "Pattern '(\\\\bt\\\\w+)\\\\W+(\\\\w+)' (word starting with t, another word)\n",
      "\n",
      "   ('text', 'with')\n",
      "\n",
      "Pattern '(\\\\w+t)\\\\b' (word ending with t)\n",
      "\n",
      "   ('text',)\n",
      "\n"
     ]
    }
   ],
   "source": [
    "import re\n",
    "\n",
    "text = 'This is some text -- with punctuation.'\n",
    "\n",
    "print text\n",
    "print\n",
    "\n",
    "patterns = [\n",
    "    (r'^(\\w+)', 'word at start of string'),\n",
    "    (r'(\\w+)\\S*$', 'word at end, with optional punctuation'),\n",
    "    (r'(\\bt\\w+)\\W+(\\w+)', 'word starting with t, another word'),\n",
    "    (r'(\\w+t)\\b', 'word ending with t'),\n",
    "]\n",
    "\n",
    "for pattern, desc in patterns:\n",
    "    regex = re.compile(pattern)\n",
    "    match = regex.search(text)\n",
    "    print 'Pattern %r (%s)\\n' % (pattern, desc)\n",
    "    print '  ', match.groups()\n",
    "    print"
   ]
  },
  {
   "cell_type": "markdown",
   "metadata": {},
   "source": [
    "*Match.group()* 可用来获取某个分组的匹配子串，其中 *group(0)* 表示由整个表达式匹配的字符串，而 *group(1)* 等其它调用则返回子分组的匹配字符串。"
   ]
  },
  {
   "cell_type": "code",
   "execution_count": 46,
   "metadata": {},
   "outputs": [
    {
     "name": "stdout",
     "output_type": "stream",
     "text": [
      "Input text: This is some text -- with punctuation.\n",
      "Pattern: (\\bt\\w+)\\W+(\\w+)\n",
      "Entire match: text -- with\n",
      "Word starting with \"t\": text\n",
      "Word after \"t\" word: with\n"
     ]
    }
   ],
   "source": [
    "import re\n",
    "\n",
    "text = 'This is some text -- with punctuation.'\n",
    "\n",
    "print 'Input text:', text\n",
    "\n",
    "#word starting with t, then another word\n",
    "regex = re.compile(r'(\\bt\\w+)\\W+(\\w+)')\n",
    "print 'Pattern:', regex.pattern\n",
    "\n",
    "match = regex.search(text)\n",
    "print 'Entire match:', match.group(0)\n",
    "print 'Word starting with \"t\":', match.group(1)\n",
    "print 'Word after \"t\" word:', match.group(2)"
   ]
  },
  {
   "cell_type": "markdown",
   "metadata": {},
   "source": [
    "Python 扩展了分组语法，添加了 *命名分组 named group*，格式为 `(?P<name>pattern)`。命名分组方便了对命名的引用。这时，可用 *groupdict()* 获取字典形式的分组匹配信息，该字典将分组名映射到了匹配的子串上。"
   ]
  },
  {
   "cell_type": "code",
   "execution_count": 47,
   "metadata": {},
   "outputs": [
    {
     "name": "stdout",
     "output_type": "stream",
     "text": [
      "This is some text -- with punctuation.\n",
      "\n",
      "Matching \"^(?P<first_word>\\w+)\"\n",
      "   ('This',)\n",
      "   {'first_word': 'This'}\n",
      "\n",
      "Matching \"(?P<last_world>\\w+)\\S*$\"\n",
      "   ('punctuation',)\n",
      "   {'last_world': 'punctuation'}\n",
      "\n",
      "Matching \"(?P<t_word>\\bt\\w+)\\W+(?P<other_word>\\w+)\"\n",
      "   ('text', 'with')\n",
      "   {'other_word': 'with', 't_word': 'text'}\n",
      "\n",
      "Matching \"(?P<ends_with_t>\\w+t)\\b\"\n",
      "   ('text',)\n",
      "   {'ends_with_t': 'text'}\n",
      "\n"
     ]
    }
   ],
   "source": [
    "import re\n",
    "\n",
    "text = 'This is some text -- with punctuation.'\n",
    "\n",
    "print text\n",
    "print\n",
    "\n",
    "for pattern in [r'^(?P<first_word>\\w+)',\n",
    "                r'(?P<last_world>\\w+)\\S*$',\n",
    "                r'(?P<t_word>\\bt\\w+)\\W+(?P<other_word>\\w+)',\n",
    "                r'(?P<ends_with_t>\\w+t)\\b',\n",
    "                ]:\n",
    "    regex = re.compile(pattern)\n",
    "    match = regex.search(text)\n",
    "    print 'Matching \"%s\"' % pattern\n",
    "    print '  ', match.groups()\n",
    "    print '  ', match.groupdict()\n",
    "    print"
   ]
  },
  {
   "cell_type": "markdown",
   "metadata": {},
   "source": [
    "下面是 *test_patterns()* 的更新版本，添加了命名分组的信息。"
   ]
  },
  {
   "cell_type": "code",
   "execution_count": 48,
   "metadata": {
    "collapsed": true
   },
   "outputs": [],
   "source": [
    "import re\n",
    "\n",
    "def test_patterns(text, patterns=[]):\n",
    "    \"\"\"Given source text and a list of patterns, look for\n",
    "    matches for each pattern within the text and print\n",
    "    them to stdout.\n",
    "    \"\"\"\n",
    "    # Look for each pattern in the text and print the results\n",
    "    for pattern, desc in patterns:\n",
    "        print 'Pattern %r (%s)\\n' % (pattern, desc)\n",
    "        print '  %r' % text\n",
    "        for match in re.finditer(pattern, text):\n",
    "            s = match.start()\n",
    "            e = match.end()\n",
    "            prefix = ' '*s\n",
    "            print '  %s%r%s ' % (prefix, text[s:e], ' '*(len(text)-e)),\n",
    "            print match.groups()\n",
    "            if match.groupdict():\n",
    "                print '%s%s' % (' ' * (len(text)-s), match.groupdict())\n",
    "        print\n",
    "    return\n",
    "    "
   ]
  },
  {
   "cell_type": "markdown",
   "metadata": {},
   "source": [
    "由于分组本身是一个正则表达式，因此也可以嵌套入分组。"
   ]
  },
  {
   "cell_type": "code",
   "execution_count": 49,
   "metadata": {},
   "outputs": [
    {
     "name": "stdout",
     "output_type": "stream",
     "text": [
      "Pattern 'a((a*)(b*))' (a followed by 0-n a and 0-n b)\n",
      "\n",
      "  'abbaabbba'\n",
      "  'abb'        ('bb', '', 'bb')\n",
      "     'aabbb'   ('abbb', 'a', 'bbb')\n",
      "          'a'  ('', '', '')\n",
      "\n"
     ]
    }
   ],
   "source": [
    "test_patterns(\n",
    "    'abbaabbba',\n",
    "    [ (r'a((a*)(b*))', 'a followed by 0-n a and 0-n b'),\n",
    "    ])"
   ]
  },
  {
   "cell_type": "markdown",
   "metadata": {},
   "source": [
    "分组通过 `|` 可用于指定替代模式。"
   ]
  },
  {
   "cell_type": "code",
   "execution_count": 50,
   "metadata": {},
   "outputs": [
    {
     "name": "stdout",
     "output_type": "stream",
     "text": [
      "Pattern 'a((a+)|(b+))' (a then seq. of a or seq. of b)\n",
      "\n",
      "  'abbaabbba'\n",
      "  'abb'        ('bb', None, 'bb')\n",
      "     'aa'      ('a', 'a', None)\n",
      "\n",
      "Pattern 'a((a|b)+)' (a then seq. of [ab])\n",
      "\n",
      "  'abbaabbba'\n",
      "  'abbaabbba'  ('bbaabbba', 'a')\n",
      "\n"
     ]
    }
   ],
   "source": [
    "test_patterns(\n",
    "    'abbaabbba',\n",
    "    [ (r'a((a+)|(b+))', 'a then seq. of a or seq. of b'),\n",
    "      (r'a((a|b)+)', 'a then seq. of [ab]'),\n",
    "    ])"
   ]
  },
  {
   "cell_type": "markdown",
   "metadata": {},
   "source": [
    "上例中可见，当替代分组没有匹配时，*groups()* 的返回的元组中会为其保留为 None 值。\n",
    "\n",
    "使用 `(?:pattern)` 可定义 *noncapturing* 分组，即该分组的匹配项不会在 *groups()* 调用中返回。"
   ]
  },
  {
   "cell_type": "code",
   "execution_count": 51,
   "metadata": {},
   "outputs": [
    {
     "name": "stdout",
     "output_type": "stream",
     "text": [
      "Pattern 'a((a+)|(b+))' (capturing form)\n",
      "\n",
      "  'abbaabbba'\n",
      "  'abb'        ('bb', None, 'bb')\n",
      "     'aa'      ('a', 'a', None)\n",
      "\n",
      "Pattern 'a((?:a+)|(?:b+))' (noncapturing)\n",
      "\n",
      "  'abbaabbba'\n",
      "  'abb'        ('bb',)\n",
      "     'aa'      ('a',)\n",
      "\n"
     ]
    }
   ],
   "source": [
    "test_patterns(\n",
    "    'abbaabbba',\n",
    "    [ (r'a((a+)|(b+))', 'capturing form'),\n",
    "      (r'a((?:a+)|(?:b+))', 'noncapturing'),\n",
    "    ])"
   ]
  },
  {
   "cell_type": "markdown",
   "metadata": {},
   "source": [
    "## 查询选项\n",
    "\n",
    "匹配引擎处理表达式的过程可以通过查询选项来修改，多个选项可以通过位或操作来组合，并传给 *compile()*, *search()* 和 *match()* 等函数。\n",
    "\n",
    "### 大小写无关匹配 IGNORECASE"
   ]
  },
  {
   "cell_type": "code",
   "execution_count": 52,
   "metadata": {},
   "outputs": [
    {
     "name": "stdout",
     "output_type": "stream",
     "text": [
      "Text:\n",
      "  'This is some text -- with punctuation.'\n",
      "Pattern:\n",
      "  \\bT\\w+\n",
      "Case-sensitive:\n",
      "  'This'\n",
      "Case-insensitive:\n",
      "  'This'\n",
      "  'text'\n"
     ]
    }
   ],
   "source": [
    "import re\n",
    "\n",
    "text = 'This is some text -- with punctuation.'\n",
    "pattern = r'\\bT\\w+'\n",
    "with_case = re.compile(pattern)\n",
    "without_case = re.compile(pattern, re.IGNORECASE)\n",
    "\n",
    "print 'Text:\\n  %r' % text\n",
    "print 'Pattern:\\n  %s' % pattern\n",
    "print 'Case-sensitive:'\n",
    "for match in with_case.findall(text):\n",
    "    print '  %r' % match\n",
    "print 'Case-insensitive:'\n",
    "for match in without_case.findall(text):\n",
    "    print '  %r' % match"
   ]
  },
  {
   "cell_type": "markdown",
   "metadata": {},
   "source": [
    "### 多行输入\n",
    "\n",
    "*MULTILINE* 选项控制对锚点指令的解析，当开启 *MULTILINE* 模式时，`^` 和 `$` 针对的都是行（以 `\\n` 进行分行），未开启时，针对的则是整个字符串。"
   ]
  },
  {
   "cell_type": "code",
   "execution_count": 53,
   "metadata": {},
   "outputs": [
    {
     "name": "stdout",
     "output_type": "stream",
     "text": [
      "Text:\n",
      " 'This is some text -- with punctuation.\\nA second line.'\n",
      "Pattern:\n",
      " (^\\w+)|(\\w+\\S*$)\n",
      "Single Line:\n",
      "  ('This', '')\n",
      "  ('', 'line.')\n",
      "Multiline:\n",
      "  ('This', '')\n",
      "  ('', 'punctuation.')\n",
      "  ('A', '')\n",
      "  ('', 'line.')\n"
     ]
    }
   ],
   "source": [
    "import re\n",
    "\n",
    "text = 'This is some text -- with punctuation.\\nA second line.'\n",
    "pattern = r'(^\\w+)|(\\w+\\S*$)'\n",
    "single_line = re.compile(pattern)\n",
    "multiline = re.compile(pattern, re.MULTILINE)\n",
    "\n",
    "print 'Text:\\n %r' % text\n",
    "print 'Pattern:\\n %s' % pattern\n",
    "print 'Single Line:'\n",
    "for match in single_line.findall(text):\n",
    "    print '  %r' % (match,)\n",
    "print 'Multiline:'\n",
    "for match in multiline.findall(text):\n",
    "    print '  %r' % (match,)"
   ]
  },
  {
   "cell_type": "markdown",
   "metadata": {},
   "source": [
    "`.` 默认不能匹配换行符，只有当 *DOTALL* 选项开启时才匹配。"
   ]
  },
  {
   "cell_type": "code",
   "execution_count": 54,
   "metadata": {},
   "outputs": [
    {
     "name": "stdout",
     "output_type": "stream",
     "text": [
      "Text:\n",
      " 'This is some text -- with punctuation.\\nA second line.'\n",
      "Pattern:\n",
      " .+\n",
      "No newlines:\n",
      "  'This is some text -- with punctuation.'\n",
      "  'A second line.'\n",
      "Dotall:\n",
      "  'This is some text -- with punctuation.\\nA second line.'\n"
     ]
    }
   ],
   "source": [
    "import re\n",
    "\n",
    "text = 'This is some text -- with punctuation.\\nA second line.'\n",
    "pattern = r'.+'\n",
    "no_newlines  = re.compile(pattern)\n",
    "dotall = re.compile(pattern, re.DOTALL)\n",
    "\n",
    "print 'Text:\\n %r' % text\n",
    "print 'Pattern:\\n %s' % pattern\n",
    "print 'No newlines:'\n",
    "for match in no_newlines.findall(text):\n",
    "    print '  %r' % match\n",
    "print 'Dotall:'\n",
    "for match in dotall.findall(text):\n",
    "    print '  %r' % match"
   ]
  },
  {
   "cell_type": "markdown",
   "metadata": {},
   "source": [
    "### Unicode\n",
    "\n",
    "在 Python 2 中，*str* 对象使用 ASCII，正则表达式处理器默认模式和输入文本都是 ASCII，并且之前定义的转义字符集如 `\\w` 等也都是针对 ASCII 的。\n",
    "\n",
    "要想在 Python 2 中进行 Unicode 匹配，需要使用 *UNICODE* 选项。"
   ]
  },
  {
   "cell_type": "code",
   "execution_count": 55,
   "metadata": {},
   "outputs": [
    {
     "name": "stdout",
     "output_type": "stream",
     "text": [
      "Text : Français złoty Österreich\n",
      "Pattern : \\w+\n",
      "ASCII : Fran, ais, z, oty, sterreich\n",
      "Unicode : Français, złoty, Österreich\n"
     ]
    }
   ],
   "source": [
    "import re\n",
    "import codecs\n",
    "import sys\n",
    "\n",
    "# set standard output encoding to UTF-8.\n",
    "sys.stdout = codecs.getwriter('UTF-8')(sys.stdout)\n",
    "\n",
    "text = u'Français złoty Österreich'\n",
    "pattern = ur'\\w+'\n",
    "ascii_pattern = re.compile(pattern)\n",
    "unicode_pattern = re.compile(pattern, re.UNICODE)\n",
    "\n",
    "print 'Text :', text\n",
    "print 'Pattern :', pattern\n",
    "print 'ASCII :', u', '.join(ascii_pattern.findall(text))\n",
    "print 'Unicode :', u', '.join(unicode_pattern.findall(text))"
   ]
  },
  {
   "cell_type": "markdown",
   "metadata": {},
   "source": [
    "上例中可看到，未开启 *UNICODE* 选项时，`\\w` 不能匹配 Unicode 字符，当开启时，则由正则表达式引擎自行查询 Unicode 数据库，来决定 `\\W` 等预定义字符集的包含字符范围。\n",
    "\n",
    "当然，在 Python 3 时，由于所有的字符串都是 Unicode 的，故不再需要该选项了。\n",
    "\n",
    "\n",
    "### 冗长表达式语法\n",
    "\n",
    "冗长模式下，表达式中可以有注释，并忽略每行前后的空白符。\n",
    "\n",
    "下面的例子中一个用的普通（压缩）模式，一个使用冗长模式，用于验证 *.com, .org, .edu* 三种域名中的电子邮件地址的有效性。"
   ]
  },
  {
   "cell_type": "code",
   "execution_count": 56,
   "metadata": {
    "scrolled": true
   },
   "outputs": [
    {
     "name": "stdout",
     "output_type": "stream",
     "text": [
      "first.last@example.com          Matches\n",
      "first.last+category@gmail.com   Matches\n",
      "valid-address@mail.example.com  Matches\n",
      "not-valid@example.foo           No match\n"
     ]
    }
   ],
   "source": [
    "import re\n",
    "\n",
    "address = re.compile('[\\w\\d.+-]+@([\\w\\d.]+\\.)+(com|org|edu)',\n",
    "                    re.UNICODE)\n",
    "\n",
    "candidates = [\n",
    "    u'first.last@example.com',\n",
    "    u'first.last+category@gmail.com',\n",
    "    u'valid-address@mail.example.com',\n",
    "    u'not-valid@example.foo',\n",
    "]\n",
    "\n",
    "for candidate in candidates:\n",
    "    match = address.search(candidate)\n",
    "    print '%-30s  %s' % (candidate, 'Matches' if match else 'No match')"
   ]
  },
  {
   "cell_type": "markdown",
   "metadata": {},
   "source": [
    "下面是对应的冗长模式的例子。"
   ]
  },
  {
   "cell_type": "code",
   "execution_count": 57,
   "metadata": {},
   "outputs": [
    {
     "name": "stdout",
     "output_type": "stream",
     "text": [
      "first.last@example.com          Matches\n",
      "first.last+category@gmail.com   Matches\n",
      "valid-address@mail.example.com  Matches\n",
      "not-valid@example.foo           No match\n"
     ]
    }
   ],
   "source": [
    "import re\n",
    "\n",
    "address = re.compile(\n",
    "    '''\n",
    "    [\\w\\d.+-]+    # username\n",
    "    @\n",
    "    ([\\w\\d.]+\\.)+ # domain name prefix\n",
    "    (com|org|edu) # TODO: support more top-level domains\n",
    "    ''',\n",
    "    re.UNICODE | re.VERBOSE)\n",
    "\n",
    "candidates = [\n",
    "    u'first.last@example.com',\n",
    "    u'first.last+category@gmail.com',\n",
    "    u'valid-address@mail.example.com',\n",
    "    u'not-valid@example.foo',\n",
    "]\n",
    "\n",
    "for candidate in candidates:\n",
    "    match = address.search(candidate)\n",
    "    print '%-30s  %s' % (candidate, 'Matches' if match else 'No match')"
   ]
  },
  {
   "cell_type": "markdown",
   "metadata": {},
   "source": [
    "下面的版本中加入了命名分组信息。"
   ]
  },
  {
   "cell_type": "code",
   "execution_count": 58,
   "metadata": {},
   "outputs": [
    {
     "name": "stdout",
     "output_type": "stream",
     "text": [
      "Candidate: first.last@example.com\n",
      " Name: None\n",
      " Email: first.last@example.com\n",
      "Candidate: first.last+category@gmail.com\n",
      " Name: None\n",
      " Email: first.last+category@gmail.com\n",
      "Candidate: valid-address@mail.example.com\n",
      " Name: None\n",
      " Email: valid-address@mail.example.com\n",
      "Candidate: not-valid@example.foo\n",
      " No match\n",
      "Candidate: First Last <first.last@example.com>\n",
      " Name: First Last\n",
      " Email: first.last@example.com\n",
      "Candidate: No Brackets first.last@example.com\n",
      " Name: None\n",
      " Email: first.last@example.com\n",
      "Candidate: First Last\n",
      " No match\n",
      "Candidate: First Middle Last <first.last@example.com>\n",
      " Name: First Middle Last\n",
      " Email: first.last@example.com\n",
      "Candidate: First M. Last <first.last@example.com>\n",
      " Name: First M. Last\n",
      " Email: first.last@example.com\n",
      "Candidate: <first.last@example.com>\n",
      " Name: None\n",
      " Email: first.last@example.com\n"
     ]
    }
   ],
   "source": [
    "import re\n",
    "\n",
    "address = re.compile(\n",
    "    '''\n",
    "    # A name is made up of letters, and may include \".\"\n",
    "    # for title abbreviations and middle initials.\n",
    "    ((?P<name>\n",
    "        ([\\w.,]+\\s+)*[\\w.,]+)\n",
    "        \\s*\n",
    "        # Email addresses are wrapped in angle\n",
    "        # brackets: < > but only if a name is\n",
    "        # found, so keep the start bracket in this group.\n",
    "        <\n",
    "    )? # the entire name is optional\n",
    "    \n",
    "    # The address itself: username@domain.tld\n",
    "    (?P<email>\n",
    "        [\\w\\d.+-]+  # username\n",
    "        @\n",
    "        ([\\w\\d.]+\\.)+ # domain name prefix\n",
    "        (com|org|edu) # limit the allowed top-level domains\n",
    "    )\n",
    "    \n",
    "    >? # optional closing angle bracket\n",
    "    ''',\n",
    "    re.UNICODE | re.VERBOSE\n",
    ")\n",
    "\n",
    "candidates = [\n",
    "    u'first.last@example.com',\n",
    "    u'first.last+category@gmail.com',\n",
    "    u'valid-address@mail.example.com',\n",
    "    u'not-valid@example.foo',\n",
    "    u'First Last <first.last@example.com>',\n",
    "    u'No Brackets first.last@example.com',\n",
    "    u'First Last',\n",
    "    u'First Middle Last <first.last@example.com>',\n",
    "    u'First M. Last <first.last@example.com>',\n",
    "    u'<first.last@example.com>',\n",
    "]\n",
    "\n",
    "for candidate in candidates:\n",
    "    print 'Candidate:', candidate\n",
    "    match = address.search(candidate)\n",
    "    if match:\n",
    "        print ' Name:', match.groupdict()['name']\n",
    "        print ' Email:', match.groupdict()['email']\n",
    "    else:\n",
    "        print ' No match'"
   ]
  },
  {
   "cell_type": "markdown",
   "metadata": {},
   "source": [
    "### 将控制选项嵌入到正则表达式中\n",
    "\n",
    "控制选项不只能用在 *compile()* 时使用，也可以直接加入到表达式中。由于这些控制选项是作为于整个表达式的，故要放在加在表达式的最前面，如开启大小写无关模式，在表达式前加 `(?i)`。\n",
    "\n",
    "控制选项常量名与对应的缩写如下：\n",
    "\n",
    "+ `IGNORECASE`: `i`\n",
    "+ `MULTILINE`: `m`\n",
    "+ `DOTALL`: `s`\n",
    "+ `UNICODE`: `u`\n",
    "+ `VERBOSE`: `v`\n",
    "\n",
    "多个选项也可以组合，如 `(?imu)`。\n",
    "\n",
    "下面是一个例子。"
   ]
  },
  {
   "cell_type": "code",
   "execution_count": 59,
   "metadata": {},
   "outputs": [
    {
     "name": "stdout",
     "output_type": "stream",
     "text": [
      "Text:  This is some text -- with punctuation.\n",
      "Pattern:  (?i)\\bT\\w+\n",
      "Matches:  ['This', 'text']\n"
     ]
    }
   ],
   "source": [
    "import re\n",
    "\n",
    "text = 'This is some text -- with punctuation.'\n",
    "pattern = r'(?i)\\bT\\w+'\n",
    "regex = re.compile(pattern)\n",
    "\n",
    "print 'Text: ', text\n",
    "print 'Pattern: ', pattern\n",
    "print 'Matches: ', regex.findall(text)"
   ]
  },
  {
   "cell_type": "markdown",
   "metadata": {},
   "source": [
    "## 向前或向后条件判定\n",
    "\n",
    "这些判定并不消耗输入源，即判定处理后并不移动输入源的当前位置。向前肯定式判定 *positive look-ahead assertion* 使用 `(?=pattern)`。\n",
    "\n",
    "下面的例子中，判定电子邮件地址是否包围在平衡的尖括号中，或者没有包围在括号中。"
   ]
  },
  {
   "cell_type": "code",
   "execution_count": 60,
   "metadata": {},
   "outputs": [
    {
     "name": "stdout",
     "output_type": "stream",
     "text": [
      "Candidate: First Last <first.last@example.com>\n",
      " Name: First Last\n",
      " Email: first.last@example.com\n",
      "Candidate: No Brackets first.last@example.com\n",
      " Name: No Brackets\n",
      " Email: first.last@example.com\n",
      "Candidate: Open Bracket <first.last@example.com\n",
      " No match\n",
      "Candidate: Close Bracket first.last@example.com>\n",
      " No match\n"
     ]
    }
   ],
   "source": [
    "import re\n",
    "\n",
    "address = re.compile(\n",
    "    '''\n",
    "    # A name is made up of letters, and may include \".\"\n",
    "    # for title abbreviations and middle initials.\n",
    "    ((?P<name>\n",
    "        ([\\w.,]+\\s+)*[\\w.,]+\n",
    "     )\n",
    "     \\s+\n",
    "    ) # name is no longer optional\n",
    "    \n",
    "    # LOOKAHEAD\n",
    "    # Email addresses are wrapped in angle brackets, but only\n",
    "    # if they are both present or neither is.\n",
    "    (?=(<.*>$)  # remainder wrapped in angle brackets\n",
    "        |\n",
    "        ([^<].*[^>]$)  # remainder *not* wrappped in angle brackets\n",
    "    )\n",
    "    \n",
    "    <? # optional opening angle bracket\n",
    "    \n",
    "    # The address itself: username@domain.tld\n",
    "    (?P<email>\n",
    "        [\\w\\d.+-]+  # username\n",
    "        @\n",
    "        ([\\w\\d.]+\\.)+  # domain name prefix\n",
    "        (com|org|edu)  # limit the allowed top-level domains\n",
    "    )\n",
    "    \n",
    "    >? # optioanl closing angle bracket\n",
    "    ''',\n",
    "    re.UNICODE | re.VERBOSE\n",
    ")\n",
    "\n",
    "candidates = [\n",
    "    u'First Last <first.last@example.com>',\n",
    "    u'No Brackets first.last@example.com',\n",
    "    u'Open Bracket <first.last@example.com',\n",
    "    u'Close Bracket first.last@example.com>',\n",
    "]\n",
    "\n",
    "for candidate in candidates:\n",
    "    print 'Candidate:', candidate\n",
    "    match = address.search(candidate)\n",
    "    if match:\n",
    "        print ' Name:', match.groupdict()['name']\n",
    "        print ' Email:', match.groupdict()['email']\n",
    "    else:\n",
    "        print ' No match'"
   ]
  },
  {
   "cell_type": "markdown",
   "metadata": {},
   "source": [
    "向前否定性判定使用 `(?!pattern)`。下例实现了过滤 noreply 邮件地址。"
   ]
  },
  {
   "cell_type": "code",
   "execution_count": 61,
   "metadata": {},
   "outputs": [
    {
     "name": "stdout",
     "output_type": "stream",
     "text": [
      "Candidate: first.last@example.com\n",
      " Match: first.last@example.com\n",
      "Candidate: noreply@example.com’\n",
      " No match\n"
     ]
    }
   ],
   "source": [
    "import re\n",
    "\n",
    "address = re.compile(\n",
    "    '''\n",
    "    ^\n",
    "    # An address: username@domain.tld\n",
    "    \n",
    "    # Ignore noreply address\n",
    "    (?!noreply@.*$)\n",
    "    \n",
    "    [\\w\\d.+-]+  # username\n",
    "    @\n",
    "    ([\\w\\d.]+\\.)+  # domain name prefix\n",
    "    (com|org|edu)  # limit the allowed top-level domains\n",
    "    \n",
    "    $\n",
    "    ''',\n",
    "    re.UNICODE | re.VERBOSE\n",
    ")\n",
    "\n",
    "candidates = [\n",
    "    u'first.last@example.com',\n",
    "    u'noreply@example.com’'\n",
    "]\n",
    "\n",
    "for candidate in candidates:\n",
    "    print 'Candidate:', candidate\n",
    "    match = address.search(candidate)\n",
    "    if match:\n",
    "        print ' Match:', candidate[match.start(): match.end()]\n",
    "    else:\n",
    "        print ' No match'"
   ]
  },
  {
   "cell_type": "markdown",
   "metadata": {},
   "source": [
    "上例也可以用向后否定式判定实现，使用 `(?<!pattern>)` 语法。"
   ]
  },
  {
   "cell_type": "code",
   "execution_count": 62,
   "metadata": {},
   "outputs": [
    {
     "name": "stdout",
     "output_type": "stream",
     "text": [
      "Candidate: first.last@example.com\n",
      " Match: first.last@example.com\n",
      "Candidate: noreply@example.com’\n",
      " No match\n"
     ]
    }
   ],
   "source": [
    "import re\n",
    "\n",
    "address = re.compile(\n",
    "    '''\n",
    "    ^\n",
    "    # An address: username@domain.tld\n",
    "    \n",
    "    [\\w\\d.+-]+  # username\n",
    "    \n",
    "    # Ignore noreply address\n",
    "    (?<!noreply)\n",
    "    \n",
    "    \n",
    "    @\n",
    "    ([\\w\\d.]+\\.)+  # domain name prefix\n",
    "    (com|org|edu)  # limit the allowed top-level domains\n",
    "    \n",
    "    $\n",
    "    ''',\n",
    "    re.UNICODE | re.VERBOSE\n",
    ")\n",
    "\n",
    "candidates = [\n",
    "    u'first.last@example.com',\n",
    "    u'noreply@example.com’'\n",
    "]\n",
    "\n",
    "for candidate in candidates:\n",
    "    print 'Candidate:', candidate\n",
    "    match = address.search(candidate)\n",
    "    if match:\n",
    "        print ' Match:', candidate[match.start(): match.end()]\n",
    "    else:\n",
    "        print ' No match'"
   ]
  },
  {
   "cell_type": "markdown",
   "metadata": {},
   "source": [
    "向后判定和向前判定有些不同，它使用的模式 `pattern` 必须是固定长度的，如果模式中有重复指令，重复数也必须是固定的。\n",
    "\n",
    "肯定式向后判定使用 `(?<=pattern)`，下例中实现了查找 Twitter 名。"
   ]
  },
  {
   "cell_type": "code",
   "execution_count": 63,
   "metadata": {},
   "outputs": [
    {
     "name": "stdout",
     "output_type": "stream",
     "text": [
      "This text includes two Twitter handles.\n",
      "    One for @ThePSF, and one for the author, @doughellmann.\n",
      "    \n",
      "Handler: ThePSF\n",
      "Handler: doughellmann\n"
     ]
    }
   ],
   "source": [
    "import re\n",
    "\n",
    "twitter = re.compile(\n",
    "    '''\n",
    "    # A twitter handler: @username\n",
    "    (?<=@)\n",
    "    ([\\w\\d_]+)  # username\n",
    "    ''',\n",
    "    re.UNICODE | re.VERBOSE\n",
    ")\n",
    "\n",
    "text = '''This text includes two Twitter handles.\n",
    "    One for @ThePSF, and one for the author, @doughellmann.\n",
    "    '''\n",
    "\n",
    "print text\n",
    "for match in twitter.findall(text):\n",
    "    print 'Handler:', match"
   ]
  },
  {
   "cell_type": "markdown",
   "metadata": {},
   "source": [
    "## 表达式中的自引用\n",
    "\n",
    "对分组的引用可用 `\\num` 语法，但是 `\\123` 等 3 位数的会被正则表达式解析成为八进制数，故这种引用最多能对 1--99 共 99 个分组进行引用。"
   ]
  },
  {
   "cell_type": "code",
   "execution_count": 64,
   "metadata": {},
   "outputs": [
    {
     "name": "stdout",
     "output_type": "stream",
     "text": [
      "Candidate: First Last <first.last@example.com>\n",
      " Match name : First Last\n",
      " Match email: first.last@example.com\n",
      "Candidate: Different Name <first.last@example.com>\n",
      " No match\n",
      "Candidate: First Middle Last <first.last@example.com>\n",
      " Match name : First Last\n",
      " Match email: first.last@example.com\n",
      "Candidate: First M. Last <first.last@example.com>\n",
      " Match name : First Last\n",
      " Match email: first.last@example.com\n"
     ]
    }
   ],
   "source": [
    "import re\n",
    "\n",
    "address = re.compile(\n",
    "    r'''\n",
    "    # The regular name\n",
    "    (\\w+)  # first name\n",
    "    \\s+\n",
    "    (([\\w.])+\\s+)?  # optional middle name or initial\n",
    "    (\\w+)   # last anme\n",
    "    \n",
    "    \\s+\n",
    "    \n",
    "    <\n",
    "    \n",
    "    # The address: first_name.last_name@domain.tld\n",
    "    (?P<email>\n",
    "        \\1  # first name\n",
    "        \\.\n",
    "        \\4  # last name\n",
    "        @\n",
    "        ([\\w\\d.]+\\.)+  # domain name prefix\n",
    "        (com|org|edu)  # limit the allowed top-level domains\n",
    "    )\n",
    "    \n",
    "    >\n",
    "    ''',\n",
    "    re.UNICODE | re.VERBOSE | re.IGNORECASE )\n",
    "\n",
    "candidates = [\n",
    "    u'First Last <first.last@example.com>',\n",
    "    u'Different Name <first.last@example.com>',\n",
    "    u'First Middle Last <first.last@example.com>',\n",
    "    u'First M. Last <first.last@example.com>',\n",
    "]\n",
    "\n",
    "for candidate in candidates:\n",
    "    print 'Candidate:', candidate\n",
    "    match = address.search(candidate)\n",
    "    if match:\n",
    "        print ' Match name :', match.group(1), match.group(4)\n",
    "        print ' Match email:', match.group(5)\n",
    "    else:\n",
    "        print ' No match'"
   ]
  },
  {
   "cell_type": "markdown",
   "metadata": {},
   "source": [
    "基于分组编号进行引用，当分组改变时，进行要更新引用号。使用命名分组及引用可以避免这种不便。"
   ]
  },
  {
   "cell_type": "code",
   "execution_count": 65,
   "metadata": {},
   "outputs": [
    {
     "name": "stdout",
     "output_type": "stream",
     "text": [
      "Candidate: First Last <first.last@example.com>\n",
      " Match name : First Last\n",
      " Match email: first.last@example.com\n",
      "Candidate: Different Name <first.last@example.com>\n",
      " No match\n",
      "Candidate: First Middle Last <first.last@example.com>\n",
      " Match name : First Last\n",
      " Match email: first.last@example.com\n",
      "Candidate: First M. Last <first.last@example.com>\n",
      " Match name : First Last\n",
      " Match email: first.last@example.com\n"
     ]
    }
   ],
   "source": [
    "import re\n",
    "\n",
    "address = re.compile(\n",
    "    '''\n",
    "    # The regular name\n",
    "    (?P<first_name>\\w+)\n",
    "    \\s+\n",
    "    (([\\w.]+)\\s+)?  # optional middle name or initial\n",
    "    (?P<last_name>\\w+)\n",
    "    \n",
    "    \\s+\n",
    "    \n",
    "    <\n",
    "    \n",
    "    # The address: first_name.last_name@domain.tld\n",
    "    (?P<email>\n",
    "        (?P=first_name)\n",
    "        \\.\n",
    "        (?P=last_name)\n",
    "        @\n",
    "        ([\\w\\d.]+\\.)+  # domain name prefix\n",
    "        (com|org|edu)  # limit the allowed top-level domains\n",
    "    )\n",
    "    \n",
    "    >\n",
    "    ''',\n",
    "    re.UNICODE | re.VERBOSE | re.IGNORECASE )\n",
    "\n",
    "candidates = [\n",
    "    u'First Last <first.last@example.com>',\n",
    "    u'Different Name <first.last@example.com>',\n",
    "    u'First Middle Last <first.last@example.com>',\n",
    "    u'First M. Last <first.last@example.com>',\n",
    "]\n",
    "\n",
    "for candidate in candidates:\n",
    "    print 'Candidate:', candidate\n",
    "    match = address.search(candidate)\n",
    "    if match:\n",
    "        print ' Match name :', match.groupdict()['first_name'],\n",
    "        print match.groupdict()['last_name']\n",
    "        print ' Match email:', match.groupdict()['email']\n",
    "    else:\n",
    "        print ' No match'"
   ]
  },
  {
   "cell_type": "markdown",
   "metadata": {},
   "source": [
    "反向引用也可用在基于之前分组的匹配情况，选择不同的模式。语法为 `(?(id)yes-expression|no-expression)`，这里的 *id* 是分组的名字或编号，*yes-expression* 是当分组有值时选择的表达式。\n",
    "\n",
    "下例的模式中，邮件地址要求：当出现名字时，地址必须由尖括号包围，当没有出现名字时，地址本身不能被尖括号包围。"
   ]
  },
  {
   "cell_type": "code",
   "execution_count": 66,
   "metadata": {},
   "outputs": [
    {
     "name": "stdout",
     "output_type": "stream",
     "text": [
      "Candidate: First Last <first.last@example.com>\n",
      " No match\n",
      "Candidate: No Brackets first.last@example.com\n",
      " No match\n",
      "Candidate: Open Bracket <first.last@example.com\n",
      " No match\n",
      "Candidate: Close Bracket first.last@example.com>\n",
      " No match\n",
      "Candidate: no.brackets@example.com\n",
      " No match\n"
     ]
    }
   ],
   "source": [
    "import re\n",
    "\n",
    "address = re.compile(\n",
    "    '''\n",
    "    ^\n",
    "    # A name is made up of letters, and may include \".\"\n",
    "    # for title abbreviations and middle initials.\n",
    "    (?P<name>\n",
    "        ([\\w.]+\\s+)*[\\w.]+\n",
    "    )?\n",
    "    \\s*\n",
    "    \n",
    "    # Email addresses are wrapped in angle brackets, but\n",
    "    # only if a name is found.\n",
    "    (?(name)\n",
    "        # remainder wrapped in angle brackets because\n",
    "        # there is a name\n",
    "        (?P<brackets>(?=(<.*>$)))\n",
    "        |\n",
    "        # remainder does not include angle brackets without name\n",
    "        (?=([^<].*[^>]$))\n",
    "    )\n",
    "    \n",
    "    # Only look for a bracket if the look-ahead assertion\n",
    "    # found both of them\n",
    "    (?(brackets)<|\\s*)\n",
    "    \n",
    "    # The address itself: username@domain.tld\n",
    "    (?P<email>\n",
    "        [\\w\\d.+-]  # username\n",
    "        @\n",
    "        ([\\w\\d.]+\\.)+  # domain name prefix\n",
    "        (com|org|edu)  # limit the allowed top-level domains\n",
    "    )\n",
    "    \n",
    "    # Only look for a bracket if the look-ahead assertion\n",
    "    # found both of them\n",
    "    (?(brackets)<|\\s*)\n",
    "    \n",
    "    $\n",
    "    ''',\n",
    "    re.UNICODE | re.VERBOSE)\n",
    "\n",
    "candidates = [\n",
    "    u'First Last <first.last@example.com>',\n",
    "    u'No Brackets first.last@example.com',\n",
    "    u'Open Bracket <first.last@example.com',\n",
    "    u'Close Bracket first.last@example.com>',\n",
    "    u'no.brackets@example.com',\n",
    "]\n",
    "\n",
    "for candidate in candidates:\n",
    "    print 'Candidate:', candidate\n",
    "    match = address.search(candidate)\n",
    "    if match:\n",
    "        print ' Match name :', match.groupdict()['name']\n",
    "        print ' Match email:', match.groupdict()['email']\n",
    "    else:\n",
    "        print ' No match'"
   ]
  },
  {
   "cell_type": "markdown",
   "metadata": {},
   "source": [
    "## 通过模式修改字符串\n",
    "\n",
    "使用 *sub()* 对所有匹配的部分进行替换，替换的内容可以通过反向引用使用匹配的分组内容。"
   ]
  },
  {
   "cell_type": "code",
   "execution_count": 67,
   "metadata": {},
   "outputs": [
    {
     "name": "stdout",
     "output_type": "stream",
     "text": [
      "Text: Make this **bold**. This **too**.\n",
      "Bold: Make this <b>bold</b>. This <b>too</b>.\n"
     ]
    }
   ],
   "source": [
    "import re\n",
    "\n",
    "bold = re.compile(r'\\*{2}(.*?)\\*{2}')\n",
    "\n",
    "text = 'Make this **bold**. This **too**.'\n",
    "\n",
    "print 'Text:', text\n",
    "print 'Bold:', bold.sub(r'<b>\\1</b>', text)"
   ]
  },
  {
   "cell_type": "markdown",
   "metadata": {},
   "source": [
    "当使用命名分组时，替换内容中用 `\\g<name>` 进行引用。`\\g<name>` 语法也适用于编号分组的情况，如 `\\g<1>`。"
   ]
  },
  {
   "cell_type": "code",
   "execution_count": 68,
   "metadata": {},
   "outputs": [
    {
     "name": "stdout",
     "output_type": "stream",
     "text": [
      "Text: Make this **bold**. This **too**.\n",
      "Bold: Make this <b>bold</b>. This <b>too</b>.\n"
     ]
    }
   ],
   "source": [
    "import re\n",
    "\n",
    "bold = re.compile(r'\\*{2}(?P<bold_text>.*?)\\*{2}', re.UNICODE)\n",
    "\n",
    "text = 'Make this **bold**. This **too**.'\n",
    "\n",
    "print 'Text:', text\n",
    "print 'Bold:', bold.sub(r'<b>\\g<bold_text></b>', text)"
   ]
  },
  {
   "cell_type": "markdown",
   "metadata": {},
   "source": [
    "*subn()* 和 *sub()* 类似，但它除了返回修改后的字符串外，还返回一个替换次数，因此返回是一个元组 *(modified_string, count)*。\n",
    "\n",
    "\n",
    "## 用模式进行分隔\n",
    "\n",
    "*str.split()* 的分隔符只能是一个简单的字符串值。当在需要分离出段落（一般由 2+ 个换行符表示）时，*str.split()* 并不太适用。\n",
    "\n",
    "下例中先用 *findall()* 进行段落分离。"
   ]
  },
  {
   "cell_type": "code",
   "execution_count": 69,
   "metadata": {},
   "outputs": [
    {
     "name": "stdout",
     "output_type": "stream",
     "text": [
      "0 'Paragraph one\\non two lines.'\n",
      "\n",
      "1 'Paragraph two.'\n",
      "\n"
     ]
    }
   ],
   "source": [
    "import re\n",
    "\n",
    "text = '''Paragraph one\n",
    "on two lines.\n",
    "\n",
    "\n",
    "Paragraph two.\n",
    "\n",
    "\n",
    "Paragraph three.'''\n",
    "\n",
    "for num, para in enumerate(re.findall(r'(.+?)\\n{2,}',\n",
    "                                     text,\n",
    "                                     flags=re.DOTALL)\n",
    "                          ):\n",
    "    print num, repr(para)\n",
    "    print"
   ]
  },
  {
   "cell_type": "markdown",
   "metadata": {},
   "source": [
    "上例中没有匹配最后一个段落，可以进行扩展，或者直接使用 *re.split()*，它自动对边缘条件进行了处理。"
   ]
  },
  {
   "cell_type": "code",
   "execution_count": 70,
   "metadata": {},
   "outputs": [
    {
     "name": "stdout",
     "output_type": "stream",
     "text": [
      "With findall:\n",
      "0 ('Paragraph one\\non two lines.', '\\n\\n\\n')\n",
      "\n",
      "1 ('Paragraph two.', '\\n\\n\\n')\n",
      "\n",
      "2 ('Paragraph three.', '')\n",
      "\n",
      "\n",
      "With re.split:\n",
      "0 'Paragraph one\\non two lines.'\n",
      "\n",
      "1 'Paragraph two.'\n",
      "\n",
      "2 'Paragraph three.'\n",
      "\n"
     ]
    }
   ],
   "source": [
    "import re\n",
    "\n",
    "text = '''Paragraph one\n",
    "on two lines.\n",
    "\n",
    "\n",
    "Paragraph two.\n",
    "\n",
    "\n",
    "Paragraph three.'''\n",
    "\n",
    "print 'With findall:'\n",
    "for num, para in enumerate(re.findall(r'(.+?)(\\n{2,}|$)',\n",
    "                                     text,\n",
    "                                     flags=re.DOTALL)\n",
    "                          ):\n",
    "    print num, repr(para)\n",
    "    print\n",
    "    \n",
    "print\n",
    "print 'With re.split:'\n",
    "for num, para in enumerate(re.split(r'\\n{2,}', text)):\n",
    "    print num, repr(para)\n",
    "    print"
   ]
  },
  {
   "cell_type": "markdown",
   "metadata": {},
   "source": [
    "当 *re.split()* 使用的分隔模式中使用括号定义分组时，其使用更像 *str.partition()*，它即返回分隔符，也返回其它部分。"
   ]
  },
  {
   "cell_type": "code",
   "execution_count": 71,
   "metadata": {},
   "outputs": [
    {
     "name": "stdout",
     "output_type": "stream",
     "text": [
      "With re.split:\n",
      "0 'Paragraph one\\non two lines.'\n",
      "\n",
      "1 '\\n\\n\\n'\n",
      "\n",
      "2 'Paragraph two.'\n",
      "\n",
      "3 '\\n\\n\\n'\n",
      "\n",
      "4 'Paragraph three.'\n",
      "\n"
     ]
    }
   ],
   "source": [
    "import re\n",
    "\n",
    "text = '''Paragraph one\n",
    "on two lines.\n",
    "\n",
    "\n",
    "Paragraph two.\n",
    "\n",
    "\n",
    "Paragraph three.'''\n",
    "\n",
    "print 'With re.split:'\n",
    "for num, para in enumerate(re.split(r'(\\n{2,})', text)):\n",
    "    print num, repr(para)\n",
    "    print"
   ]
  },
  {
   "cell_type": "markdown",
   "metadata": {},
   "source": [
    "## 更多资源\n",
    "\n",
    "+ [Regular Expression HOWTO](http://docs.python.org/howto/regex.html) Andrew Kuchling's introduction to regular expressions for Python developers.\n",
    "+ [Kodos,  The Python Regular Expression Debugger](http://kodos.sourceforge.net/) An interactive tool for testing regular expressions, created by Phil Schwartz.\n",
    "+ [Regular expression](http://en.wikipedia.org/wiki/Regular_expressions) Wikipedia article that provides a general introduction to regular expression concepts and techniques.\n",
    "+ locale (page 909): 当使用 Unicode 时，使用 `locale` 模块进行语言设置。\n",
    "+ [unicodedata](docs.python.org/library/unicodedata.html) Programmatic access to the Unicode character property database."
   ]
  }
 ],
 "metadata": {
  "kernelspec": {
   "display_name": "Python 2",
   "language": "python",
   "name": "python2"
  },
  "language_info": {
   "codemirror_mode": {
    "name": "ipython",
    "version": 2
   },
   "file_extension": ".py",
   "mimetype": "text/x-python",
   "name": "python",
   "nbconvert_exporter": "python",
   "pygments_lexer": "ipython2",
   "version": "2.7.12"
  }
 },
 "nbformat": 4,
 "nbformat_minor": 2
}
