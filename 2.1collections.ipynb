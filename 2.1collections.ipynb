{
 "cells": [
  {
   "cell_type": "markdown",
   "metadata": {},
   "source": [
    "# Python 2 标准库示例:：2.1 collections-容器数据类型\n",
    "\n",
    "Python 内置了许多标准的数据结构，如 *list*, *tuple*, *dict*, *set* 等。同时，标准库还提供了额外的数据结构，我们可以基于它们创建所需的新数据结构。\n",
    "\n",
    "*collections* 模块中实现了一些容器数据结构。例如，*Deque* 是一个双端队列，可以从任意端进行添加删除操作。*defaultdict* 当在 *key* 缺失时会返回一个默认值，而 *OrderedDict* 会保留元素加入时的次序。*namedtuple* 扩展了普通的 *tuple*，每个成员元素都对应有一个属性名，可用于引用。\n",
    "\n",
    "处理大数据时，*array* 会比 *list* 高效。因此 *array* 初始化时会被限制为存储单个数据类型。\n",
    "\n",
    "序列排序是数据处理的重要组成部分。*heapq* 中的函数在处理元素时会同时保留排序次序。*bisect* 也可以用来构建排序序列，它使用二分查询法。\n",
    "\n",
    "虽然使用 *list* 的 *insert()* 和 *pop()* 可模拟实现队列，但是 *list* 是非线程安全的。可实现线程间的有序交互，要使用 *Queue* 模块。*multiprocessing* 模块中的 *Queue* 支持多进程，使用它可将多线程程序较容易地转为多进程。\n",
    "\n",
    "*struct* 可用于对二进制文件内容或数据流进行解码。\n",
    "\n",
    "在内存管理方面，对于图和树等高度互连的数据结构，可使用 *weakref* 来维护引用，以方便垃圾回收器工作。*copy* 函数可用来复制数据结构及其内容，而 *deepcopy* 可进行递归复制。\n",
    "\n",
    "# collections\n",
    "\n",
    "**目的**: 容器数据类型。\n",
    "\n",
    "**Python 版本**: 2.4+\n",
    "\n",
    "## Counter\n",
    "\n",
    "*Counter* 容器会记录相同值出现的户数，它类同于其它语言中的 *bag* 或 *multiset* 等数据结构。\n",
    "\n",
    "### 初始化\n",
    "\n",
    "支持 3 种形式的初始化。\n",
    "\n",
    "1. 接收一个序列。\n",
    "2. 接收一个字典，key 为元素，值为元素出现的次数。\n",
    "3. 使用关键字参数传入"
   ]
  },
  {
   "cell_type": "code",
   "execution_count": 6,
   "metadata": {},
   "outputs": [
    {
     "name": "stdout",
     "output_type": "stream",
     "text": [
      "Counter({'b': 3, 'a': 2, 'c': 1})\n",
      "Counter({'b': 3, 'a': 2, 'c': 1})\n",
      "Counter({'b': 3, 'a': 2, 'c': 1})\n"
     ]
    }
   ],
   "source": [
    "import collections\n",
    "\n",
    "print collections.Counter(['a', 'b', 'c', 'a', 'b', 'b'])\n",
    "print collections.Counter({'a':2, 'b':3, 'c':1})\n",
    "print collections.Counter(a=2, b=3, c=1)"
   ]
  },
  {
   "cell_type": "markdown",
   "metadata": {},
   "source": [
    "也可以先创建一个空的 *Counter*，再通过 *update()* 函数添加数据（接收的参数和初始化时类似，也有 3 种形式）。"
   ]
  },
  {
   "cell_type": "code",
   "execution_count": 7,
   "metadata": {},
   "outputs": [
    {
     "name": "stdout",
     "output_type": "stream",
     "text": [
      "Initial:  Counter()\n",
      "Sequence: Counter({'a': 3, 'b': 2, 'c': 1, 'd': 1})\n",
      "Dict: Counter({'d': 6, 'a': 4, 'b': 2, 'c': 1})\n"
     ]
    }
   ],
   "source": [
    "import collections\n",
    "\n",
    "c = collections.Counter()\n",
    "print 'Initial: ', c\n",
    "\n",
    "c.update('abcdaab')\n",
    "print 'Sequence:', c\n",
    "\n",
    "c.update({'a': 1, 'd': 5}) # 非替换，而是增加\n",
    "print 'Dict:', c"
   ]
  },
  {
   "cell_type": "markdown",
   "metadata": {},
   "source": [
    "## 访问元素的次数信息\n",
    "\n",
    "可使用类似字典的接口进行访问。"
   ]
  },
  {
   "cell_type": "code",
   "execution_count": 8,
   "metadata": {},
   "outputs": [
    {
     "name": "stdout",
     "output_type": "stream",
     "text": [
      "a : 3\n",
      "b : 2\n",
      "c : 1\n",
      "d : 1\n",
      "e : 0\n"
     ]
    }
   ],
   "source": [
    "import collections\n",
    "\n",
    "c = collections.Counter('abcdaab')\n",
    "\n",
    "for letter in 'abcde':\n",
    "    print '%s : %d' % (letter, c[letter])"
   ]
  },
  {
   "cell_type": "markdown",
   "metadata": {},
   "source": [
    "上例中可见，*Counter* 对于未知（未设置）元素不会抛出 *KeyError*，它会将未知元素的次数设置为 0。\n",
    "\n",
    "*elements()* 方法返回一个迭代器，该迭代器将生产出 *Counter* 中所有次数大小 0 次的已知（已设置）元素，元素次数为多次时，则也生产出多个相同的元素。生产出的元素序列是未定义的。"
   ]
  },
  {
   "cell_type": "code",
   "execution_count": 9,
   "metadata": {},
   "outputs": [
    {
     "name": "stdout",
     "output_type": "stream",
     "text": [
      "Counter({'e': 3, 'm': 1, 'l': 1, 'r': 1, 't': 1, 'y': 1, 'x': 1, 'z': 0})\n",
      "['e', 'e', 'e', 'm', 'l', 'r', 't', 'y', 'x']\n"
     ]
    }
   ],
   "source": [
    "import collections\n",
    "\n",
    "c = collections.Counter('extremely')\n",
    "c['z'] = 0  # 操作后 z 将为已知（已设置元素）\n",
    "print c\n",
    "print list(c.elements())"
   ]
  },
  {
   "cell_type": "markdown",
   "metadata": {},
   "source": [
    "*most_common([ret_count])* 将返回 *ret_count* 个次数最多的元素及其次数。"
   ]
  },
  {
   "cell_type": "code",
   "execution_count": 10,
   "metadata": {},
   "outputs": [
    {
     "name": "stdout",
     "output_type": "stream",
     "text": [
      "Most common:\n",
      "s:   90113\n",
      "e:   88833\n",
      "i:   66986\n"
     ]
    }
   ],
   "source": [
    "import collections\n",
    "\n",
    "c = collections.Counter()\n",
    "with open('/usr/share/dict/words', 'rt') as f:\n",
    "    for line in f:\n",
    "        c.update(line.rstrip().lower())\n",
    "        \n",
    "print 'Most common:'\n",
    "for letter, count in c.most_common(3):\n",
    "    print '%s: %7d' % (letter, count)"
   ]
  },
  {
   "cell_type": "markdown",
   "metadata": {},
   "source": [
    "## 算术运算\n",
    "\n",
    "*Counter* 实例支持算术和集运算。"
   ]
  },
  {
   "cell_type": "code",
   "execution_count": 11,
   "metadata": {},
   "outputs": [
    {
     "name": "stdout",
     "output_type": "stream",
     "text": [
      "C1: Counter({'b': 3, 'a': 2, 'c': 1})\n",
      "C2: Counter({'a': 2, 'b': 1, 'e': 1, 'h': 1, 'l': 1, 'p': 1, 't': 1})\n",
      "\n",
      "Combined counts:\n",
      "Counter({'a': 4, 'b': 4, 'c': 1, 'e': 1, 'h': 1, 'l': 1, 'p': 1, 't': 1})\n",
      "\n",
      "Subtraction:\n",
      "Counter({'b': 2, 'c': 1})\n",
      "\n",
      "Intersection (taking positive minimums):\n",
      "Counter({'a': 2, 'b': 1})\n",
      "\n",
      "Union (taking maximums):\n",
      "Counter({'b': 3, 'a': 2, 'c': 1, 'e': 1, 'h': 1, 'l': 1, 'p': 1, 't': 1})\n"
     ]
    }
   ],
   "source": [
    "import collections\n",
    "\n",
    "c1 = collections.Counter(['a', 'b', 'c', 'a', 'b', 'b'])\n",
    "c2 = collections.Counter('alphabet')\n",
    "\n",
    "print 'C1:', c1\n",
    "print 'C2:', c2\n",
    "\n",
    "print '\\nCombined counts:'\n",
    "print c1 + c2\n",
    "\n",
    "print '\\nSubtraction:'\n",
    "print c1 - c2\n",
    "\n",
    "print '\\nIntersection (taking positive minimums):'\n",
    "print c1 & c2\n",
    "\n",
    "print '\\nUnion (taking maximums):'\n",
    "print c1 | c2"
   ]
  },
  {
   "cell_type": "markdown",
   "metadata": {},
   "source": [
    "## defaultdict\n",
    "\n",
    "内置 *dict* 的 *setdefault()* 可用来键的值，当键不存在时，返回一个默认值。\n",
    "\n",
    "而 *defaultdict* 则在容器初始化前即要先定义初始值函数。"
   ]
  },
  {
   "cell_type": "code",
   "execution_count": 12,
   "metadata": {},
   "outputs": [
    {
     "name": "stdout",
     "output_type": "stream",
     "text": [
      "d: defaultdict(<function default_factory at 0x7fa008ccf398>, {'foo': 'bar'})\n",
      "foo => bar\n",
      "bar => default value\n"
     ]
    }
   ],
   "source": [
    "import collections\n",
    "\n",
    "def default_factory():\n",
    "    return 'default value'\n",
    "\n",
    "d = collections.defaultdict(default_factory, foo='bar')\n",
    "print 'd:', d\n",
    "print 'foo =>', d['foo']\n",
    "print 'bar =>', d['bar']"
   ]
  },
  {
   "cell_type": "markdown",
   "metadata": {},
   "source": [
    "上例中，当首次访问 `d['bar']` 时，由于键不存在，会先调用 *default_factory* 来返回一个默认值，并设置该键对应该值。\n",
    "\n",
    "当将默认值生成函数设置为 *list*, *set*, *int* 等类型时，可以完成一些聚合统计等工作。"
   ]
  },
  {
   "cell_type": "code",
   "execution_count": 13,
   "metadata": {},
   "outputs": [
    {
     "name": "stdout",
     "output_type": "stream",
     "text": [
      "[('blue', [2, 4]), ('red', [1]), ('yellow', [1, 3])]\n"
     ]
    }
   ],
   "source": [
    "import collections\n",
    "\n",
    "d = collections.defaultdict(list)\n",
    "s = [('yellow', 1), ('blue', 2), ('yellow', 3), ('blue', 4), ('red', 1)]\n",
    "\n",
    "for k, v in s:\n",
    "    d[k].append(v)\n",
    "\n",
    "print d.items()"
   ]
  },
  {
   "cell_type": "markdown",
   "metadata": {},
   "source": [
    "上例中，将 *default_factory* 设置为 *list*，则当首次访问键时，由于键不存在，会调用 *list()* 生成一个新列表，并且将该键值设置为该列表。之后通过 *list.append()* 操作将值添加到列表中。\n",
    "\n",
    "这种技术比用 *dict.setdefault()* 实现的更加简单和高效， *dict.setdefault()* 版本如下："
   ]
  },
  {
   "cell_type": "code",
   "execution_count": 14,
   "metadata": {},
   "outputs": [
    {
     "name": "stdout",
     "output_type": "stream",
     "text": [
      "[('blue', [2, 4]), ('red', [1]), ('yellow', [1, 3])]\n"
     ]
    }
   ],
   "source": [
    "d = {}\n",
    "for k, v in s:\n",
    "    d.setdefault(k, []).append(v)\n",
    "    \n",
    "print d.items()"
   ]
  },
  {
   "cell_type": "markdown",
   "metadata": {},
   "source": [
    "类似地，将 *default_factory* 设置为 *set*，可创建一个 *set* 字典。"
   ]
  },
  {
   "cell_type": "code",
   "execution_count": 15,
   "metadata": {},
   "outputs": [
    {
     "name": "stdout",
     "output_type": "stream",
     "text": [
      "[('blue', set([2, 4])), ('red', set([1])), ('yellow', set([1, 3]))]\n"
     ]
    }
   ],
   "source": [
    "import collections\n",
    "\n",
    "d = collections.defaultdict(set)\n",
    "s = [('yellow', 1), ('blue', 2), ('yellow', 3), ('blue', 4), ('red', 1)]\n",
    "\n",
    "for k, v in s:\n",
    "    d[k].add(v)\n",
    "\n",
    "print d.items()"
   ]
  },
  {
   "cell_type": "markdown",
   "metadata": {},
   "source": [
    "将 *default_factory* 设置为 *int* 可使 *defaultdict* 实现计数功能，如下："
   ]
  },
  {
   "cell_type": "code",
   "execution_count": 16,
   "metadata": {},
   "outputs": [
    {
     "name": "stdout",
     "output_type": "stream",
     "text": [
      "[('i', 4), ('p', 2), ('s', 4), ('m', 1)]\n"
     ]
    }
   ],
   "source": [
    "import collections\n",
    "\n",
    "s = 'mississippi'\n",
    "d = collections.defaultdict(int)\n",
    "for k in s:\n",
    "    d[k] += 1\n",
    "\n",
    "print d.items()"
   ]
  },
  {
   "cell_type": "markdown",
   "metadata": {},
   "source": [
    "上例中，函数 *int()* 会返回一个值为 0 的整数对象。\n",
    "\n",
    "## deque\n",
    "\n",
    "*deque* 是一个双端队列，支持从任意一端进行操作。"
   ]
  },
  {
   "cell_type": "code",
   "execution_count": 17,
   "metadata": {},
   "outputs": [
    {
     "name": "stdout",
     "output_type": "stream",
     "text": [
      "Deque: deque(['a', 'b', 'c', 'd', 'e', 'f', 'g'])\n",
      "Length: 7\n",
      "Left end: a\n",
      "Right end: g\n",
      "remove(c): deque(['a', 'b', 'd', 'e', 'f', 'g'])\n"
     ]
    }
   ],
   "source": [
    "import collections\n",
    "\n",
    "d = collections.deque('abcdefg')\n",
    "print 'Deque:', d\n",
    "print 'Length:', len(d)\n",
    "print 'Left end:', d[0]\n",
    "print 'Right end:', d[-1]\n",
    "\n",
    "d.remove('c')  # deque 类似 list\n",
    "print 'remove(c):', d"
   ]
  },
  {
   "cell_type": "markdown",
   "metadata": {},
   "source": [
    "*deque* 是一个序列容器，也支持 *list* 的一些接口，如 *__getitem__()*，*len()*, *remove()* 等。\n",
    "\n",
    "### 添加数据\n",
    "\n",
    "*deque* 的两端分别称为 **left** 和 **right**（默认操作端）。"
   ]
  },
  {
   "cell_type": "code",
   "execution_count": 18,
   "metadata": {},
   "outputs": [
    {
     "name": "stdout",
     "output_type": "stream",
     "text": [
      "extend:  deque(['a', 'b', 'c', 'd', 'e', 'f', 'g'])\n",
      "append:  deque(['a', 'b', 'c', 'd', 'e', 'f', 'g', 'h'])\n",
      "extendleft:  deque([5, 4, 3, 2, 1, 0])\n",
      "appendleft:  deque([6, 5, 4, 3, 2, 1, 0])\n"
     ]
    }
   ],
   "source": [
    "import collections\n",
    "\n",
    "# Add to the right\n",
    "d1 = collections.deque()\n",
    "d1.extend('abcdefg')\n",
    "print 'extend: ', d1\n",
    "d1.append('h')\n",
    "print 'append: ', d1\n",
    "\n",
    "# Add to the left\n",
    "d2 = collections.deque()\n",
    "d2.extendleft(xrange(6))\n",
    "print 'extendleft: ', d2\n",
    "d2.appendleft(6)\n",
    "print 'appendleft: ', d2"
   ]
  },
  {
   "cell_type": "markdown",
   "metadata": {},
   "source": [
    "*extendleft()* 和 *appendleft()* 等都在左端进行操作。\n",
    "\n",
    "### 使用元素\n",
    "\n",
    "*deque* 也可以从两端获取元素，使用 *pop()* 和 *popleft()*。"
   ]
  },
  {
   "cell_type": "code",
   "execution_count": 19,
   "metadata": {},
   "outputs": [
    {
     "name": "stdout",
     "output_type": "stream",
     "text": [
      "From the right:\n",
      "g f e d c b a\n",
      "\n",
      "From the left:\n",
      "0 1 2 3 4 5\n"
     ]
    }
   ],
   "source": [
    "import collections\n",
    "\n",
    "print 'From the right:'\n",
    "d = collections.deque('abcdefg')\n",
    "while True:\n",
    "    try:\n",
    "        print d.pop(),\n",
    "    except IndexError:\n",
    "        break\n",
    "print\n",
    "\n",
    "print '\\nFrom the left:'\n",
    "d = collections.deque(xrange(6))\n",
    "while True:\n",
    "    try:\n",
    "        print d.popleft(),\n",
    "    except IndexError:\n",
    "        break\n",
    "print"
   ]
  },
  {
   "cell_type": "markdown",
   "metadata": {},
   "source": [
    "*deque* 还是线程安全的，可能不同的线程同时操作。"
   ]
  },
  {
   "cell_type": "code",
   "execution_count": 20,
   "metadata": {},
   "outputs": [
    {
     "name": "stdout",
     "output_type": "stream",
     "text": [
      "    Left: 0\n",
      "   Right: 4\n",
      "    Left: 1\n",
      "   Right: 3\n",
      "    Left: 2\n",
      "   Right done\n",
      "    Left done\n"
     ]
    }
   ],
   "source": [
    "import collections\n",
    "import threading\n",
    "import time\n",
    "\n",
    "candle = collections.deque(xrange(5))\n",
    "\n",
    "def burn(direction, nextSource):\n",
    "    while True:\n",
    "        try:\n",
    "            next = nextSource()\n",
    "        except IndexError:\n",
    "            break\n",
    "        else:\n",
    "            print '%8s: %s' % (direction, next)\n",
    "            time.sleep(0.1)\n",
    "    print '%8s done' % direction\n",
    "    return\n",
    "\n",
    "left = threading.Thread(target=burn, args=('Left', candle.popleft))\n",
    "right = threading.Thread(target=burn, args=('Right', candle.pop))\n",
    "\n",
    "left.start()\n",
    "right.start()\n",
    "\n",
    "left.join()\n",
    "right.join()"
   ]
  },
  {
   "cell_type": "markdown",
   "metadata": {},
   "source": [
    "### 回转\n",
    "\n",
    "想象将 *deque* 的两端连接，形成一个圆，即可想象其回转操作。*rotate(n)* 将所有元素向右移动 n 位，移出右端的元素回到前左端最前面，当参数 *n* 为负数时，则是向左回转。"
   ]
  },
  {
   "cell_type": "code",
   "execution_count": 21,
   "metadata": {},
   "outputs": [
    {
     "name": "stdout",
     "output_type": "stream",
     "text": [
      "Normal:  deque([0, 1, 2, 3, 4, 5, 6, 7, 8, 9])\n",
      "Right rotation:  deque([8, 9, 0, 1, 2, 3, 4, 5, 6, 7])\n",
      "Left rotation:  deque([2, 3, 4, 5, 6, 7, 8, 9, 0, 1])\n"
     ]
    }
   ],
   "source": [
    "import collections\n",
    "\n",
    "d = collections.deque(xrange(10))\n",
    "print 'Normal: ', d\n",
    "\n",
    "d = collections.deque(xrange(10))\n",
    "d.rotate(2)\n",
    "print 'Right rotation: ', d\n",
    "\n",
    "d = collections.deque(xrange(10))\n",
    "d.rotate(-2)\n",
    "print 'Left rotation: ', d"
   ]
  },
  {
   "cell_type": "markdown",
   "metadata": {},
   "source": [
    "### deque Recipes\n",
    "\n",
    "#### 1. 实现 Unix tail 功能"
   ]
  },
  {
   "cell_type": "code",
   "execution_count": 22,
   "metadata": {},
   "outputs": [
    {
     "name": "stdout",
     "output_type": "stream",
     "text": [
      "  }\n",
      "\n",
      " },\n",
      "\n",
      " \"nbformat\": 4,\n",
      "\n",
      " \"nbformat_minor\": 2\n",
      "\n",
      "}\n",
      "\n"
     ]
    }
   ],
   "source": [
    "import collections\n",
    "\n",
    "def tail(filename, n=10):\n",
    "    'Return the last n lines of a file'\n",
    "    return collections.deque(open(filename), n)\n",
    "\n",
    "for l in tail('./2.1collections.ipynb', 5):\n",
    "    print l"
   ]
  },
  {
   "cell_type": "markdown",
   "metadata": {},
   "source": [
    "#### 2. 实现 deque 的分片和删除功能\n",
    "\n",
    "可通过 *rotate()* 函数来实现。"
   ]
  },
  {
   "cell_type": "code",
   "execution_count": 23,
   "metadata": {},
   "outputs": [
    {
     "name": "stdout",
     "output_type": "stream",
     "text": [
      "d= deque([0, 1, 2, 3, 4])\n",
      "after delete the 3th item: deque([0, 1, 3, 4])\n"
     ]
    }
   ],
   "source": [
    "import collections\n",
    "\n",
    "def delete_nth(d, n):\n",
    "    d.rotate(-n)  # 将要删除的元素移到最左边（第一个）\n",
    "    d.popleft()\n",
    "    d.rotate(n)\n",
    "    \n",
    "d = collections.deque(xrange(5))\n",
    "print 'd=', d\n",
    "delete_nth(d, 2)\n",
    "print 'after delete the 3th item:', d\n"
   ]
  },
  {
   "cell_type": "markdown",
   "metadata": {},
   "source": [
    "# namedtuple\n",
    "\n",
    "*namedtuple* 的实例没有维护一个字典，因而和 *tuple* 效率一样高。每个 *namedtuple* 类型都需要使用 *namedtuple()* 工厂函数创建，函数的第一个参数和创建的新 *namedtuple* 类型名相同，另一个参数是包含所有数据域命名的字符串。\n",
    "\n",
    "*namedtuple* 实例中的数据域即可以像普通 *tuple* 一样通过数字索引访问，也可以通过数据域名 `obj.attr` 的形式访问。"
   ]
  },
  {
   "cell_type": "code",
   "execution_count": 24,
   "metadata": {},
   "outputs": [
    {
     "name": "stdout",
     "output_type": "stream",
     "text": [
      "Type of Person: <type 'type'>\n",
      "\n",
      "Representation: Person(name='Bob', age=30, gender='male')\n",
      "\n",
      "Field by name: Jane\n",
      "\n",
      "Fields by index:\n",
      "Bob is a 30 year old male\n",
      "Jane is a 29 year old female\n"
     ]
    }
   ],
   "source": [
    "import collections\n",
    "\n",
    "Person = collections.namedtuple('Person', 'name age gender')\n",
    "\n",
    "print 'Type of Person:', type(Person)\n",
    "\n",
    "bob = Person(name='Bob', age=30, gender='male')\n",
    "print '\\nRepresentation:', bob\n",
    "\n",
    "jane = Person(name=\"Jane\", age=29, gender='female')\n",
    "print '\\nField by name:', jane.name\n",
    "\n",
    "print '\\nFields by index:'\n",
    "for p in [bob, jane]:\n",
    "    print '%s is a %d year old %s' % p"
   ]
  },
  {
   "cell_type": "markdown",
   "metadata": {},
   "source": [
    "### 无效的数据域名\n",
    "\n",
    "当数据域名重复，或与 Python 关键字冲突时为无效。当数据域名不可控时（如由数据库查询返回），调用 *namedtuple* 工厂函数时传入 *rename=True*，此时无效的数据域名为基于其位置自动重命名。"
   ]
  },
  {
   "cell_type": "code",
   "execution_count": 25,
   "metadata": {},
   "outputs": [
    {
     "name": "stdout",
     "output_type": "stream",
     "text": [
      "Type names and field names cannot be a keyword: 'class'\n",
      "Encountered duplicate field name: 'age'\n",
      "('name', '_1', 'age', 'gender')\n",
      "('name', 'age', 'gender', '_3')\n"
     ]
    }
   ],
   "source": [
    "import collections\n",
    "\n",
    "try:\n",
    "    collections.namedtuple('Person', 'name class age gender')\n",
    "except ValueError, err:\n",
    "    print err\n",
    "    \n",
    "try:\n",
    "    collections.namedtuple('Person', 'name age gender age')\n",
    "except ValueError, err:\n",
    "    print err\n",
    "    \n",
    "with_class = collections.namedtuple(\n",
    "    'Person', 'name class age gender',\n",
    "    rename=True)\n",
    "print with_class._fields\n",
    "\n",
    "two_ages = collections.namedtuple(\n",
    "    'Person', 'name age gender age',\n",
    "    rename=True)\n",
    "print two_ages._fields"
   ]
  },
  {
   "cell_type": "markdown",
   "metadata": {},
   "source": [
    "# OrderedDict\n",
    "\n",
    "*OrderedDict* 会记录内容添加时的次序，因此对其迭代产生的元素次序和添加元素时是一致的。而普通 *dict* 元素的次序是由其 hash 值决定的。"
   ]
  },
  {
   "cell_type": "code",
   "execution_count": 26,
   "metadata": {},
   "outputs": [
    {
     "name": "stdout",
     "output_type": "stream",
     "text": [
      "Regular dictionary\n",
      "a A\n",
      "c C\n",
      "b B\n",
      "\n",
      "OrderedDict:\n",
      "a A\n",
      "b B\n",
      "c C\n"
     ]
    }
   ],
   "source": [
    "import collections\n",
    "\n",
    "print 'Regular dictionary'\n",
    "d = {}\n",
    "d['a'] = 'A'\n",
    "d['b'] = 'B'\n",
    "d['c'] = 'C'\n",
    "\n",
    "for k, v in d.items():\n",
    "    print k, v\n",
    "    \n",
    "print '\\nOrderedDict:'\n",
    "d = collections.OrderedDict()\n",
    "d['a'] = 'A'\n",
    "d['b'] = 'B'\n",
    "d['c'] = 'C'\n",
    "\n",
    "for k, v in d.items():\n",
    "    print k, v"
   ]
  },
  {
   "cell_type": "markdown",
   "metadata": {},
   "source": [
    "### 相等性\n",
    "\n",
    "普通 *dict* 比较相等时只看内容，而 *OrderedDict* 比较时不仅看内容，而且还要看元素的添加次序。"
   ]
  },
  {
   "cell_type": "code",
   "execution_count": 27,
   "metadata": {},
   "outputs": [
    {
     "name": "stdout",
     "output_type": "stream",
     "text": [
      "dict: True\n",
      "OrderedDict: False\n"
     ]
    }
   ],
   "source": [
    "import collections\n",
    "\n",
    "print 'dict:',\n",
    "d1 = {}\n",
    "d1['a'] = 'A'\n",
    "d1['b'] = 'B'\n",
    "d1['c'] = 'C'\n",
    "\n",
    "d2 = {}\n",
    "d2['c'] = 'C'\n",
    "d2['a'] = 'A'\n",
    "d2['b'] = 'B'\n",
    "\n",
    "print d1 == d2\n",
    "\n",
    "print 'OrderedDict:',\n",
    "d1 = collections.OrderedDict()\n",
    "d1['a'] = 'A'\n",
    "d1['b'] = 'B'\n",
    "d1['c'] = 'C'\n",
    "\n",
    "d2 = collections.OrderedDict()\n",
    "d2['c'] = 'C'\n",
    "d2['a'] = 'A'\n",
    "d2['b'] = 'B'\n",
    "\n",
    "print d1 == d2"
   ]
  },
  {
   "cell_type": "markdown",
   "metadata": {},
   "source": [
    "# 更多资源\n",
    "\n",
    "+ [defaultdict examples](https://docs.python.org/2.7/library/collections.html?highlight=defaultdict#collections.defaultdict) Examples of using defaultdict from the standard library documentation.\n",
    "+ [Evolution of Default Dictionaries in Python](http://jtauber.com/blog/2008/02/27/evolution_of_default_dictionaries_in_python/) Discussion from James Tauber of how defaultdict relates to other means of initializing dictionaries.\n",
    "+ [Deque](http://en.wikipedia.org/wiki/Deque) Wikipedia article that provides a discussion of the deque data structure.\n",
    "+ [Deque Recipes](https://docs.python.org/3/library/collections.html?highlight=deque#collections.dequel) Examples of using deques in algorithms from the standard library documentation.\n"
   ]
  }
 ],
 "metadata": {
  "kernelspec": {
   "display_name": "Python 2",
   "language": "python",
   "name": "python2"
  },
  "language_info": {
   "codemirror_mode": {
    "name": "ipython",
    "version": 2
   },
   "file_extension": ".py",
   "mimetype": "text/x-python",
   "name": "python",
   "nbconvert_exporter": "python",
   "pygments_lexer": "ipython2",
   "version": "2.7.12"
  }
 },
 "nbformat": 4,
 "nbformat_minor": 2
}
