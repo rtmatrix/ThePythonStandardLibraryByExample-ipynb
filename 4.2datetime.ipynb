{
 "cells": [
  {
   "cell_type": "markdown",
   "metadata": {},
   "source": [
    "# Python 2 标准库示例：4.2 datetime-日期与时间值的处理\n",
    "\n",
    "\n",
    "**目的**: 该模块提供了与日期和时间解析、格式化和算术运算相关的函数和类。\n",
    "\n",
    "**Python 版本**: 2.3+。\n",
    "\n",
    "\n",
    "# 时间\n",
    "\n",
    "时间由 *time* 类表示。*time* 实例具有 *hour*, *minute*, *second*, *microsecond* 及时区信息等属性。"
   ]
  },
  {
   "cell_type": "code",
   "execution_count": 1,
   "metadata": {},
   "outputs": [
    {
     "name": "stdout",
     "output_type": "stream",
     "text": [
      "01:02:03\n",
      "hour: 1\n",
      "minute: 2\n",
      "second: 3\n",
      "microsecond: 0\n",
      "tzinfo: None\n"
     ]
    }
   ],
   "source": [
    "import datetime\n",
    "\n",
    "t = datetime.time(1, 2, 3)\n",
    "print t\n",
    "print 'hour:', t.hour\n",
    "print 'minute:', t.minute\n",
    "print 'second:', t.second\n",
    "print 'microsecond:', t.microsecond\n",
    "print 'tzinfo:', t.tzinfo"
   ]
  },
  {
   "cell_type": "markdown",
   "metadata": {},
   "source": [
    "*time* 类中还有表示一天中有效时间区间的常量。"
   ]
  },
  {
   "cell_type": "code",
   "execution_count": 2,
   "metadata": {},
   "outputs": [
    {
     "name": "stdout",
     "output_type": "stream",
     "text": [
      "Earliest: 00:00:00\n",
      "Latest: 23:59:59.999999\n",
      "Resolution: 0:00:00.000001\n"
     ]
    }
   ],
   "source": [
    "import datetime\n",
    "\n",
    "print 'Earliest:', datetime.time.min\n",
    "print 'Latest:', datetime.time.max\n",
    "print 'Resolution:', datetime.time.resolution"
   ]
  },
  {
   "cell_type": "markdown",
   "metadata": {},
   "source": [
    "可见，时间的最小精度是 1 微秒。因此当将浮点值传给 *microsecond* 参数时，Python 2.7 中会出现 *TypeError*，而之前的版本中会出现 *DeprecationWarning* 并自动转成一个整数。"
   ]
  },
  {
   "cell_type": "code",
   "execution_count": 3,
   "metadata": {},
   "outputs": [
    {
     "name": "stdout",
     "output_type": "stream",
     "text": [
      "1.0: 00:00:00.000001\n",
      "0.0: 00:00:00\n",
      "0.1: Error: integer argument expected, got float\n",
      "0.6: Error: integer argument expected, got float\n"
     ]
    }
   ],
   "source": [
    "import datetime\n",
    "\n",
    "for m in [1, 0, 0.1, 0.6]:\n",
    "    try:\n",
    "        print '%02.1f:' % m, datetime.time(0, 0, 0, microsecond=m)\n",
    "    except TypeError, err:\n",
    "        print 'Error:', err"
   ]
  },
  {
   "cell_type": "markdown",
   "metadata": {},
   "source": [
    "# 日期\n",
    "\n",
    "日期值由 *date* 类表示。其实例中有 *year*, *month*, *day* 等属性。可用 *today()* 获取当前的日期。"
   ]
  },
  {
   "cell_type": "code",
   "execution_count": null,
   "metadata": {
    "collapsed": true
   },
   "outputs": [],
   "source": [
    "import datetime\n",
    "\n",
    "today = datetime.date.today()\n",
    "print today\n",
    "print 'ctime:', today.ctime()\n",
    "tt = today.timetuple()\n",
    "print 'tuple: '"
   ]
  }
 ],
 "metadata": {
  "kernelspec": {
   "display_name": "Python 2",
   "language": "python",
   "name": "python2"
  },
  "language_info": {
   "codemirror_mode": {
    "name": "ipython",
    "version": 2
   },
   "file_extension": ".py",
   "mimetype": "text/x-python",
   "name": "python",
   "nbconvert_exporter": "python",
   "pygments_lexer": "ipython2",
   "version": "2.7.12"
  }
 },
 "nbformat": 4,
 "nbformat_minor": 2
}
