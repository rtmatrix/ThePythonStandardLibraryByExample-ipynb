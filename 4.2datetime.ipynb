{
 "cells": [
  {
   "cell_type": "markdown",
   "metadata": {},
   "source": [
    "# Python 2 标准库示例：4.2 datetime-日期与时间值的处理\n",
    "\n",
    "\n",
    "**目的**: 该模块提供了与日期和时间解析、格式化和算术运算相关的函数和类。\n",
    "\n",
    "**Python 版本**: 2.3+。\n",
    "\n",
    "*datetime* 模块的实现专注于对日期和时间组件属性的抽取，以进行输出的格式化和处理。\n",
    "\n",
    "共有两种种类的日期和时间对象：*naive* 和 *aware*。\n",
    "\n",
    "*aware* 种类的对象含有时区、夏令时等时间调整量信息。而 *naive* 种类的对象没有这些信息，因此，它是表示一个 UTC 时间、本地时间也是某个时区的时间，解释完全在于程序。\n",
    "\n",
    "如果需要 *aware* 种类的对象，*datetime* 和 *time* 对象都有一个可选的属性 *tzinfo*，可用来设置为一个抽象类 *tzinfo* 的某子类的一个实例。*tzinfo* 对象含有至 UTC 时间的偏移量、时区名、是否有夏令时等信息。要注意的是，*datetime* 模块中没有提供 *tzinfo* 的具体类。[pytz](http://pytz.sourceforge.net/) 库提供了一些时区实现细节。\n",
    "\n",
    "\n",
    "# 时间\n",
    "\n",
    "时间由 *time* 类表示。*time* 实例具有 *hour*, *minute*, *second*, *microsecond* 及时区信息等属性。"
   ]
  },
  {
   "cell_type": "code",
   "execution_count": 1,
   "metadata": {},
   "outputs": [
    {
     "name": "stdout",
     "output_type": "stream",
     "text": [
      "01:02:03\n",
      "hour: 1\n",
      "minute: 2\n",
      "second: 3\n",
      "microsecond: 0\n",
      "tzinfo: None\n"
     ]
    }
   ],
   "source": [
    "import datetime\n",
    "\n",
    "t = datetime.time(1, 2, 3)\n",
    "print t\n",
    "print 'hour:', t.hour\n",
    "print 'minute:', t.minute\n",
    "print 'second:', t.second\n",
    "print 'microsecond:', t.microsecond\n",
    "print 'tzinfo:', t.tzinfo"
   ]
  },
  {
   "cell_type": "markdown",
   "metadata": {},
   "source": [
    "*time* 类中还有表示一天中有效时间区间的常量。"
   ]
  },
  {
   "cell_type": "code",
   "execution_count": 2,
   "metadata": {},
   "outputs": [
    {
     "name": "stdout",
     "output_type": "stream",
     "text": [
      "Earliest: 00:00:00\n",
      "Latest: 23:59:59.999999\n",
      "Resolution: 0:00:00.000001\n"
     ]
    }
   ],
   "source": [
    "import datetime\n",
    "\n",
    "print 'Earliest:', datetime.time.min\n",
    "print 'Latest:', datetime.time.max\n",
    "print 'Resolution:', datetime.time.resolution"
   ]
  },
  {
   "cell_type": "markdown",
   "metadata": {},
   "source": [
    "可见，时间的最小精度是 1 微秒。因此当将浮点值传给 *microsecond* 参数时，Python 2.7 中会出现 *TypeError*，而之前的版本中会出现 *DeprecationWarning* 并自动转成一个整数。"
   ]
  },
  {
   "cell_type": "code",
   "execution_count": 3,
   "metadata": {},
   "outputs": [
    {
     "name": "stdout",
     "output_type": "stream",
     "text": [
      "1.0: 00:00:00.000001\n",
      "0.0: 00:00:00\n",
      "0.1: Error: integer argument expected, got float\n",
      "0.6: Error: integer argument expected, got float\n"
     ]
    }
   ],
   "source": [
    "import datetime\n",
    "\n",
    "for m in [1, 0, 0.1, 0.6]:\n",
    "    try:\n",
    "        print '%02.1f:' % m, datetime.time(0, 0, 0, microsecond=m)\n",
    "    except TypeError, err:\n",
    "        print 'Error:', err"
   ]
  },
  {
   "cell_type": "markdown",
   "metadata": {},
   "source": [
    "# 日期\n",
    "\n",
    "日期值由 *date* 类表示。其实例中有 *year*, *month*, *day* 等属性。可用 *today()* 获取当前的日期。"
   ]
  },
  {
   "cell_type": "code",
   "execution_count": 1,
   "metadata": {},
   "outputs": [
    {
     "name": "stdout",
     "output_type": "stream",
     "text": [
      "2017-06-05\n",
      "ctime: Mon Jun  5 00:00:00 2017\n",
      "tuple:\n",
      " tm_year: 2017\n",
      " tm_mon: 6\n",
      " tm_mday: 5\n",
      " tm_hour: 0\n",
      " tm_min: 0\n",
      " tm_sec: 0\n",
      " tm_wday: 0\n",
      " tm_yday: 156\n",
      " tm_isdst: -1\n",
      "ordinal: 736485\n",
      "year: 2017\n",
      "month: 6\n",
      "day: 5\n"
     ]
    }
   ],
   "source": [
    "import datetime\n",
    "\n",
    "today = datetime.date.today()\n",
    "print today\n",
    "print 'ctime:', today.ctime()\n",
    "tt = today.timetuple()  # to struct_time\n",
    "print 'tuple:'\n",
    "print ' tm_year:', tt.tm_year\n",
    "print ' tm_mon:', tt.tm_mon\n",
    "print ' tm_mday:', tt.tm_mday\n",
    "print ' tm_hour:', tt.tm_hour\n",
    "print ' tm_min:', tt.tm_min\n",
    "print ' tm_sec:', tt.tm_sec\n",
    "print ' tm_wday:', tt.tm_wday\n",
    "print ' tm_yday:', tt.tm_yday\n",
    "print ' tm_isdst:', tt.tm_isdst\n",
    "print 'ordinal:', today.toordinal()  # (year=1, month=1, day=1) -> 1\n",
    "print 'year:', today.year\n",
    "print 'month:', today.month\n",
    "print 'day:', today.day"
   ]
  },
  {
   "cell_type": "markdown",
   "metadata": {},
   "source": [
    "也可以从时间戳或序号值（ordinal 值，其中 1 年 1 月 1 日的序号值为 1）。"
   ]
  },
  {
   "cell_type": "code",
   "execution_count": 3,
   "metadata": {},
   "outputs": [
    {
     "name": "stdout",
     "output_type": "stream",
     "text": [
      "o: 736485\n",
      "fromordinal(o): 2017-06-05\n",
      "t: 1496673680.68\n",
      "fromtimestamp(t): 2017-06-05\n"
     ]
    }
   ],
   "source": [
    "import datetime\n",
    "import time\n",
    "\n",
    "o = 736485\n",
    "print 'o:', o\n",
    "print 'fromordinal(o):', datetime.date.fromordinal(o)\n",
    "\n",
    "t = time.time()\n",
    "print 't:', t\n",
    "print 'fromtimestamp(t):', datetime.date.fromtimestamp(t)"
   ]
  },
  {
   "cell_type": "markdown",
   "metadata": {},
   "source": [
    "类似 *time*，*date* 也是最大值，最小值等常量。"
   ]
  },
  {
   "cell_type": "code",
   "execution_count": 4,
   "metadata": {},
   "outputs": [
    {
     "name": "stdout",
     "output_type": "stream",
     "text": [
      "Earliest: 0001-01-01\n",
      "Latest: 9999-12-31\n",
      "Resolution: 1 day, 0:00:00\n"
     ]
    }
   ],
   "source": [
    "import datetime\n",
    "\n",
    "print 'Earliest:', datetime.date.min\n",
    "print 'Latest:', datetime.date.max\n",
    "print 'Resolution:', datetime.date.resolution"
   ]
  },
  {
   "cell_type": "markdown",
   "metadata": {},
   "source": [
    "通过替换现存 *date* 对象的组件也可创建一个新的 *date* 实例。"
   ]
  },
  {
   "cell_type": "code",
   "execution_count": 5,
   "metadata": {},
   "outputs": [
    {
     "name": "stdout",
     "output_type": "stream",
     "text": [
      "d1: Sun Jun  5 00:00:00 2016\n",
      "d2: Mon Jun  5 00:00:00 2017\n"
     ]
    }
   ],
   "source": [
    "import datetime\n",
    "\n",
    "d1 = datetime.date(2016, 6, 5)\n",
    "print 'd1:', d1.ctime()\n",
    "d2 = d1.replace(year=2017)\n",
    "print 'd2:', d2.ctime()"
   ]
  },
  {
   "cell_type": "markdown",
   "metadata": {},
   "source": [
    "# timedelta\n",
    "\n",
    "*datetime* 对象间的偏移动量用 *timedelta* 对象表示。*timedelta* 值在内部都归整为 *days*, *seconds*, *microseconds* 三个整数存储，即通过 weeks, hours, minutes 等参数传入的值也都会转换合并到上面的 3 个变量中存储。\n",
    "\n",
    "归整化后，*timedelta* 值的表示就会唯一，同时，各变量的值区间为：\n",
    "\n",
    "+ 0 <= microseconds < 1000000\n",
    "+ 0 <= seconds < 3600*24 (the number of seconds in one day)\n",
    "+ -999999999 <= days <= 999999999"
   ]
  },
  {
   "cell_type": "code",
   "execution_count": 6,
   "metadata": {},
   "outputs": [
    {
     "name": "stdout",
     "output_type": "stream",
     "text": [
      "microseconds: 0:00:00.000001\n",
      "milliseconds: 0:00:00.001000\n",
      "seconds: 0:00:01\n",
      "minutes: 0:01:00\n",
      "hours: 1:00:00\n",
      "days: 1 day, 0:00:00\n",
      "weeks: 7 days, 0:00:00\n"
     ]
    }
   ],
   "source": [
    "import datetime\n",
    "\n",
    "print 'microseconds:', datetime.timedelta(microseconds=1)\n",
    "print 'milliseconds:', datetime.timedelta(milliseconds=1)\n",
    "print 'seconds:', datetime.timedelta(seconds=1)\n",
    "print 'minutes:', datetime.timedelta(minutes=1)\n",
    "print \"hours:\", datetime.timedelta(hours=1)\n",
    "print 'days:', datetime.timedelta(days=1)\n",
    "print 'weeks:', datetime.timedelta(weeks=1)"
   ]
  },
  {
   "cell_type": "markdown",
   "metadata": {},
   "source": [
    "*total_seconds()* 返回 *timedelta* 实例的总秒数（浮点数）："
   ]
  },
  {
   "cell_type": "code",
   "execution_count": 7,
   "metadata": {},
   "outputs": [
    {
     "name": "stdout",
     "output_type": "stream",
     "text": [
      " 0:00:00.000001 = 1e-06 seconds\n",
      " 0:00:00.001000 = 0.001 seconds\n",
      "        0:00:01 = 1.0 seconds\n",
      "        0:01:00 = 60.0 seconds\n",
      "        1:00:00 = 3600.0 seconds\n",
      " 1 day, 0:00:00 = 86400.0 seconds\n",
      "7 days, 0:00:00 = 604800.0 seconds\n"
     ]
    }
   ],
   "source": [
    "import datetime\n",
    "\n",
    "for delta in [datetime.timedelta(microseconds=1),\n",
    "            datetime.timedelta(milliseconds=1),\n",
    "            datetime.timedelta(seconds=1),\n",
    "            datetime.timedelta(minutes=1),\n",
    "            datetime.timedelta(hours=1),\n",
    "            datetime.timedelta(days=1),\n",
    "            datetime.timedelta(weeks=1),\n",
    "            ]:\n",
    "    print '%15s = %s seconds' % (delta, delta.total_seconds())"
   ]
  },
  {
   "cell_type": "markdown",
   "metadata": {},
   "source": [
    "# 日期的算术运算"
   ]
  },
  {
   "cell_type": "code",
   "execution_count": 8,
   "metadata": {},
   "outputs": [
    {
     "name": "stdout",
     "output_type": "stream",
     "text": [
      "today: 2017-06-05\n",
      "one day: 1 day, 0:00:00\n",
      "yesterday: 2017-06-04\n",
      "tomorrow: 2017-06-06\n",
      "\n",
      "tomorrow - yesterday: 2 days, 0:00:00\n",
      "yesterday - tomorrow: -2 days, 0:00:00\n"
     ]
    }
   ],
   "source": [
    "import datetime\n",
    "\n",
    "today = datetime.date.today()\n",
    "print 'today:', today\n",
    "\n",
    "one_day = datetime.timedelta(days=1)\n",
    "print 'one day:', one_day\n",
    "\n",
    "yesterday = today - one_day\n",
    "print 'yesterday:', yesterday\n",
    "\n",
    "tomorrow = today + one_day\n",
    "print 'tomorrow:', tomorrow\n",
    "\n",
    "print\n",
    "print 'tomorrow - yesterday:', tomorrow - yesterday\n",
    "print 'yesterday - tomorrow:', yesterday - tomorrow"
   ]
  },
  {
   "cell_type": "markdown",
   "metadata": {},
   "source": [
    "# 比较\n",
    "\n",
    "*date* 和 *time* 值都可以进行比较。"
   ]
  },
  {
   "cell_type": "code",
   "execution_count": 9,
   "metadata": {},
   "outputs": [
    {
     "name": "stdout",
     "output_type": "stream",
     "text": [
      "Times:\n",
      " t1: 12:55:00\n",
      " t2: 13:05:00\n",
      " t1 < t2 True\n",
      "\n",
      "Dates:\n",
      " d1: 2017-06-05\n",
      " d2: 2017-06-06\n",
      " d1 > d2: False\n"
     ]
    }
   ],
   "source": [
    "import datetime\n",
    "import time\n",
    "\n",
    "print 'Times:'\n",
    "t1 = datetime.time(12, 55, 0)\n",
    "print ' t1:', t1\n",
    "t2 = datetime.time(13, 5, 0)\n",
    "print ' t2:', t2\n",
    "print ' t1 < t2', t1 < t2\n",
    "\n",
    "print '\\nDates:'\n",
    "d1 = datetime.date.today()\n",
    "print ' d1:', d1\n",
    "d2 = datetime.date.today() + datetime.timedelta(days=1)\n",
    "print ' d2:', d2\n",
    "print ' d1 > d2:', d1 > d2"
   ]
  },
  {
   "cell_type": "markdown",
   "metadata": {},
   "source": [
    "# 组合日期和时间\n",
    "\n",
    "*datetime* 类组合了 *date* 和 *time* 的值，因而包含了它们两个的所有属性。 有以下几个创建 *datetime* 实例的便捷方法。"
   ]
  },
  {
   "cell_type": "code",
   "execution_count": 11,
   "metadata": {},
   "outputs": [
    {
     "name": "stdout",
     "output_type": "stream",
     "text": [
      "now: 2017-06-05 23:13:24.028225\n",
      "today: 2017-06-05 23:13:24.029239\n",
      "UTC now: 2017-06-05 15:13:24.029494\n",
      "\n",
      "           year: 2017\n",
      "          month: 6\n",
      "            day: 5\n",
      "           hour: 23\n",
      "         minute: 13\n",
      "         second: 24\n",
      "    microsecond: 29915\n"
     ]
    }
   ],
   "source": [
    "import datetime\n",
    "\n",
    "# 有可选 tzinfo 参数，没有提供时返回本地的时间，此时同 today()\n",
    "print 'now:', datetime.datetime.now()\n",
    "\n",
    "# 返回本地的时间\n",
    "print 'today:', datetime.datetime.today()\n",
    "\n",
    "# 返回 UTC 时间\n",
    "print 'UTC now:', datetime.datetime.utcnow()\n",
    "print\n",
    "\n",
    "fields = ['year', 'month', 'day',\n",
    "         'hour', 'minute', 'second', 'microsecond',\n",
    "         ]\n",
    "\n",
    "d = datetime.datetime.now()\n",
    "for attr in fields:\n",
    "    print '%15s: %s' % (attr, getattr(d, attr))"
   ]
  },
  {
   "cell_type": "markdown",
   "metadata": {},
   "source": [
    "和 *date* 类似，*datetime* 也可以通过 *fromordinal()* 和 *fromtimestamp()* 创建实例。同时，通过 *combine* 可以将 *date* 和 *time* 值合并成一个 *datetime*。"
   ]
  },
  {
   "cell_type": "code",
   "execution_count": 12,
   "metadata": {},
   "outputs": [
    {
     "name": "stdout",
     "output_type": "stream",
     "text": [
      "t: 01:02:03\n",
      "d: 2017-06-05\n",
      "dt: 2017-06-05 01:02:03\n"
     ]
    }
   ],
   "source": [
    "import datetime\n",
    "\n",
    "t = datetime.time(1, 2, 3)\n",
    "print 't:', t\n",
    "\n",
    "d = datetime.date.today()\n",
    "print 'd:', d\n",
    "\n",
    "dt = datetime.datetime.combine(d, t)\n",
    "print 'dt:', dt"
   ]
  },
  {
   "cell_type": "markdown",
   "metadata": {},
   "source": [
    "# 格式化和解析\n",
    "\n",
    "*datetime* 对象默认使用 ISO-8601 格式（`YYYY-MM-DDTHH:MM:SS.mmmmmm`）输出字符串表示。可使用 *strftime()* 进行其它格式化输出。用 *strptime()* 可将格式化字符串转换回 *datetime* 对象。详细的格式化指令见: [datetime 的官方文档](https://docs.python.org/2/library/datetime.html#strftime-and-strptime-behavior)。"
   ]
  },
  {
   "cell_type": "code",
   "execution_count": 14,
   "metadata": {},
   "outputs": [
    {
     "name": "stdout",
     "output_type": "stream",
     "text": [
      "ISO: 2017-06-05 23:23:43.133657\n",
      "strftime: 2017-06-05 23:23:43\n",
      "strptime: 2017-06-05 23:23:43\n"
     ]
    }
   ],
   "source": [
    "import datetime\n",
    "\n",
    "format = \"%Y-%m-%d %H:%M:%S\"\n",
    "\n",
    "today = datetime.datetime.today()\n",
    "print 'ISO:', today\n",
    "\n",
    "s = today.strftime(format)\n",
    "print 'strftime:', s\n",
    "\n",
    "d = datetime.datetime.strptime(s, format)\n",
    "print 'strptime:', d.strftime(format)"
   ]
  },
  {
   "cell_type": "markdown",
   "metadata": {},
   "source": [
    "# 更多资源\n",
    "\n",
    "+ [datetime](https://docs.python.org/2/library/datetime.html) The standard library documentation for this module.\n",
    "+ [dateutil](http://labix.org/python-dateutil) dateutil from Labix extends the datetime module with additional features.\n",
    "+ [WikiPedia: Proleptic Gregorian calendar](http://en.wikipedia.org/wiki/Proleptic_Gregorian_calendar) A description of the Gregorian calendar system.\n",
    "+ [pytz](http://pytz.sourceforge.net/) World Time Zone database.\n",
    "+ [ISO 8601](http://www.iso.org/iso/support/faqs/faqs_widely_used_standards/widely_used_standards_other/date_and_time_format.htm) The standard for numeric representation of dates and time.\n"
   ]
  }
 ],
 "metadata": {
  "kernelspec": {
   "display_name": "Python 2",
   "language": "python",
   "name": "python2"
  },
  "language_info": {
   "codemirror_mode": {
    "name": "ipython",
    "version": 2
   },
   "file_extension": ".py",
   "mimetype": "text/x-python",
   "name": "python",
   "nbconvert_exporter": "python",
   "pygments_lexer": "ipython2",
   "version": "2.7.12"
  }
 },
 "nbformat": 4,
 "nbformat_minor": 2
}
