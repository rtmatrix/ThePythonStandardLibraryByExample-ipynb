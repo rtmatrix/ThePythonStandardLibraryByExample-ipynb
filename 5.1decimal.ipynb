{
 "cells": [
  {
   "cell_type": "markdown",
   "metadata": {},
   "source": [
    "# Python 2 标准库示例：5.1 decimal-定点和浮点数学\n",
    "\n",
    "\n",
    "**目的**: 使用定点或浮点数进行十进制运算。\n",
    "\n",
    "**Python 版本**: 2.4+。\n",
    "\n",
    "*decimal* 模块为十进制浮点数运算提供了支持。相比 *float* 数据类型有如下优势：\n",
    "\n",
    "+ **decimal** 是基于浮点模型的， 但设计时以人为本， 实现的浮点运算以普通人熟悉的方式进行，而不是程序员的 IEEE 浮点数的样子。\n",
    "+ decimal 数可以精确表示。而像 1.1 或 2.2 等浮点数却不能用二进制浮点数精确表示。\n",
    "+ 精度在运算中也会保留，因此， Decimal 数运算 `0.1+0.1+0.1-0.3` 的结果会是 0，但在二进制浮点数运算中， 结果会是 5.5511151231257827e-017。\n",
    "+ decimal 模块引入了有效位的概念，因此 `1.30+1.20` 的值是 2.50， 末尾的 0 会被保留用来表明有效位，类似的，相乘时两个乘数的有效位也会被保留，例如 `1.3*1.2` 为 `1.56`，`1.30*1.20` 为 `1.5600`。\n",
    "+ 与基于硬件实现的二进制浮点数不同， decimal 模块的精度（默认是 28 位）是可定制的。\n",
    "+ 内置的 float 类型只导出了部分的浮点数功能，而 decimal 模块实现了浮点数的所有功能，程序员可以完全控制舍入(rounding), 信号量处理（signal handling）等。\n",
    "\n",
    "该模块的设计基于 3 个概念：十进制数，运算上下文和信号。\n",
    "\n",
    "## 十进制数\n",
    "\n",
    "十进制数值用 `Decimal` 类的实例表示。\n",
    "\n"
   ]
  },
  {
   "cell_type": "code",
   "execution_count": 1,
   "metadata": {},
   "outputs": [
    {
     "name": "stdout",
     "output_type": "stream",
     "text": [
      "Input                     Output                   \n",
      "------------------------- -------------------------\n",
      "                          0                        \n",
      "5                         5                        \n",
      "3.14                      3.14                     \n",
      "  -3.14                   -3.14                    \n",
      "1.1                       1.100000000000000088817841970012523233890533447265625\n",
      "1.1                       1.1                      \n",
      "1.1000000000000000888178  1.10000000000000008881784\n",
      "(1, (3, 1, 4), -2)        -3.14                    \n"
     ]
    }
   ],
   "source": [
    "import decimal\n",
    "\n",
    "fmt = '{0:<25} {1:<25}'\n",
    "print fmt.format('Input', 'Output')\n",
    "print fmt.format('-' * 25, '-' * 25)\n",
    "\n",
    "# 1. 没有参数时实例化返回 Decimal('0')\n",
    "print fmt.format('', decimal.Decimal())\n",
    "\n",
    "# 2. 用整数作为参数来实例化\n",
    "print fmt.format(5, decimal.Decimal(5))\n",
    "\n",
    "# 3. 用字符串作为参数来实例化\n",
    "print fmt.format('3.14', decimal.Decimal('3.14'))\n",
    "\n",
    "# 4. 从 v2.6+ 开始，字符串前后允许有空白字符\n",
    "print fmt.format('  -3.14  ', decimal.Decimal('  -3.14  '))\n",
    "\n",
    "# 5. 从 v2.7+ 开始，允许直接舍入 float 值进行实例化，参数的二进制浮点值将无损转换到十进制值，\n",
    "# 无法精确表示的二进制浮点数，转换后会舍入。\n",
    "print fmt.format(1.1, decimal.Decimal(1.1))\n",
    "\n",
    "# 6. 之前的版本，要先将 float 转换成字符串再传处， 或者通过 Decimal.from_float() 进行\n",
    "f = 1.1\n",
    "print fmt.format(repr(f), decimal.Decimal(str(f)))\n",
    "print fmt.format('%.23g' %f, str(decimal.Decimal.from_float(f))[:25])\n",
    "\n",
    "# 7. 通过舍入 tuple (sign, (digit1, digit2, ...), exponent) 来实例化， 其中 sign 为 0 时表示正数， 1 时为负数，\n",
    "#    (digit1, digit2, ...) 表示出现的数字，而 exponent 是个整数的指数\n",
    "print fmt.format((1, (3, 1, 4), -2), decimal.Decimal((1, (3, 1, 4), -2)))"
   ]
  },
  {
   "cell_type": "markdown",
   "metadata": {},
   "source": [
    "基于 tuple 的表示不便于用来实例化，但可用来导出 Decimal 值的无损精度表示，也可用 tuple 的形式在网络上传输，或保存在数据库中。"
   ]
  },
  {
   "cell_type": "markdown",
   "metadata": {},
   "source": [
    "## 运算\n",
    "\n",
    "Decimal 实例的运算与内置的数字类型的运算相似。"
   ]
  },
  {
   "cell_type": "code",
   "execution_count": 2,
   "metadata": {},
   "outputs": [
    {
     "name": "stdout",
     "output_type": "stream",
     "text": [
      "a= Decimal('5.1')\n",
      "b= Decimal('3.14')\n",
      "c= 4\n",
      "d= 3.14\n",
      "\n",
      "a+b= 8.24\n",
      "a-b= 1.96\n",
      "a*b= 16.014\n",
      "a/b= 1.624203821656050955414012739\n",
      "\n",
      "a+c= 9.1\n",
      "a-c= 1.1\n",
      "a*c= 20.4\n",
      "a/c= 1.275\n",
      "a+d= unsupported operand type(s) for +: 'Decimal' and 'float'\n"
     ]
    }
   ],
   "source": [
    "import decimal\n",
    "\n",
    "a = decimal.Decimal('5.1')\n",
    "b = decimal.Decimal('3.14')\n",
    "c = 4\n",
    "d = 3.14\n",
    "\n",
    "print 'a=', repr(a)\n",
    "print 'b=', repr(b)\n",
    "print 'c=', repr(c)\n",
    "print 'd=', repr(d)\n",
    "print\n",
    "\n",
    "print 'a+b=', a+b\n",
    "print 'a-b=', a-b\n",
    "print 'a*b=', a*b\n",
    "print 'a/b=', a/b\n",
    "print\n",
    "\n",
    "print 'a+c=', a+c\n",
    "print 'a-c=', a-c\n",
    "print 'a*c=', a*c\n",
    "print 'a/c=', a/c\n",
    "\n",
    "print 'a+d=', \n",
    "try:\n",
    "    print a+d\n",
    "except TypeError, e:\n",
    "    print e"
   ]
  },
  {
   "cell_type": "markdown",
   "metadata": {},
   "source": [
    "Decimal 数可与整数相互运算，但是浮点数必须先转换为 Decimal 实例后才能相互运算。\n",
    "\n",
    "除了基本运算外，Decimal 实例还有获取基于 10 或自然数的 log 值的函数，如："
   ]
  },
  {
   "cell_type": "code",
   "execution_count": 3,
   "metadata": {},
   "outputs": [
    {
     "name": "stdout",
     "output_type": "stream",
     "text": [
      "decimal.Decimal(100).log10()= 2\n",
      "decimal.Decimal(100).ln()= 4.605170185988091368035982909\n"
     ]
    }
   ],
   "source": [
    "import decimal\n",
    "\n",
    "print 'decimal.Decimal(100).log10()=', decimal.Decimal(100).log10()\n",
    "print 'decimal.Decimal(100).ln()=', decimal.Decimal(100).ln()"
   ]
  },
  {
   "cell_type": "markdown",
   "metadata": {},
   "source": [
    "## 特殊值\n",
    "\n",
    "Decimal 可表示一些特殊值，如正负无穷大， NaN，和 0 等。"
   ]
  },
  {
   "cell_type": "code",
   "execution_count": 4,
   "metadata": {},
   "outputs": [
    {
     "name": "stdout",
     "output_type": "stream",
     "text": [
      "Infinity -Infinity\n",
      "NaN -NaN\n",
      "0 -0\n",
      "\n",
      "Infinity + 1: Infinity\n",
      "-Infinity + 1: -Infinity\n",
      "False\n",
      "True\n"
     ]
    }
   ],
   "source": [
    "import decimal\n",
    "\n",
    "for value in ['Infinity', 'NaN', '0']:\n",
    "    print decimal.Decimal(value), decimal.Decimal('-' + value)\n",
    "print\n",
    "\n",
    "# 与无穷大的运算结果都为无穷大\n",
    "print 'Infinity + 1:', (decimal.Decimal('Infinity') + 1)\n",
    "print '-Infinity + 1:', (decimal.Decimal('-Infinity') +1)\n",
    "\n",
    "# 与 NaN 的比较结果都是 False\n",
    "print decimal.Decimal('NaN') == decimal.Decimal('Infinity')\n",
    "print decimal.Decimal('NaN') != decimal.Decimal(1)"
   ]
  },
  {
   "cell_type": "markdown",
   "metadata": {},
   "source": [
    "## 上下文 Context\n",
    "\n",
    "上面的所有例子都使用了 decimal 模块的模块行为。不过通过 *context*，可以定制精度、舍入、错误处理等设置。*context* 可应用于一个线程中或者某代码段中的所有 Decimal 实例。\n",
    "\n",
    "### 当前上下文\n",
    "\n",
    "获取当前的全局上下文使用 *getcontext()*。"
   ]
  },
  {
   "cell_type": "code",
   "execution_count": 5,
   "metadata": {},
   "outputs": [
    {
     "name": "stdout",
     "output_type": "stream",
     "text": [
      "Emax = 999999999\n",
      "Emin = -999999999\n",
      "capitals = 1\n",
      "prec = 28\n",
      "rounding = ROUND_HALF_EVEN\n",
      "flags =\n",
      "{<class 'decimal.Clamped'>: 0,\n",
      " <class 'decimal.InvalidOperation'>: 0,\n",
      " <class 'decimal.DivisionByZero'>: 0,\n",
      " <class 'decimal.Inexact'>: 1,\n",
      " <class 'decimal.Rounded'>: 1,\n",
      " <class 'decimal.Subnormal'>: 0,\n",
      " <class 'decimal.Overflow'>: 0,\n",
      " <class 'decimal.Underflow'>: 0}\n",
      "traps =\n",
      "{<class 'decimal.Clamped'>: 0,\n",
      " <class 'decimal.InvalidOperation'>: 1,\n",
      " <class 'decimal.DivisionByZero'>: 1,\n",
      " <class 'decimal.Inexact'>: 0,\n",
      " <class 'decimal.Rounded'>: 0,\n",
      " <class 'decimal.Subnormal'>: 0,\n",
      " <class 'decimal.Overflow'>: 1,\n",
      " <class 'decimal.Underflow'>: 0}\n"
     ]
    }
   ],
   "source": [
    "import decimal\n",
    "import pprint\n",
    "\n",
    "context = decimal.getcontext()\n",
    "\n",
    "# 允许的最大和最小指数值（整数）\n",
    "print 'Emax =', context.Emax\n",
    "print 'Emin =', context.Emin\n",
    "\n",
    "# capitals 域的值为 0 或 1 (默认值).\n",
    "# 值为 1 时，指数打印输出时用 E 表示，否则用小写 e 表示，如 Decimal('6.02e+23').\n",
    "print 'capitals =', context.capitals\n",
    "\n",
    "# 精度\n",
    "print 'prec =', context.prec\n",
    "\n",
    "# 舍入\n",
    "print 'rounding =', context.rounding\n",
    "\n",
    "print 'flags ='\n",
    "pprint.pprint(context.flags)\n",
    "\n",
    "print 'traps ='\n",
    "pprint.pprint(context.traps)"
   ]
  },
  {
   "cell_type": "markdown",
   "metadata": {},
   "source": [
    "### 精度\n",
    "\n",
    "上下文中的 `prec` 属性控制运算时生成的新值的精度（即非零有效数字）。明确实例化的值不受此控制。"
   ]
  },
  {
   "cell_type": "code",
   "execution_count": 6,
   "metadata": {},
   "outputs": [
    {
     "name": "stdout",
     "output_type": "stream",
     "text": [
      "0 : 0.123456 0\n",
      "1 : 0.123456 0.1\n",
      "2 : 0.123456 0.12\n",
      "3 : 0.123456 0.123\n"
     ]
    }
   ],
   "source": [
    "import decimal\n",
    "\n",
    "d = decimal.Decimal('0.123456')\n",
    "for i in range(4):\n",
    "    decimal.getcontext().prec = i\n",
    "    print i, ':', d, d * 1"
   ]
  },
  {
   "cell_type": "markdown",
   "metadata": {},
   "source": [
    "### 舍入\n",
    "\n",
    "由于存在精度限制，故有舍入。下面是支持的舍入方式。\n",
    "\n",
    "+ **ROUND_CEILING**: 向上舍入。\n",
    "+ **ROUND_FLOOR**: 向下舍入。\n",
    "+ **ROUND_DOWN**: 向零舍入。\n",
    "+ **ROUND_HALF_DOWN**: 当最低有效位小于或等于 5 时，向零舍入；否则偏离零方向舍入。\n",
    "+ **ROUND_HALF_EVEN**: 类似 **ROUND_HALF_DOWN**，但当最低有效位为 5 时，进行向偶数舍入，即此时当前一个数字是偶数时向下舍入，前一个数字是奇数是向上舍入。\n",
    "+ **ROUND_HALF_UP**: 类似 **ROUND_HALF_DOWN**，但当最低有效位为 5 时，进行偏离零方向舍入。\n",
    "+ **ROUND_05UP**: 如果最低有效位之前的数字是 0 或 5 时，进行偏离零方向舍入， 否则向零舍入。"
   ]
  },
  {
   "cell_type": "code",
   "execution_count": 7,
   "metadata": {
    "scrolled": true
   },
   "outputs": [
    {
     "name": "stdout",
     "output_type": "stream",
     "text": [
      "            0.123    0.125    0.127    -0.133   -0.135   -0.137 \n",
      "CEILING      0.13     0.13     0.13    -0.13    -0.13    -0.13  \n",
      "FLOOR        0.12     0.12     0.12    -0.14    -0.14    -0.14  \n",
      "DOWN         0.12     0.12     0.12    -0.13    -0.13    -0.13  \n",
      "HALF_DOWN    0.12     0.12     0.13    -0.13    -0.13    -0.14  \n",
      "HALF_EVEN    0.12     0.12     0.13    -0.13    -0.14    -0.14  \n",
      "HALF_UP      0.12     0.13     0.13    -0.13    -0.14    -0.14  \n",
      "UP           0.13     0.13     0.13    -0.14    -0.14    -0.14  \n",
      "05UP         0.12     0.12     0.12    -0.13    -0.13    -0.13  \n"
     ]
    }
   ],
   "source": [
    "import decimal\n",
    " \n",
    "context = decimal.getcontext()\n",
    "\n",
    "ROUNDING_MODES = [\n",
    "    'ROUND_CEILING',\n",
    "    'ROUND_FLOOR',\n",
    "    'ROUND_DOWN',\n",
    "    'ROUND_HALF_DOWN',\n",
    "    'ROUND_HALF_EVEN',\n",
    "    'ROUND_HALF_UP',\n",
    "    'ROUND_UP',\n",
    "    'ROUND_05UP',\n",
    "]\n",
    "\n",
    "\n",
    "values = ['0.123', '0.125', '0.127', '-0.133', '-0.135', '-0.137']\n",
    "header_fmt = '{:10} ' + ' '.join(['{:^8}'] * 6)\n",
    "print header_fmt.format(' ', *values )\n",
    "\n",
    "for rounding_mode in ROUNDING_MODES:\n",
    "    print '{0:10}'.format(rounding_mode.partition('_')[-1]),\n",
    "    for v in values:\n",
    "        context.rounding = getattr(decimal, rounding_mode)\n",
    "        context.prec = 2\n",
    "        value = decimal.Decimal(v) * 1\n",
    "        print '{0:^8}'.format(value),\n",
    "    print"
   ]
  },
  {
   "cell_type": "markdown",
   "metadata": {},
   "source": [
    "### 局部上下文\n",
    "\n",
    "v2.5+ 后可以通过 with 语句将 context 应用于代码段。"
   ]
  },
  {
   "cell_type": "code",
   "execution_count": 8,
   "metadata": {},
   "outputs": [
    {
     "name": "stdout",
     "output_type": "stream",
     "text": [
      "Default precision: 28\n",
      "3.14 / 3 =  1.046666666666666666666666666\n",
      "\n",
      "Local precision: 2\n",
      "3.14 / 3 =  1.1\n",
      "\n",
      "Default precision: 28\n",
      "3.14 / 3 =  1.046666666666666666666666666\n"
     ]
    }
   ],
   "source": [
    "import decimal\n",
    "\n",
    "decimal.getcontext().prec = 28\n",
    "\n",
    "print 'Default precision:', decimal.getcontext().prec\n",
    "print '3.14 / 3 = ', (decimal.Decimal('3.14') / 3)\n",
    "\n",
    "print\n",
    "\n",
    "with decimal.localcontext() as c:\n",
    "    c.prec = 2\n",
    "    print 'Local precision:', c.prec\n",
    "    print '3.14 / 3 = ', (decimal.Decimal('3.14') / 3)\n",
    "    \n",
    "print\n",
    "print 'Default precision:', decimal.getcontext().prec\n",
    "print '3.14 / 3 = ', (decimal.Decimal('3.14') / 3)"
   ]
  },
  {
   "cell_type": "markdown",
   "metadata": {},
   "source": [
    "### 预生成 Context 实例\n",
    "\n",
    "Context 实例可用来创建 Decimal 实现， 创建时会使用该 Conctext 实例中的设置信息。"
   ]
  },
  {
   "cell_type": "code",
   "execution_count": 9,
   "metadata": {},
   "outputs": [
    {
     "name": "stdout",
     "output_type": "stream",
     "text": [
      "PI: 3.14\n",
      "RESULT: 6.3114\n"
     ]
    }
   ],
   "source": [
    "import decimal\n",
    "\n",
    "# Set up a context with limited precision\n",
    "c = decimal.getcontext().copy()\n",
    "c.prec = 3\n",
    "\n",
    "# Create our constant\n",
    "pi = c.create_decimal('3.1415')\n",
    "\n",
    "# The constant value is rounded off\n",
    "print 'PI:', pi\n",
    "\n",
    "# The result of using the constant uses the global context\n",
    "print 'RESULT:', decimal.Decimal('2.01') * pi"
   ]
  },
  {
   "cell_type": "markdown",
   "metadata": {},
   "source": [
    "### 线程\n",
    "\n",
    "**global** 的上下文，实际上是针对每个线程的， 即每个线程都有自己独立的 global default context。"
   ]
  },
  {
   "cell_type": "code",
   "execution_count": 10,
   "metadata": {},
   "outputs": [
    {
     "name": "stdout",
     "output_type": "stream",
     "text": [
      "1 \t4\n",
      "2 \t3.9\n",
      "3 \t3.87\n",
      "4 \t3.875\n",
      "5 \t3.8748\n"
     ]
    }
   ],
   "source": [
    "import decimal\n",
    "import threading\n",
    "from Queue import PriorityQueue\n",
    "\n",
    "class Multiplier(threading.Thread):\n",
    "    def __init__(self, a, b, prec, q):\n",
    "        self.a = a\n",
    "        self.b = b\n",
    "        self.prec = prec\n",
    "        self.q = q\n",
    "        threading.Thread.__init__(self)\n",
    "        \n",
    "    def run(self):\n",
    "        c = decimal.getcontext().copy()\n",
    "        c.prec = self.prec\n",
    "        decimal.setcontext(c) # set own global default context\n",
    "        self.q.put( (self.prec, a * b) )\n",
    "        return\n",
    "    \n",
    "a = decimal.Decimal('3.14')\n",
    "b = decimal.Decimal('1.234')\n",
    "\n",
    "# A PrioriyQueue will return values sorted by precision, no matter\n",
    "# what order the threads finish.\n",
    "q = PriorityQueue()\n",
    "threads = [Multiplier(a, b, i, q) for i in range(1, 6)]\n",
    "for t in threads:\n",
    "    t.start()\n",
    "    \n",
    "for t in threads:\n",
    "    t.join()\n",
    "    \n",
    "for i in range(5):\n",
    "    prec, value = q.get()\n",
    "    print prec, '\\t', value"
   ]
  },
  {
   "cell_type": "markdown",
   "metadata": {},
   "source": [
    "# 更多资源\n",
    "\n",
    "+ [calendar](https://docs.python.org/2/library/decimal.html) The standard library documentation for this module."
   ]
  }
 ],
 "metadata": {
  "kernelspec": {
   "display_name": "Python 2",
   "language": "python",
   "name": "python2"
  },
  "language_info": {
   "codemirror_mode": {
    "name": "ipython",
    "version": 2
   },
   "file_extension": ".py",
   "mimetype": "text/x-python",
   "name": "python",
   "nbconvert_exporter": "python",
   "pygments_lexer": "ipython2",
   "version": "2.7.12"
  }
 },
 "nbformat": 4,
 "nbformat_minor": 2
}
