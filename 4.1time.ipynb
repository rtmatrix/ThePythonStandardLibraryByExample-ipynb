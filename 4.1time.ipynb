{
 "cells": [
  {
   "cell_type": "markdown",
   "metadata": {},
   "source": [
    "# Python 2 标准库示例：4.1 time-时钟时间\n",
    "\n",
    "不像 *int*, *float* 等，Python 没有本地的日期或时间类型，但包含有 3 个模块用于处理与日期和时间相关的值。\n",
    "\n",
    "+ *time* 模块导出底层 C 函数库中时间相关的函数，包括获取时钟时间和处理器运行时间的函数，基本的解析和格式化工具等。\n",
    "+ *datetime* 模块为日期、时间及其组合支持更高级的接口。该模块中的类还支持算术操作、比较、时区配置等。\n",
    "+ *calendar* 模块为年、月、周等创建格式化表示。\n",
    "\n",
    "**目的**: 提供处理时钟时间的函数。\n",
    "\n",
    "**Python 版本**: 1.4+\n",
    "\n",
    "*time* 模块与低层的 C 实现关联，因此一些细节会特定于平台。\n",
    "\n",
    "\n",
    "# 术语\n",
    "\n",
    "## 纪元 epoch\n",
    "\n",
    "指开始的时间点，在 Unix 中，指 1970-01-01 00:00:00。可通过 *time.gmtime(0)* 获取。本模块中的函数不能处理纪元前或纪元很久后的时间。表示的时间范围由低层的 C 实现决定，Unix 中最大表示时间是 2038 年。\n",
    "\n",
    "## UTC，GMT\n",
    "\n",
    "即世界标准时间 Coordinated Universal Time，缩写为 UTC 不是误写，是英文与法文折中的结果。之前叫作格林尼治标准时间（Greenwich Mean Time, GMT）。\n",
    "\n",
    "## DST\n",
    "\n",
    "DST 是 Daylight Saving Time 的缩写, 即夏令时间（日光节省时间）。由于夏天日出早，白天长，一些地方人为规定将时间提前 1 小时，从而使人们早睡早起，节约能源。实行夏令时的地方，处理时间时要偏移 1 个小时。DST 的规则由各地方规定，且可能每年变化，只能通过查询 C 库中包含的一个表格来了解。\n",
    "\n",
    "## struct_time\n",
    "\n",
    "*gmtime()*, *localtime()*, *strptime()* 返回的都是 *struct_time* 类型的时间值，这是一个具有 *named tuple* 接口的对象，各项可通过索引和属性名访问。\n",
    "\n",
    "索引 | 属性名   | 值\n",
    "-----|\n",
    "0    | tm_year  | 例如 2017\n",
    "1    | tm_mon   | [1, 12]\n",
    "2    | tm_mday  | [1, 31]\n",
    "3    | tm_hour  | [0, 23]\n",
    "4    | tm_min   | [0, 59]\n",
    "5    | tm_sec   | [0, 61]\n",
    "6    | tm_wday  | [0, 6], 0 指周一\n",
    "7    | tm_yday  | [1, 366]\n",
    "8    | tm_isdst | 0, 1, -1\n",
    "\n",
    "其中 *tm_sec* 最多有 61 秒，这是由于闰秒(leap second)的存在导致的。由于地球自转不均，会使世界时（民用时）和原子时有偏差，故要人为规定在某些时间调整世界标准间约为 1 秒。\n",
    "\n",
    "而 *asctime()*, *mktime()*, *strftime()* 接受的参数也是 *struct_time* 对象。\n",
    "\n",
    "自纪元以前的浮点秒数值与 *struct_time* 对象间的转换如下：\n",
    "\n",
    "From                      | To                        | Use\n",
    "--------------------------|\n",
    "seconds since epoch       | struct_time in UTC        | gmtime()\n",
    "seconds since epoch       | struct_time in local time | localtime()\n",
    "struct_time in UTC        | seconds since epoch       | calendar.timegm()\n",
    "struct_time in local time | seconds since epoch       | mktime\n",
    "\n",
    "\n",
    "# 挂钟时间\n",
    "\n",
    "\n",
    "*time* 模块中的一个核心函数是 *time()*，它返回一个浮点值，表示从纪元时间到当前的秒数。"
   ]
  },
  {
   "cell_type": "code",
   "execution_count": 1,
   "metadata": {},
   "outputs": [
    {
     "name": "stdout",
     "output_type": "stream",
     "text": [
      "The time is: 1496577423.91\n"
     ]
    }
   ],
   "source": [
    "import time\n",
    "\n",
    "print 'The time is:', time.time()"
   ]
  },
  {
   "cell_type": "markdown",
   "metadata": {},
   "source": [
    "虽然返回值是浮点数，但具体精度依赖平台。浮点表示方便排序和比较操作，但不易看懂。*ctime()* (char time 缩写）可将当前值或浮点数表示的时间值格式化输出。"
   ]
  },
  {
   "cell_type": "code",
   "execution_count": 2,
   "metadata": {},
   "outputs": [
    {
     "name": "stdout",
     "output_type": "stream",
     "text": [
      "The time is: Sun Jun  4 21:03:16 2017\n",
      "15 secs from now: Sun Jun  4 21:03:31 2017\n"
     ]
    }
   ],
   "source": [
    "import time\n",
    "\n",
    "print 'The time is:', time.ctime()\n",
    "latter = time.time() + 15\n",
    "print '15 secs from now:', time.ctime(latter)"
   ]
  },
  {
   "cell_type": "markdown",
   "metadata": {},
   "source": [
    "# 处理器时钟时间\n",
    "\n",
    "*time()* 返回挂钟时间，而 *clock()* 返回处理器时钟时间，其返回值反映了程序使用处理器的实际时间，故可用于性能测试、基准测试等。"
   ]
  },
  {
   "cell_type": "code",
   "execution_count": 4,
   "metadata": {},
   "outputs": [
    {
     "name": "stdout",
     "output_type": "stream",
     "text": [
      "Sun Jun  4 21:08:51 2017 : 1496581731.747 0.924\n",
      "Sun Jun  4 21:08:53 2017 : 1496581733.464 2.636\n",
      "Sun Jun  4 21:08:55 2017 : 1496581735.176 4.347\n",
      "Sun Jun  4 21:08:56 2017 : 1496581736.860 6.031\n",
      "Sun Jun  4 21:08:58 2017 : 1496581738.538 7.709\n"
     ]
    }
   ],
   "source": [
    "import hashlib\n",
    "import time\n",
    "\n",
    "# Data to use to calculate md5 checksums\n",
    "data = 'abc'*1000\n",
    "\n",
    "for i in range(5):\n",
    "    h = hashlib.sha1()\n",
    "    print time.ctime(), ': %0.3f %0.3f' % (time.time(), time.clock())\n",
    "    for i in range(300000):\n",
    "        h.update(data)\n",
    "    cksum = h.digest()"
   ]
  },
  {
   "cell_type": "markdown",
   "metadata": {},
   "source": [
    "当程序没有做任何事时，处理器一般不会计时。如下，*sleep()* 会交出当前线程的控制权，并等待系统再次调度它，其 *sleep* 时间没有计时在程序运行时间内。"
   ]
  },
  {
   "cell_type": "code",
   "execution_count": 5,
   "metadata": {},
   "outputs": [
    {
     "name": "stdout",
     "output_type": "stream",
     "text": [
      "Sun Jun  4 21:11:36 2017 1496581896.07 9.41\n",
      "Sleeping 6\n",
      "Sun Jun  4 21:11:42 2017 1496581902.08 9.42\n",
      "Sleeping 5\n",
      "Sun Jun  4 21:11:47 2017 1496581907.08 9.42\n",
      "Sleeping 4\n",
      "Sun Jun  4 21:11:51 2017 1496581911.09 9.42\n",
      "Sleeping 3\n",
      "Sun Jun  4 21:11:54 2017 1496581914.09 9.43\n",
      "Sleeping 2\n"
     ]
    }
   ],
   "source": [
    "import time\n",
    "\n",
    "for i in range(6, 1, -1):\n",
    "    print '%s %0.2f %0.2f' % (time.ctime(),\n",
    "                             time.time(),\n",
    "                             time.clock())\n",
    "    print 'Sleeping', i\n",
    "    time.sleep(i)"
   ]
  },
  {
   "cell_type": "markdown",
   "metadata": {},
   "source": [
    "# 时间组件\n",
    "\n",
    "通过 *struct_time* 定义时间的各组件部分。"
   ]
  },
  {
   "cell_type": "code",
   "execution_count": 7,
   "metadata": {},
   "outputs": [
    {
     "name": "stdout",
     "output_type": "stream",
     "text": [
      "gmtime(UTC):\n",
      " tm_year: 2017\n",
      " tm_mon: 6\n",
      " tm_mday: 4\n",
      " tm_hour: 13\n",
      " tm_min: 19\n",
      " tm_sec: 11\n",
      " tm_wday: 6\n",
      " tm_yday: 155\n",
      " tm_isdst: 0\n",
      "\n",
      "localtime:\n",
      " tm_year: 2017\n",
      " tm_mon: 6\n",
      " tm_mday: 4\n",
      " tm_hour: 21\n",
      " tm_min: 19\n",
      " tm_sec: 11\n",
      " tm_wday: 6\n",
      " tm_yday: 155\n",
      " tm_isdst: 0\n",
      "\n",
      "mktime: 1496582351.0\n"
     ]
    }
   ],
   "source": [
    "import time\n",
    "\n",
    "def show_struct(s):\n",
    "    print ' tm_year:', s.tm_year\n",
    "    print ' tm_mon:', s.tm_mon\n",
    "    print ' tm_mday:', s.tm_mday\n",
    "    print ' tm_hour:', s.tm_hour\n",
    "    print ' tm_min:', s.tm_min\n",
    "    print ' tm_sec:', s.tm_sec\n",
    "    print ' tm_wday:', s.tm_wday\n",
    "    print ' tm_yday:', s.tm_yday\n",
    "    print ' tm_isdst:', s.tm_isdst\n",
    "    \n",
    "print 'gmtime(UTC):'\n",
    "show_struct(time.gmtime())\n",
    "print '\\nlocaltime:'\n",
    "show_struct(time.localtime())\n",
    "print '\\nmktime:', time.mktime(time.localtime())"
   ]
  },
  {
   "cell_type": "markdown",
   "metadata": {},
   "source": [
    "*gmtime()* 返回 UTC 的当前时间，*localtime()* 返回当前时区内的当前时间，返回的都是 *struct_time* 对象。而 *mktime()* 将 *struct_time* 值转换成一个浮点数时间值。\n",
    "\n",
    "# 时区\n",
    "\n",
    "检测当前时间的函数依赖时区设置信息。时区可由程序设置，也可使用系统默认的时间设置。修改时区设置不会修改时间值，只是修改了时间的呈现方式。\n",
    "\n",
    "要修改时区，先设置环境变量 *TZ*，再调用 *tzset()* 即可。时区的细节很复杂，因此通常是通过指定时区名，由低层库进行具体处理。"
   ]
  },
  {
   "cell_type": "code",
   "execution_count": 9,
   "metadata": {},
   "outputs": [
    {
     "name": "stdout",
     "output_type": "stream",
     "text": [
      "Default:\n",
      " TZ: Europe/Amsterdam\n",
      " tzname: ('CET', 'CEST')\n",
      " Zone: -3600 (-1)\n",
      " DST: 1\n",
      " Time: Sun Jun  4 15:43:05 2017\n",
      "GMT :\n",
      " TZ: GMT\n",
      " tzname: ('GMT', 'GMT')\n",
      " Zone: 0 (0)\n",
      " DST: 0\n",
      " Time: Sun Jun  4 13:43:05 2017\n",
      "Europe/Amsterdam :\n",
      " TZ: Europe/Amsterdam\n",
      " tzname: ('CET', 'CEST')\n",
      " Zone: -3600 (-1)\n",
      " DST: 1\n",
      " Time: Sun Jun  4 15:43:05 2017\n"
     ]
    }
   ],
   "source": [
    "import time\n",
    "import os\n",
    "\n",
    "def show_zone_info():\n",
    "    print ' TZ:', os.environ.get('TZ', '(not set)')\n",
    "    print ' tzname:', time.tzname # return (name_of_local_non-DST_timezone, name_of_local-DST_timezone)\n",
    "    print ' Zone: %d (%d)' % (time.timezone, # offset of the local non-DST timezone, in seconds\n",
    "                             (time.timezone/3600))\n",
    "    print ' DST:', time.daylight\n",
    "    print ' Time:', time.ctime()\n",
    "    \n",
    "print 'Default:'\n",
    "show_zone_info()\n",
    "\n",
    "ZONES = [ 'GMT',\n",
    "          'Europe/Amsterdam',\n",
    "        ]\n",
    "\n",
    "for zone in ZONES:\n",
    "    os.environ['TZ'] = zone\n",
    "    time.tzset()\n",
    "    print zone, \":\"\n",
    "    show_zone_info()"
   ]
  },
  {
   "cell_type": "markdown",
   "metadata": {},
   "source": [
    "# 时间的解析和格式化\n",
    "\n",
    "*strptime()* (p 为 parse) 和 *strftime()* (f 为 format) 在 *struct_time* 与字符串表示的时间值之间进行转换。具体的格式指令见 [time 模块的官方文档](https://docs.python.org/2/library/time.html#time.strftime)。\n",
    "\n",
    "下例将当前时间从字符串转成 *struct_time* 实例，再转回字符串。"
   ]
  },
  {
   "cell_type": "code",
   "execution_count": 10,
   "metadata": {},
   "outputs": [
    {
     "name": "stdout",
     "output_type": "stream",
     "text": [
      "Now: Sun Jun  4 15:50:50 2017\n",
      "\n",
      "Parsed:\n",
      " tm_year: 2017\n",
      " tm_mon: 6\n",
      " tm_mday: 4\n",
      " tm_hour: 15\n",
      " tm_min: 50\n",
      " tm_sec: 50\n",
      " tm_wday: 6\n",
      " tm_yday: 155\n",
      " tm_isdst: -1\n",
      "\n",
      "Formatted: Sun Jun 04 15:50:50 2017\n"
     ]
    }
   ],
   "source": [
    "import time\n",
    "\n",
    "def show_struct(s):\n",
    "    print ' tm_year:', s.tm_year\n",
    "    print ' tm_mon:', s.tm_mon\n",
    "    print ' tm_mday:', s.tm_mday\n",
    "    print ' tm_hour:', s.tm_hour\n",
    "    print ' tm_min:', s.tm_min\n",
    "    print ' tm_sec:', s.tm_sec\n",
    "    print ' tm_wday:', s.tm_wday\n",
    "    print ' tm_yday:', s.tm_yday\n",
    "    print ' tm_isdst:', s.tm_isdst\n",
    "    \n",
    "now = time.ctime()\n",
    "print 'Now:', now\n",
    "\n",
    "parsed = time.strptime(now)\n",
    "print '\\nParsed:'\n",
    "show_struct(parsed)\n",
    "\n",
    "print '\\nFormatted:', time.strftime(\"%a %b %d %H:%M:%S %Y\", parsed)"
   ]
  },
  {
   "cell_type": "markdown",
   "metadata": {},
   "source": [
    "输入字符串与输入不完全相同，输出中的月日期加了 0 前缀。"
   ]
  },
  {
   "cell_type": "markdown",
   "metadata": {},
   "source": [
    "# 更多资源\n",
    "\n",
    "+ [time](https://docs.python.org/2/library/time.html) Standard library documentation for this module."
   ]
  }
 ],
 "metadata": {
  "kernelspec": {
   "display_name": "Python 2",
   "language": "python",
   "name": "python2"
  },
  "language_info": {
   "codemirror_mode": {
    "name": "ipython",
    "version": 2
   },
   "file_extension": ".py",
   "mimetype": "text/x-python",
   "name": "python",
   "nbconvert_exporter": "python",
   "pygments_lexer": "ipython2",
   "version": "2.7.12"
  }
 },
 "nbformat": 4,
 "nbformat_minor": 2
}
