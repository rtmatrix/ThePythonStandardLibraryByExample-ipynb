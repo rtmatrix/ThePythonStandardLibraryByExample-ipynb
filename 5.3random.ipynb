{
 "cells": [
  {
   "cell_type": "markdown",
   "metadata": {},
   "source": [
    "# Python 2 标准库示例：5.3 random-伪随机数生成器\n",
    "\n",
    "\n",
    "**目的**: 实现了几种类型的伪随机数生成器。\n",
    "\n",
    "**Python 版本**: 1.4+。\n",
    "\n",
    "*random* 模块基于多种不同的分布实现了伪随机数生成器。几乎所有的模块函数都基于 *random()* 函数，该函数使用均匀分布创建一个在区间 [0.0, 1.0) 之间的一个随机浮点数。\n",
    "\n",
    "模块函数实际上都是绑定于一个隐含的 *random.Random* 的类实例。我们也可以创建独立的 *random.Random* 实现，以获取独立的生成器状态信息。例如在多线程编程中，可为每个线程创建一个单独的 *random.Random* 实例。 \n",
    "\n",
    "## 生成随机数\n",
    "\n",
    "*random()* 函数从一个生成器生成的序列中返回下一个随机浮点数，返回值在 [0.0, 1.0) 之间。"
   ]
  },
  {
   "cell_type": "code",
   "execution_count": 1,
   "metadata": {},
   "outputs": [
    {
     "name": "stdout",
     "output_type": "stream",
     "text": [
      "0.999 0.106 0.006 0.846 0.101\n"
     ]
    }
   ],
   "source": [
    "import random\n",
    "\n",
    "for i in xrange(5):\n",
    "    print '%04.3f' % random.random(),\n",
    "print"
   ]
  },
  {
   "cell_type": "markdown",
   "metadata": {},
   "source": [
    "使用 *uniform(min, max)* 函数可以生成在 [min, max) 之间的浮点数，该函数的返回值也是基于 *random()* 的返回值进行调整取得。"
   ]
  },
  {
   "cell_type": "code",
   "execution_count": 2,
   "metadata": {},
   "outputs": [
    {
     "name": "stdout",
     "output_type": "stream",
     "text": [
      "85.481 89.581 34.903 56.218 20.251\n"
     ]
    }
   ],
   "source": [
    "import random\n",
    "\n",
    "for i in xrange(5):\n",
    "    print '%04.3f' % random.uniform(1, 100),\n",
    "print"
   ]
  },
  {
   "cell_type": "markdown",
   "metadata": {},
   "source": [
    "## 随机种子 seeding\n",
    "\n",
    "每次调用 *random()* 都将从一个既定序列中返回下一个随机数，该序列很长，即要过很久才会重复。*random()* 函数的返回值在序列中的起点位置可由一个初始值决定。即可通过 *random.seed(hashable_obj)* 来初始化伪随机生成器，从而使得该生成器生成一个预期的随机数序列。\n",
    "\n",
    "*seed()* 的参数值可为任意可 Hash 的对象，默认是使用与系统平台相关的随机源，如果没有则使用当前时间。"
   ]
  },
  {
   "cell_type": "code",
   "execution_count": 3,
   "metadata": {},
   "outputs": [
    {
     "name": "stdout",
     "output_type": "stream",
     "text": [
      "First time:\n",
      "0.134 0.847 0.764 0.255 0.495\n",
      "Second time:\n",
      "0.134 0.847 0.764 0.255 0.495\n"
     ]
    }
   ],
   "source": [
    "import random\n",
    "\n",
    "random.seed(1) # 初始化后，每次运行下面的随机数函数都返回相同的随机数。\n",
    "\n",
    "print 'First time:'\n",
    "for i in xrange(5):\n",
    "    print '%04.3f' % random.random(),\n",
    "print\n",
    "\n",
    "random.seed(1) # 初始化后，每次运行下面的随机数函数都返回相同的随机数。\n",
    "print 'Second time:'\n",
    "for i in xrange(5):\n",
    "    print '%04.3f' % random.random(),\n",
    "print"
   ]
  },
  {
   "cell_type": "markdown",
   "metadata": {},
   "source": [
    "## 保存状态及恢复\n",
    "\n",
    "使用 *seed()* 可初始化伪随机数序列中的初始位置，而 *random()* 在伪随机数序列中的当前位置（状态），可通过 *getstate()* 和 *setstate()* 进行获取和设置。"
   ]
  },
  {
   "cell_type": "code",
   "execution_count": 5,
   "metadata": {},
   "outputs": [
    {
     "name": "stdout",
     "output_type": "stream",
     "text": [
      "Found state.dat, initializing random module\n",
      "0.449 0.652 0.789 0.094 0.028\n",
      "\n",
      "After saving state:\n",
      "0.836 0.433 0.762 0.002 0.445\n"
     ]
    }
   ],
   "source": [
    "import random\n",
    "import os\n",
    "import cPickle as pickle\n",
    "\n",
    "if os.path.exists('state.dat'):\n",
    "    # Restore the previously saved state\n",
    "    print 'Found state.dat, initializing random module'\n",
    "    with open('state.dat', 'rb') as f:\n",
    "        state = pickle.load(f)\n",
    "    random.setstate(state)\n",
    "else:\n",
    "    # Use a well-know start state\n",
    "    print 'No state.dat, seeding'\n",
    "    random.seed(1)\n",
    "    \n",
    "# Produce random values\n",
    "for i in xrange(5):\n",
    "    print '%04.3f' % random.random(),\n",
    "print\n",
    "\n",
    "# Save state for next time\n",
    "with open('state.dat', 'wb') as f:\n",
    "    pickle.dump(random.getstate(), f)\n",
    "    \n",
    "# Produce more random values\n",
    "print '\\nAfter saving state:'\n",
    "for i in xrange(5):\n",
    "    print '%04.3f' % random.random(),\n",
    "print"
   ]
  },
  {
   "cell_type": "markdown",
   "metadata": {},
   "source": [
    "## 随机整数"
   ]
  },
  {
   "cell_type": "code",
   "execution_count": 9,
   "metadata": {},
   "outputs": [
    {
     "name": "stdout",
     "output_type": "stream",
     "text": [
      "[1, 100] 46 29 3\n",
      "[-5, 5]: 4 1 2\n",
      "range(0, 101, 5): 15 100 90\n"
     ]
    }
   ],
   "source": [
    "import random\n",
    "\n",
    "# randint(min, max) 随机返回 [min, max] 间的一个整数\n",
    "print '[1, 100]',\n",
    "for i in xrange(3):\n",
    "    print random.randint(1, 100),\n",
    "print\n",
    "    \n",
    "print '[-5, 5]:',\n",
    "for i in xrange(3):\n",
    "    print random.randint(-5, 5),\n",
    "print\n",
    "\n",
    "# randrange(start, end, step) 随机挑选 range(start, end, step) 序列中的一个整数\n",
    "print 'range(0, 101, 5):',\n",
    "for i in xrange(3):\n",
    "    print random.randrange(0, 101, 5),\n",
    "print"
   ]
  },
  {
   "cell_type": "markdown",
   "metadata": {},
   "source": [
    "## 在一个序列中随机挑选\n",
    "\n",
    "*choice()* 可在一个序列中进行随机选择。"
   ]
  },
  {
   "cell_type": "code",
   "execution_count": 10,
   "metadata": {},
   "outputs": [
    {
     "name": "stdout",
     "output_type": "stream",
     "text": [
      "Heads: 4983\n",
      "Tails: 5017\n"
     ]
    }
   ],
   "source": [
    "import random\n",
    "\n",
    "# 模拟抛硬币，统计正反面出现的次数\n",
    "outcomes = { 'heads': 0, 'tails': 0 }\n",
    "sides = outcomes.keys()\n",
    "\n",
    "for i in range(10000):\n",
    "    outcomes[ random.choice(sides) ] += 1\n",
    "    \n",
    "print 'Heads:', outcomes['heads']\n",
    "print 'Tails:', outcomes['tails']"
   ]
  }
 ],
 "metadata": {
  "kernelspec": {
   "display_name": "Python 2",
   "language": "python",
   "name": "python2"
  },
  "language_info": {
   "codemirror_mode": {
    "name": "ipython",
    "version": 2
   },
   "file_extension": ".py",
   "mimetype": "text/x-python",
   "name": "python",
   "nbconvert_exporter": "python",
   "pygments_lexer": "ipython2",
   "version": "2.7.12"
  }
 },
 "nbformat": 4,
 "nbformat_minor": 2
}
