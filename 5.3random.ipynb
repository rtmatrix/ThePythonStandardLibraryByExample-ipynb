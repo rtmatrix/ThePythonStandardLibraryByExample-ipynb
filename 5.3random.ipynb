{
 "cells": [
  {
   "cell_type": "markdown",
   "metadata": {},
   "source": [
    "# Python 2 标准库示例：5.3 random-伪随机数生成器\n",
    "\n",
    "\n",
    "**目的**: 实现了几种类型的伪随机数生成器。\n",
    "\n",
    "**Python 版本**: 1.4+。\n",
    "\n",
    "*random* 模块基于多种不同的分布实现了伪随机数生成器。几乎所有的模块函数都基于 *random()* 函数，该函数使用均匀分布创建一个在区间 [0.0, 1.0) 之间的一个随机浮点数。\n",
    "\n",
    "模块函数实际上都是绑定于一个隐含的 *random.Random* 的类实例。我们也可以创建独立的 *random.Random* 实现，以获取独立的生成器状态信息。例如在多线程编程中，可为每个线程创建一个单独的 *random.Random* 实例。 \n",
    "\n",
    "## 生成随机数\n",
    "\n",
    "*random()* 函数从一个生成器生成的序列中返回下一个随机浮点数，返回值在 [0.0, 1.0) 之间。"
   ]
  },
  {
   "cell_type": "code",
   "execution_count": 1,
   "metadata": {},
   "outputs": [
    {
     "name": "stdout",
     "output_type": "stream",
     "text": [
      "0.999 0.106 0.006 0.846 0.101\n"
     ]
    }
   ],
   "source": [
    "import random\n",
    "\n",
    "for i in xrange(5):\n",
    "    print '%04.3f' % random.random(),\n",
    "print"
   ]
  },
  {
   "cell_type": "markdown",
   "metadata": {},
   "source": [
    "使用 *uniform(min, max)* 函数可以生成在 [min, max) 之间的浮点数，该函数的返回值也是基于 *random()* 的返回值进行调整取得。"
   ]
  },
  {
   "cell_type": "code",
   "execution_count": 2,
   "metadata": {},
   "outputs": [
    {
     "name": "stdout",
     "output_type": "stream",
     "text": [
      "85.481 89.581 34.903 56.218 20.251\n"
     ]
    }
   ],
   "source": [
    "import random\n",
    "\n",
    "for i in xrange(5):\n",
    "    print '%04.3f' % random.uniform(1, 100),\n",
    "print"
   ]
  },
  {
   "cell_type": "markdown",
   "metadata": {},
   "source": [
    "## 随机种子 seeding\n",
    "\n",
    "每次调用 *random()* 都将从一个既定序列中返回下一个随机数，该序列很长，即要过很久才会重复。*random()* 函数的返回值在序列中的起点位置可由一个初始值决定。即可通过 *random.seed(hashable_obj)* 来初始化伪随机生成器，从而使得该生成器生成一个预期的随机数序列。\n",
    "\n",
    "*seed()* 的参数值可为任意可 Hash 的对象，默认是使用与系统平台相关的随机源，如果没有则使用当前时间。"
   ]
  },
  {
   "cell_type": "code",
   "execution_count": 3,
   "metadata": {},
   "outputs": [
    {
     "name": "stdout",
     "output_type": "stream",
     "text": [
      "First time:\n",
      "0.134 0.847 0.764 0.255 0.495\n",
      "Second time:\n",
      "0.134 0.847 0.764 0.255 0.495\n"
     ]
    }
   ],
   "source": [
    "import random\n",
    "\n",
    "random.seed(1) # 初始化后，每次运行下面的随机数函数都返回相同的随机数。\n",
    "\n",
    "print 'First time:'\n",
    "for i in xrange(5):\n",
    "    print '%04.3f' % random.random(),\n",
    "print\n",
    "\n",
    "random.seed(1) # 初始化后，每次运行下面的随机数函数都返回相同的随机数。\n",
    "print 'Second time:'\n",
    "for i in xrange(5):\n",
    "    print '%04.3f' % random.random(),\n",
    "print"
   ]
  },
  {
   "cell_type": "markdown",
   "metadata": {},
   "source": [
    "## 保存状态及恢复\n",
    "\n",
    "使用 *seed()* 可初始化伪随机数序列中的初始位置，而 *random()* 在伪随机数序列中的当前位置（状态），可通过 *getstate()* 和 *setstate()* 进行获取和设置。"
   ]
  },
  {
   "cell_type": "code",
   "execution_count": 5,
   "metadata": {},
   "outputs": [
    {
     "name": "stdout",
     "output_type": "stream",
     "text": [
      "Found state.dat, initializing random module\n",
      "0.449 0.652 0.789 0.094 0.028\n",
      "\n",
      "After saving state:\n",
      "0.836 0.433 0.762 0.002 0.445\n"
     ]
    }
   ],
   "source": [
    "import random\n",
    "import os\n",
    "import cPickle as pickle\n",
    "\n",
    "if os.path.exists('state.dat'):\n",
    "    # Restore the previously saved state\n",
    "    print 'Found state.dat, initializing random module'\n",
    "    with open('state.dat', 'rb') as f:\n",
    "        state = pickle.load(f)\n",
    "    random.setstate(state)\n",
    "else:\n",
    "    # Use a well-know start state\n",
    "    print 'No state.dat, seeding'\n",
    "    random.seed(1)\n",
    "    \n",
    "# Produce random values\n",
    "for i in xrange(5):\n",
    "    print '%04.3f' % random.random(),\n",
    "print\n",
    "\n",
    "# Save state for next time\n",
    "with open('state.dat', 'wb') as f:\n",
    "    pickle.dump(random.getstate(), f)\n",
    "    \n",
    "# Produce more random values\n",
    "print '\\nAfter saving state:'\n",
    "for i in xrange(5):\n",
    "    print '%04.3f' % random.random(),\n",
    "print"
   ]
  },
  {
   "cell_type": "markdown",
   "metadata": {},
   "source": [
    "## 随机整数"
   ]
  },
  {
   "cell_type": "code",
   "execution_count": 9,
   "metadata": {},
   "outputs": [
    {
     "name": "stdout",
     "output_type": "stream",
     "text": [
      "[1, 100] 46 29 3\n",
      "[-5, 5]: 4 1 2\n",
      "range(0, 101, 5): 15 100 90\n"
     ]
    }
   ],
   "source": [
    "import random\n",
    "\n",
    "# randint(min, max) 随机返回 [min, max] 间的一个整数\n",
    "print '[1, 100]',\n",
    "for i in xrange(3):\n",
    "    print random.randint(1, 100),\n",
    "print\n",
    "    \n",
    "print '[-5, 5]:',\n",
    "for i in xrange(3):\n",
    "    print random.randint(-5, 5),\n",
    "print\n",
    "\n",
    "# randrange(start, end, step) 随机挑选 range(start, end, step) 序列中的一个整数\n",
    "print 'range(0, 101, 5):',\n",
    "for i in xrange(3):\n",
    "    print random.randrange(0, 101, 5),\n",
    "print"
   ]
  },
  {
   "cell_type": "markdown",
   "metadata": {},
   "source": [
    "## 在一个序列中随机挑选\n",
    "\n",
    "*choice()* 可在一个序列中进行随机选择。"
   ]
  },
  {
   "cell_type": "code",
   "execution_count": 10,
   "metadata": {},
   "outputs": [
    {
     "name": "stdout",
     "output_type": "stream",
     "text": [
      "Heads: 4983\n",
      "Tails: 5017\n"
     ]
    }
   ],
   "source": [
    "import random\n",
    "\n",
    "# 模拟抛硬币，统计正反面出现的次数\n",
    "outcomes = { 'heads': 0, 'tails': 0 }\n",
    "sides = outcomes.keys()\n",
    "\n",
    "for i in range(10000):\n",
    "    outcomes[ random.choice(sides) ] += 1\n",
    "    \n",
    "print 'Heads:', outcomes['heads']\n",
    "print 'Tails:', outcomes['tails']"
   ]
  },
  {
   "cell_type": "markdown",
   "metadata": {},
   "source": [
    "## 洗牌\n",
    "\n",
    "将一个序列想象成一副牌，*shuffle()* 实现洗牌功能。"
   ]
  },
  {
   "cell_type": "code",
   "execution_count": 1,
   "metadata": {},
   "outputs": [
    {
     "name": "stdout",
     "output_type": "stream",
     "text": [
      "[6, 2, 1, 3, 0, 8, 4, 9, 7, 5]\n",
      "[3, 5, 1, 4, 2, 6, 7, 0, 8, 9]\n"
     ]
    }
   ],
   "source": [
    "import random\n",
    "\n",
    "cards = list(range(10))\n",
    "random.shuffle(cards)\n",
    "print cards\n",
    "\n",
    "random.shuffle(cards)\n",
    "print cards"
   ]
  },
  {
   "cell_type": "markdown",
   "metadata": {},
   "source": [
    "## 取样\n",
    "\n",
    "*sample()* 在不对输入序列进行任何改动的情况下，取抽取出 n 个样本。"
   ]
  },
  {
   "cell_type": "code",
   "execution_count": 2,
   "metadata": {},
   "outputs": [
    {
     "name": "stdout",
     "output_type": "stream",
     "text": [
      "Salton's\n",
      "mushrooming\n",
      "immunology\n",
      "racketed\n",
      "hundred's\n"
     ]
    }
   ],
   "source": [
    "import random\n",
    "\n",
    "with open('/usr/share/dict/words', 'rt') as f:\n",
    "    words = f.readlines()\n",
    "words = [w.rstrip() for w in words]\n",
    "\n",
    "for w in random.sample(words, 5):\n",
    "    print w"
   ]
  },
  {
   "cell_type": "markdown",
   "metadata": {},
   "source": [
    "## 多个随机生成器并行\n",
    "\n",
    "以上介绍的模块级的函数，实际上都作用在 random 模块内置的一个 Random 实例上的。显式创建多个 Random 实例，在这个实例上的随机数生成过程互不干扰。"
   ]
  },
  {
   "cell_type": "code",
   "execution_count": 3,
   "metadata": {},
   "outputs": [
    {
     "name": "stdout",
     "output_type": "stream",
     "text": [
      "Default initialization:\n",
      "\n",
      "0.930 0.448\n",
      "0.944 0.743\n",
      "0.872 0.949\n",
      "\n",
      "Same seed:\n",
      "\n",
      "0.760 0.760\n",
      "0.577 0.577\n",
      "0.559 0.559\n"
     ]
    }
   ],
   "source": [
    "import random\n",
    "import time\n",
    "\n",
    "print 'Default initialization:\\n'\n",
    "r1 = random.Random()\n",
    "r2 = random.Random()\n",
    "\n",
    "for i in xrange(3):\n",
    "    print '%04.3f %04.3f' % (r1.random(), r2.random())\n",
    "    \n",
    "print '\\nSame seed:\\n'\n",
    "seed = time.time()\n",
    "r1 = random.Random(seed)\n",
    "r2 = random.Random(seed)\n",
    "\n",
    "for i in xrange(3):\n",
    "    print '%04.3f %04.3f' % (r1.random(), r2.random())"
   ]
  },
  {
   "cell_type": "markdown",
   "metadata": {},
   "source": [
    "如果系统本身对随机数生成支持不好，可能会使用当前时间作为默认种子，从而上面代码的第一部分也可能会输出相同的随机值。\n",
    "\n",
    "要想确保生成器产生不同的值，可使用 *jumpahead(delta)* 对初始状态进行偏移，偏移量 delta 是一个非负整数，生成器内部状态会基于这个 delta 值进行偏移，但并不是进行简单的递增该值。"
   ]
  },
  {
   "cell_type": "code",
   "execution_count": 4,
   "metadata": {},
   "outputs": [
    {
     "name": "stdout",
     "output_type": "stream",
     "text": [
      "0.914 0.925\n",
      "0.930 0.333\n",
      "0.768 0.021\n"
     ]
    }
   ],
   "source": [
    "import random\n",
    "\n",
    "r1 = random.Random()\n",
    "r2 = random.Random()\n",
    "\n",
    "# Force r2 to a different part of the random period than r1.\n",
    "r2.setstate(r1.getstate())\n",
    "r2.jumpahead(1024)\n",
    "\n",
    "for i in xrange(3):\n",
    "    print '%04.3f %04.3f' % (r1.random(), r2.random())"
   ]
  },
  {
   "cell_type": "markdown",
   "metadata": {},
   "source": [
    "## SystemRandom\n",
    "\n",
    "一些操作系统本身会提供一个随机数生成器，这个生成器具有具有更随机，更强大的功能。random 模块通过 SystemRandom 类对其进行封装。SystemRandom 和 Random 类的 API 是相同的，只不过它是通过 *os.urandom()* 来产生随机数的。"
   ]
  },
  {
   "cell_type": "code",
   "execution_count": 5,
   "metadata": {},
   "outputs": [
    {
     "name": "stdout",
     "output_type": "stream",
     "text": [
      "Default initialization:\n",
      "\n",
      "0.595 0.363\n",
      "0.668 0.468\n",
      "0.819 0.891\n",
      "\n",
      "Same seed:\n",
      "\n",
      "0.794 0.695\n",
      "0.138 0.481\n",
      "0.900 0.211\n"
     ]
    }
   ],
   "source": [
    "import random\n",
    "import time\n",
    "\n",
    "print 'Default initialization:\\n'\n",
    "r1 = random.SystemRandom()\n",
    "r2 = random.SystemRandom()\n",
    "\n",
    "for i in xrange(3):\n",
    "    print '%04.3f %04.3f' % (r1.random(), r2.random())\n",
    "    \n",
    "print '\\nSame seed:\\n'\n",
    "seed = time.time()\n",
    "r1 = random.SystemRandom(seed)\n",
    "r2 = random.SystemRandom(seed)\n",
    "\n",
    "for i in xrange(3):\n",
    "    print '%04.3f %04.3f' % (r1.random(), r2.random())"
   ]
  },
  {
   "cell_type": "markdown",
   "metadata": {},
   "source": [
    "由于 SystemRandom 中的随机数是来自系统本身的，而不是基于软件状态产生，因此是不可重复的（即使初始化时 seed 相同也不能产生相同的随机数）。实际上，seed() 和 setstate() 在 SystemRandom 上都是无效的。"
   ]
  },
  {
   "cell_type": "markdown",
   "metadata": {},
   "source": [
    "## 非均匀分布\n",
    "\n",
    "*random()* 是基于均匀分布算法实现的。 random 模块也实现了基于其它分布实现的随机数生成器。\n",
    "\n",
    "### 正态分布 normal distribution\n",
    "\n",
    "正态分布也叫高斯分布，曲线形如钟。*random.normalvariate()* 和 *random.gauss()*（速度较快）能生成基于正态分布的随机值。*random.lognormalvariate()* 生成的随机值，其对数值是符合正态分布的。\n",
    "\n",
    "### 近似分布 approximation distribution\n",
    "\n",
    "对于小样本环境，用三角分布 triangular distribution 用来表示近似分布，对应函数是 *random.triangular()*。\n",
    "\n",
    "### 指数分布 exponential distribution\n",
    "\n",
    "*expovariate()* 和 *paretovariate()*。"
   ]
  },
  {
   "cell_type": "markdown",
   "metadata": {},
   "source": [
    "# 更多资源\n",
    "\n",
    "+ [random](https://docs.python.org/2/library/random.html) The standard library documentation for this module.\n",
    "+ [Mersenne Twister](http://en.wikipedia.org/wiki/Mersenne_twister) Wikipedia article about the pseudorandom generator algorithm used by Python.\n",
    "+ [Uniform distribution](http://en.wikipedia.org/wiki/Uniform_distribution_(continuous) Wikipedia article about continuous uniform distributions in statistics."
   ]
  }
 ],
 "metadata": {
  "kernelspec": {
   "display_name": "Python 2",
   "language": "python",
   "name": "python2"
  },
  "language_info": {
   "codemirror_mode": {
    "name": "ipython",
    "version": 2
   },
   "file_extension": ".py",
   "mimetype": "text/x-python",
   "name": "python",
   "nbconvert_exporter": "python",
   "pygments_lexer": "ipython2",
   "version": "2.7.12"
  }
 },
 "nbformat": 4,
 "nbformat_minor": 2
}
