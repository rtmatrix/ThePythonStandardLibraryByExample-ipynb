{
 "cells": [
  {
   "cell_type": "markdown",
   "metadata": {},
   "source": [
    "# Python 2 标准库示例：2.8 copy-复制对象\n",
    "\n",
    "\n",
    "**目的**: 提供影子复制和深度复制函数。\n",
    "\n",
    "**Python 版本**: 1.4+。\n",
    "\n",
    "\n",
    "*copy* 模块包含 2 个函数， *copy()* 和 *deepcopy()*，用于复制现有对象。\n",
    "\n",
    "\n",
    "# 影子复制 (shallow copy)\n",
    "\n",
    "使用 *copy()* 复制出来的是一个新的容器，但其内容都是对源对象内容的引用。"
   ]
  },
  {
   "cell_type": "code",
   "execution_count": 1,
   "metadata": {},
   "outputs": [
    {
     "name": "stdout",
     "output_type": "stream",
     "text": [
      "my_list: [<__main__.MyClass instance at 0xb46d85cc>]\n",
      "dup: [<__main__.MyClass instance at 0xb46d85cc>]\n",
      "dup is my_list: False\n",
      "dup == my_list: True\n",
      "dup[0] is my_list[0]: True\n",
      "dup[0] == my_list[0]: True\n"
     ]
    }
   ],
   "source": [
    "import copy\n",
    "\n",
    "class MyClass:\n",
    "    def __init__(self, name):\n",
    "        self.name = name\n",
    "        \n",
    "    def __cmp__(self, other):\n",
    "        return cmp(self.name, other.name)\n",
    "    \n",
    "a = MyClass('a')\n",
    "my_list = [a]\n",
    "dup = copy.copy(my_list)\n",
    "\n",
    "print 'my_list:', my_list\n",
    "print 'dup:', dup\n",
    "print 'dup is my_list:', dup is my_list\n",
    "print 'dup == my_list:', dup == my_list\n",
    "print 'dup[0] is my_list[0]:', dup[0] is my_list[0]\n",
    "print 'dup[0] == my_list[0]:', dup[0] == my_list[0]"
   ]
  },
  {
   "cell_type": "markdown",
   "metadata": {},
   "source": [
    "# 深度复制 (deep copy)\n",
    "\n",
    "使用 *deepcopy()* 复制出来的也是一个新的容器，并且其内容也复制至源对象的内容。"
   ]
  },
  {
   "cell_type": "code",
   "execution_count": 2,
   "metadata": {
    "scrolled": true
   },
   "outputs": [
    {
     "name": "stdout",
     "output_type": "stream",
     "text": [
      "my_list: [<__main__.MyClass instance at 0xb46d87ac>]\n",
      "dup: [<__main__.MyClass instance at 0xb46d878c>]\n",
      "dup is my_list: False\n",
      "dup == my_list: True\n",
      "dup[0] is my_list[0]: False\n",
      "dup[0] == my_list[0]: True\n"
     ]
    }
   ],
   "source": [
    "import copy\n",
    "\n",
    "class MyClass:\n",
    "    def __init__(self, name):\n",
    "        self.name = name\n",
    "        \n",
    "    def __cmp__(self, other):\n",
    "        return cmp(self.name, other.name)\n",
    "    \n",
    "a = MyClass('a')\n",
    "my_list = [a]\n",
    "dup = copy.deepcopy(my_list)\n",
    "\n",
    "print 'my_list:', my_list\n",
    "print 'dup:', dup\n",
    "print 'dup is my_list:', dup is my_list\n",
    "print 'dup == my_list:', dup == my_list\n",
    "print 'dup[0] is my_list[0]:', dup[0] is my_list[0]\n",
    "print 'dup[0] == my_list[0]:', dup[0] == my_list[0]"
   ]
  },
  {
   "cell_type": "markdown",
   "metadata": {},
   "source": [
    "# 定制复制的行为\n",
    "\n",
    "可通过 *__copy__()* 和 *__deepcopy__()* 进行复制行为定制。\n",
    "\n",
    "+ `__copy__()`: 没有参数，需返回一个影子复制对象。\n",
    "+ `__deepcopy__()`: 参数是一个备忘录字典 (memo dict)，需返回一个深度复制对象。备忘录字典用于控制递归。"
   ]
  },
  {
   "cell_type": "code",
   "execution_count": 3,
   "metadata": {},
   "outputs": [
    {
     "name": "stdout",
     "output_type": "stream",
     "text": [
      "__copy__()\n",
      "__deepcopy__({})\n"
     ]
    }
   ],
   "source": [
    "import copy\n",
    "\n",
    "class MyClass:\n",
    "    def __init__(self, name):\n",
    "        self.name = name\n",
    "        \n",
    "    def __cmp__(self, other):\n",
    "        return cmp(self.name, other.name)\n",
    "    \n",
    "    def __copy__(self):\n",
    "        print '__copy__()'\n",
    "        return MyClass(self.name)\n",
    "    \n",
    "    def __deepcopy__(self, memo):\n",
    "        print '__deepcopy__(%s)' % str(memo)\n",
    "        return MyClass(copy.deepcopy(self.name, memo))\n",
    "    \n",
    "a = MyClass('a')\n",
    "sc = copy.copy(a)\n",
    "dc = copy.deepcopy(a)"
   ]
  },
  {
   "cell_type": "markdown",
   "metadata": {},
   "source": [
    "# 深度复制中的递归\n",
    "\n",
    "为避免复制递归型数据结构时出现的问题，*deepcopy()* 通过一个列表对象来跟踪已复制的对象。"
   ]
  },
  {
   "cell_type": "code",
   "execution_count": 4,
   "metadata": {},
   "outputs": [
    {
     "name": "stdout",
     "output_type": "stream",
     "text": [
      "\n",
      "Calling __deepcopy__ for Graph(name=root, id=3027163916)\n",
      " Memo dict:\n",
      "{   }\n",
      " Coping to new object Graph(name=root, id=3027077196)\n",
      "\n",
      "Calling __deepcopy__ for Graph(name=a, id=3027163852)\n",
      " Memo dict:\n",
      "{   Graph(name=root, id=3027163916): Graph(name=root, id=3027077196),\n",
      "    3027166316L: ['root'],\n",
      "    3072195296L: 'root'}\n",
      " Coping to new object Graph(name=a, id=3027164012)\n",
      "\n",
      "Calling __deepcopy__ for Graph(name=root, id=3027163916)\n",
      " Already copied to Graph(name=root, id=3027077196)\n",
      "\n",
      "Calling __deepcopy__ for Graph(name=b, id=3027163404)\n",
      " Memo dict:\n",
      "{   Graph(name=a, id=3027163852): Graph(name=a, id=3027164012),\n",
      "    Graph(name=root, id=3027163916): Graph(name=root, id=3027077196),\n",
      "    3027163852L: Graph(name=a, id=3027164012),\n",
      "    3027163916L: Graph(name=root, id=3027077196),\n",
      "    3027166316L: [   'root',\n",
      "                     'a',\n",
      "                     Graph(name=root, id=3027163916),\n",
      "                     Graph(name=a, id=3027163852)],\n",
      "    3072195296L: 'root',\n",
      "    3075206920L: 'a'}\n",
      " Coping to new object Graph(name=b, id=3027164108)\n"
     ]
    }
   ],
   "source": [
    "import copy\n",
    "import pprint\n",
    "\n",
    "class Graph:\n",
    "    def __init__(self, name, connections):\n",
    "        self.name = name\n",
    "        self.connections = connections\n",
    "        \n",
    "    def add_connection(self, other):\n",
    "        self.connections.append(other)\n",
    "        \n",
    "    def __repr__(self):\n",
    "        return 'Graph(name=%s, id=%s)' % (self.name, id(self))\n",
    "    \n",
    "    def __deepcopy__(self, memo):\n",
    "        print '\\nCalling __deepcopy__ for %r' % self\n",
    "        if self in memo:\n",
    "            existing = memo.get(self)\n",
    "            print ' Already copied to %r' % existing\n",
    "            return existing\n",
    "        print ' Memo dict:'\n",
    "        pprint.pprint(memo, indent=4, width=40)\n",
    "        dup = Graph(copy.deepcopy(self.name, memo), [])\n",
    "        print ' Coping to new object %s' % dup\n",
    "        memo[self] = dup\n",
    "        for c in self.connections:\n",
    "            dup.add_connection(copy.deepcopy(c, memo))\n",
    "        return dup\n",
    "    \n",
    "root = Graph('root', [])\n",
    "a = Graph('a', [root])\n",
    "b = Graph('b', [a, root])\n",
    "root.add_connection(a)\n",
    "root.add_connection(b)\n",
    "\n",
    "dup = copy.deepcopy(root)"
   ]
  },
  {
   "cell_type": "markdown",
   "metadata": {},
   "source": [
    "上面的有向图的例子中，通过备忘录字典避免了递归复制。"
   ]
  },
  {
   "cell_type": "markdown",
   "metadata": {},
   "source": [
    "# 更多资源\n",
    "\n",
    "+ [copy](https://docs.python.org/2/library/copy.html) Standard library documentation for this module."
   ]
  }
 ],
 "metadata": {
  "kernelspec": {
   "display_name": "Python 2",
   "language": "python",
   "name": "python2"
  },
  "language_info": {
   "codemirror_mode": {
    "name": "ipython",
    "version": 2
   },
   "file_extension": ".py",
   "mimetype": "text/x-python",
   "name": "python",
   "nbconvert_exporter": "python",
   "pygments_lexer": "ipython2",
   "version": "2.7.12"
  }
 },
 "nbformat": 4,
 "nbformat_minor": 2
}
