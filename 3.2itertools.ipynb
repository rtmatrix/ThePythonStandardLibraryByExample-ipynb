{
 "cells": [
  {
   "cell_type": "markdown",
   "metadata": {},
   "source": [
    "# Python 2 标准库示例：3.2 itertools-迭代函数\n",
    "\n",
    "\n",
    "**目的**: 实现了一组用于处理序列数据集的函数。\n",
    "\n",
    "**Python 版本**: 2.3+。\n",
    "\n",
    "\n",
    "*itertools* 中这些函数都是受 Clojure, Haskell 等函数式编程语言的一些功能特性启发的。\n",
    "\n",
    "基于迭代的代码，使用的是 \"lazy\" 处理模式，有更好的内存使用性能。\n",
    "\n",
    "\n",
    "# 合并和拆分迭代器\n",
    "\n",
    "*chain()* 函数将参数中的多个迭代器合并成一个迭代器使用。"
   ]
  },
  {
   "cell_type": "code",
   "execution_count": 1,
   "metadata": {},
   "outputs": [
    {
     "name": "stdout",
     "output_type": "stream",
     "text": [
      "1 2 3 a b c\n"
     ]
    }
   ],
   "source": [
    "from itertools import *\n",
    "\n",
    "for i in chain([1, 2, 3,], ['a', 'b', 'c']):\n",
    "    print i,\n",
    "print"
   ]
  },
  {
   "cell_type": "markdown",
   "metadata": {},
   "source": [
    "*izip()* 返回的迭代器，其元素是收集至参数中每个迭代器中相同位置的元素，组成的一个元组。它和内置函数 *zip()* 很类似。"
   ]
  },
  {
   "cell_type": "code",
   "execution_count": 2,
   "metadata": {},
   "outputs": [
    {
     "name": "stdout",
     "output_type": "stream",
     "text": [
      "(1, 'a')\n",
      "(2, 'b')\n",
      "(3, 'c')\n"
     ]
    }
   ],
   "source": [
    "from itertools import *\n",
    "\n",
    "for i in izip([1, 2, 3], ['a', 'b', 'c', 'd']):\n",
    "    print i"
   ]
  },
  {
   "cell_type": "markdown",
   "metadata": {},
   "source": [
    "*islice()* 返回的迭代器，其元素是基于索引从输入迭代器中选择出来的。它原理和列表的分片操作类似，也接受相同的 3 个参数： start, stop, step。"
   ]
  },
  {
   "cell_type": "code",
   "execution_count": 3,
   "metadata": {},
   "outputs": [
    {
     "name": "stdout",
     "output_type": "stream",
     "text": [
      "Stop at 5:\n",
      "0 1 2 3 4 \n",
      "\n",
      "Star at 5, stop at 10:\n",
      "5 6 7 8 9 \n",
      "\n"
     ]
    }
   ],
   "source": [
    "from itertools import *\n",
    "\n",
    "print 'Stop at 5:'\n",
    "# itertools.count() --> [0, 1, 2,...]\n",
    "for i in islice(count(), 5):  # xrange(5)\n",
    "    print i,\n",
    "print '\\n'\n",
    "\n",
    "print 'Star at 5, stop at 10:'\n",
    "for i in islice(count(), 5, 10): # xrange(5, 10)\n",
    "    print i,\n",
    "print '\\n'"
   ]
  },
  {
   "cell_type": "markdown",
   "metadata": {},
   "source": [
    "*tee()* 会基于单个的源输入序列，返回多个（默认 2 个）独立的迭代器。其语义和 UNIX 的 *tee* 命令类似，*tee* 命令会将输入中读取的值同时写入一个命名文件及标准输出上。"
   ]
  },
  {
   "cell_type": "code",
   "execution_count": 4,
   "metadata": {},
   "outputs": [
    {
     "name": "stdout",
     "output_type": "stream",
     "text": [
      "i1: [0, 1, 2, 3, 4]\n",
      "i2: [0, 1, 2, 3, 4]\n"
     ]
    }
   ],
   "source": [
    "from itertools import *\n",
    "\n",
    "r = islice(count(), 5)\n",
    "i1, i2 = tee(r)\n",
    "\n",
    "print 'i1:', list(i1)\n",
    "print 'i2:', list(i2)"
   ]
  },
  {
   "cell_type": "markdown",
   "metadata": {},
   "source": [
    "*tee()* 返回的新迭代器与源迭代器共享输入数据，因此，源迭代器中消耗了的数据，新迭代器都不会再出现。"
   ]
  },
  {
   "cell_type": "code",
   "execution_count": 5,
   "metadata": {},
   "outputs": [
    {
     "name": "stdout",
     "output_type": "stream",
     "text": [
      "r: 0 1 2\n",
      "i1: [3, 4]\n",
      "i2: [3, 4]\n"
     ]
    }
   ],
   "source": [
    "from itertools import *\n",
    "\n",
    "r = islice(count(), 5)\n",
    "i1, i2 = tee(r)\n",
    "\n",
    "print 'r:',\n",
    "for i in r:\n",
    "    print i,\n",
    "    if i > 1:\n",
    "        break\n",
    "print\n",
    "\n",
    "print 'i1:', list(i1)\n",
    "print 'i2:', list(i2)"
   ]
  },
  {
   "cell_type": "markdown",
   "metadata": {},
   "source": [
    "# 转换输入值\n",
    "\n",
    "*imap()* 函数返回的迭代器，其序列值是对输入迭代器中的每个值调用某个映射函数进行映射后得到。它和内置的 *map()* 函数类似，只不过当某个输入迭代器消耗完后即中止（而不是通过填充 None 以处理完全部输入源）。"
   ]
  },
  {
   "cell_type": "code",
   "execution_count": 6,
   "metadata": {},
   "outputs": [
    {
     "name": "stdout",
     "output_type": "stream",
     "text": [
      "Doubles:\n",
      "0\n",
      "2\n",
      "4\n",
      "6\n",
      "8\n",
      "Multiples:\n",
      "0 * 5 = 0\n",
      "1 * 6 = 6\n",
      "2 * 7 = 14\n",
      "3 * 8 = 24\n",
      "4 * 9 = 36\n"
     ]
    }
   ],
   "source": [
    "from itertools import *\n",
    "\n",
    "print 'Doubles:'\n",
    "for i in imap(lambda x:2*x, xrange(5)):\n",
    "    print i\n",
    "    \n",
    "print 'Multiples:'\n",
    "for i in imap(lambda x,y:(x, y, x*y), xrange(5), xrange(5, 10)):\n",
    "    print '%d * %d = %d' % i"
   ]
  },
  {
   "cell_type": "markdown",
   "metadata": {},
   "source": [
    "*starmap()* 和 *imap()* 类似，但它不是从多个输入迭代器中获取值构建出一个元组 tuple，而是从单个输入迭代器中抽取出元素，使用 `*` 语法分拆出多个值，以给映射函数使用。"
   ]
  },
  {
   "cell_type": "code",
   "execution_count": 7,
   "metadata": {},
   "outputs": [
    {
     "name": "stdout",
     "output_type": "stream",
     "text": [
      "0 * 5 = 0\n",
      "1 * 6 = 6\n",
      "2 * 7 = 14\n",
      "3 * 8 = 24\n",
      "4 * 9 = 36\n"
     ]
    }
   ],
   "source": [
    "from itertools import *\n",
    "\n",
    "values = [(0, 5), (1, 6), (2, 7), (3, 8), (4, 9)]\n",
    "for i in starmap(lambda x,y:(x, y, x*y), values):\n",
    "    print '%d * %d = %d' % i"
   ]
  },
  {
   "cell_type": "markdown",
   "metadata": {},
   "source": [
    "# 创造新值\n",
    "\n",
    "*count()* 函数返回一个能产生无限整数序列的迭代器，序列首元素值可由第 1 个参数指定（默认值为 0）。其参数和 *xrange()* 的类似。"
   ]
  },
  {
   "cell_type": "code",
   "execution_count": 8,
   "metadata": {},
   "outputs": [
    {
     "name": "stdout",
     "output_type": "stream",
     "text": [
      "(1, 'a')\n",
      "(2, 'b')\n",
      "(3, 'c')\n"
     ]
    }
   ],
   "source": [
    "from itertools import *\n",
    "\n",
    "for i in izip(count(1), ['a', 'b', 'c']):\n",
    "    print i"
   ]
  },
  {
   "cell_type": "markdown",
   "metadata": {},
   "source": [
    "*cycle()* 返回的迭代器会重复产生参数中的内容。"
   ]
  },
  {
   "cell_type": "code",
   "execution_count": 9,
   "metadata": {},
   "outputs": [
    {
     "name": "stdout",
     "output_type": "stream",
     "text": [
      "(0, 'a')\n",
      "(1, 'b')\n",
      "(2, 'c')\n",
      "(3, 'a')\n",
      "(4, 'b')\n",
      "(5, 'c')\n",
      "(6, 'a')\n"
     ]
    }
   ],
   "source": [
    "from itertools import *\n",
    "\n",
    "for i, item in izip(xrange(7), cycle(['a', 'b', 'c'])):\n",
    "    print (i, item)"
   ]
  },
  {
   "cell_type": "markdown",
   "metadata": {},
   "source": [
    "*repeat()* 返回的迭代器会重复相同的值，重复次数可由参数 *times* 指定。"
   ]
  },
  {
   "cell_type": "code",
   "execution_count": 10,
   "metadata": {},
   "outputs": [
    {
     "name": "stdout",
     "output_type": "stream",
     "text": [
      "over-and-over\n",
      "over-and-over\n",
      "over-and-over\n",
      "over-and-over\n",
      "over-and-over\n"
     ]
    }
   ],
   "source": [
    "from itertools import *\n",
    "\n",
    "for i in repeat('over-and-over', 5):\n",
    "    print i"
   ]
  },
  {
   "cell_type": "markdown",
   "metadata": {},
   "source": [
    "*repeat()* 组合 *izip()* 或 *imap()* 会很有用。下面是一个计数器组合常量的例子："
   ]
  },
  {
   "cell_type": "code",
   "execution_count": 11,
   "metadata": {},
   "outputs": [
    {
     "name": "stdout",
     "output_type": "stream",
     "text": [
      "0 over-and-over\n",
      "1 over-and-over\n",
      "2 over-and-over\n",
      "3 over-and-over\n",
      "4 over-and-over\n"
     ]
    }
   ],
   "source": [
    "from itertools import *\n",
    "\n",
    "for i, s in izip(count(), repeat('over-and-over', 5)):\n",
    "    print i, s"
   ]
  },
  {
   "cell_type": "markdown",
   "metadata": {},
   "source": [
    "下面使用 *imap()* 进行乘 2 操作的例子："
   ]
  },
  {
   "cell_type": "code",
   "execution_count": 12,
   "metadata": {},
   "outputs": [
    {
     "name": "stdout",
     "output_type": "stream",
     "text": [
      "2 * 0 = 0\n",
      "2 * 1 = 2\n",
      "2 * 2 = 4\n",
      "2 * 3 = 6\n",
      "2 * 4 = 8\n"
     ]
    }
   ],
   "source": [
    "from itertools import *\n",
    "\n",
    "for i in imap(lambda x,y:(x, y, x*y), repeat(2), xrange(5)):\n",
    "    print '%d * %d = %d' % i"
   ]
  },
  {
   "cell_type": "markdown",
   "metadata": {},
   "source": [
    "## 过滤\n",
    "\n",
    "*dropwhile()* 返回的迭代器，它对输入迭代器中的每个元素逐一进行测试，丢弃所有满足测试条件的元素，直到碰到使条件测试返回值为 False 的元素，该元素及之后的所有元素作为返回迭代器中的元素。\n",
    "\n",
    "即 *dropwhile()* 不对输入源中的每个元素进行测试，当首次使测试返回 False 后，后面的所有元素都将返回。"
   ]
  },
  {
   "cell_type": "code",
   "execution_count": 13,
   "metadata": {},
   "outputs": [
    {
     "name": "stdout",
     "output_type": "stream",
     "text": [
      "Testing: -1\n",
      "Testing: 0\n",
      "Testing: 1\n",
      "Yielding: 1\n",
      "Yielding: 2\n",
      "Yielding: -2\n"
     ]
    }
   ],
   "source": [
    "from itertools import *\n",
    "\n",
    "def should_drop(x):\n",
    "    print 'Testing:', x\n",
    "    return (x<1)\n",
    "\n",
    "for i in dropwhile(should_drop, [-1, 0, 1, 2, -2]):\n",
    "    print 'Yielding:', i"
   ]
  },
  {
   "cell_type": "markdown",
   "metadata": {},
   "source": [
    "*dropwhile()* 的相反函数是 *takewhile()*。一旦测试返回为 False, 则后面的元素都不再处理。"
   ]
  },
  {
   "cell_type": "code",
   "execution_count": 14,
   "metadata": {},
   "outputs": [
    {
     "name": "stdout",
     "output_type": "stream",
     "text": [
      "Testing: -1\n",
      "Yielding: -1\n",
      "Testing: 0\n",
      "Yielding: 0\n",
      "Testing: 1\n",
      "Yielding: 1\n",
      "Testing: 2\n"
     ]
    }
   ],
   "source": [
    "from itertools import *\n",
    "\n",
    "def should_take(x):\n",
    "    print 'Testing:', x\n",
    "    return (x<2)\n",
    "\n",
    "for i in takewhile(should_take, [-1, 0, 1, 2, -2]):\n",
    "    print 'Yielding:', i"
   ]
  },
  {
   "cell_type": "markdown",
   "metadata": {},
   "source": [
    "*ifilter()* 与内置的 *filter()* 类似，它会对源输入中的每个元素进行测试。"
   ]
  },
  {
   "cell_type": "code",
   "execution_count": 15,
   "metadata": {},
   "outputs": [
    {
     "name": "stdout",
     "output_type": "stream",
     "text": [
      "Testing: -1\n",
      "Yielding: -1\n",
      "Testing: 0\n",
      "Yielding: 0\n",
      "Testing: 1\n",
      "Testing: 2\n",
      "Testing: -2\n",
      "Yielding: -2\n"
     ]
    }
   ],
   "source": [
    "from itertools import *\n",
    "\n",
    "def check_item(x):\n",
    "    print 'Testing:', x\n",
    "    return (x<1)\n",
    "\n",
    "for i in ifilter(check_item, [-1, 0, 1, 2, -2]):\n",
    "    print 'Yielding:', i"
   ]
  },
  {
   "cell_type": "markdown",
   "metadata": {},
   "source": [
    "*ifilterfalse()* 返回的迭代器中的元素需满足测试函数返回 False。"
   ]
  },
  {
   "cell_type": "code",
   "execution_count": 16,
   "metadata": {},
   "outputs": [
    {
     "name": "stdout",
     "output_type": "stream",
     "text": [
      "Testing: -1\n",
      "Testing: 0\n",
      "Testing: 1\n",
      "Yielding: 1\n",
      "Testing: 2\n",
      "Yielding: 2\n",
      "Testing: -2\n"
     ]
    }
   ],
   "source": [
    "from itertools import *\n",
    "\n",
    "def check_item(x):\n",
    "    print 'Testing:', x\n",
    "    return (x<1)\n",
    "\n",
    "for i in ifilterfalse(check_item, [-1, 0, 1, 2, -2]):\n",
    "    print 'Yielding:', i"
   ]
  },
  {
   "cell_type": "markdown",
   "metadata": {},
   "source": [
    "# 数据分组\n",
    "\n",
    "*groupby()* 函数返回一个迭代器，它产生一组基于某键值组织的一个数据集。\n",
    "\n",
    "下例演示了基于一个属性值分组。"
   ]
  },
  {
   "cell_type": "code",
   "execution_count": 17,
   "metadata": {},
   "outputs": [
    {
     "name": "stdout",
     "output_type": "stream",
     "text": [
      "Data:\n",
      "[(0, 0), (1, 1), (2, 2), (0, 3), (1, 4), (2, 5), (0, 6)]\n",
      "\n",
      "Grouped, unsorted:\n",
      "0 [(0, 0)]\n",
      "1 [(1, 1)]\n",
      "2 [(2, 2)]\n",
      "0 [(0, 3)]\n",
      "1 [(1, 4)]\n",
      "2 [(2, 5)]\n",
      "0 [(0, 6)]\n",
      "\n",
      "Sorted:\n",
      "[(0, 0), (0, 3), (0, 6), (1, 1), (1, 4), (2, 2), (2, 5)]\n",
      "\n",
      "Grouped, sorted:\n",
      "0 [(0, 0), (0, 3), (0, 6)]\n",
      "1 [(1, 1), (1, 4)]\n",
      "2 [(2, 2), (2, 5)]\n",
      "\n"
     ]
    }
   ],
   "source": [
    "from itertools import *\n",
    "import operator\n",
    "import pprint\n",
    "\n",
    "class Point:\n",
    "    def __init__(self, x, y):\n",
    "        self.x = x\n",
    "        self.y = y\n",
    "    \n",
    "    def __repr__(self):\n",
    "        return '(%s, %s)' % (self.x, self.y)\n",
    "    \n",
    "    def __cmp__(self, other):\n",
    "        return cmp((self.x, self.y), (other.x, other.y))\n",
    "    \n",
    "# Create a dataset of Point instances\n",
    "data = list(imap(Point,\n",
    "                cycle(islice(count(), 3)),\n",
    "                islice(count(), 7),\n",
    "                )\n",
    "           )\n",
    "print 'Data:'\n",
    "pprint.pprint(data, width=69)\n",
    "print\n",
    "\n",
    "# Try to group the unsorted data based on X values\n",
    "print 'Grouped, unsorted:'\n",
    "for k, g in groupby(data, operator.attrgetter('x')):\n",
    "    print k, list(g)\n",
    "print\n",
    "\n",
    "# sort the data\n",
    "data.sort()\n",
    "print 'Sorted:'\n",
    "pprint.pprint(data, width=69)\n",
    "print\n",
    "\n",
    "# Group the sorted data based on X values\n",
    "print 'Grouped, sorted:'\n",
    "for k, g in groupby(data, operator.attrgetter('x')):\n",
    "    print k, list(g)\n",
    "print"
   ]
  },
  {
   "cell_type": "markdown",
   "metadata": {},
   "source": [
    "可见，要基于某键分组，输入序列需要事先基于该键预先进行排序。"
   ]
  },
  {
   "cell_type": "markdown",
   "metadata": {},
   "source": [
    "# 更多资源\n",
    "\n",
    "+ [itertools](https://docs.python.org/2/library/itertools.html) Standard library documentation for this module.\n",
    "+ [The Standard ML Basis Library](www.standardml.org/Basis/) The library for SML.\n",
    "+ [Definition of Haskell and the Standard Libraries](www.haskell.org/definition/) Standard library specification for the functional language Haskell.\n",
    "+ [Clojure](http://clojure.org/) Clojure is a dynamic functional language that runs on the Java Virtual Machine.\n",
    "+ [tee](http://unixhelp.ed.ac.uk/CGI/man-cgi?tee) UNIX command line tool for splitting one input into multiple identical output streams."
   ]
  }
 ],
 "metadata": {
  "kernelspec": {
   "display_name": "Python 2",
   "language": "python",
   "name": "python2"
  },
  "language_info": {
   "codemirror_mode": {
    "name": "ipython",
    "version": 2
   },
   "file_extension": ".py",
   "mimetype": "text/x-python",
   "name": "python",
   "nbconvert_exporter": "python",
   "pygments_lexer": "ipython2",
   "version": "2.7.12"
  }
 },
 "nbformat": 4,
 "nbformat_minor": 2
}
