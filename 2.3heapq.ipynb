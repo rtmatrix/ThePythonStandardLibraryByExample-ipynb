{
 "cells": [
  {
   "cell_type": "markdown",
   "metadata": {},
   "source": [
    "# Python 2 标准库示例：2.3 heapq-堆排序算法\n",
    "\n",
    "\n",
    "**目的**: 实现了一个适用于 Python 列表的最小堆排序算法。\n",
    "\n",
    "**Python 版本**: 2.3+\n",
    "\n",
    "*heap* 是一个树型数据结构，它的子结点与父结点之前都有排序关系。*二叉堆 binary heap* 可用一个列表或数据来表示，其第 N 层的子元素的存储位置为 `2*n+1` 和 `2*n+2`(基于 0 的索引）。\n",
    "\n",
    "最大堆 *max-heap* 确保父结点值总是大于或等于它的所有子结点值，而最小堆 *min-heap* 确保了父结点值总是小于或等于它的所有子结点值。 *heapq* 模块实现了二叉 *min-heap*。\n",
    "\n",
    "测试数据和堆显示函数如下："
   ]
  },
  {
   "cell_type": "code",
   "execution_count": 5,
   "metadata": {},
   "outputs": [],
   "source": [
    "import math\n",
    "from cStringIO import StringIO\n",
    "\n",
    "DATA = [19, 9, 4, 10, 11]\n",
    "\n",
    "def show_tree(tree, total_width=36, fill=' '):\n",
    "    \"\"\"Pretty-print a tree.\"\"\"\n",
    "    output = StringIO()\n",
    "    last_row = -1\n",
    "    for i, n in enumerate(tree):\n",
    "        if i:\n",
    "            row = int(math.floor(math.log(i+1, 2)))\n",
    "        else:\n",
    "            row = 0\n",
    "        if row != last_row:\n",
    "            output.write('\\n')\n",
    "        columns = 2**row\n",
    "        col_width = int(math.floor((total_width*1.0) / columns))\n",
    "        output.write(str(n).center(col_width, fill))\n",
    "        last_row = row\n",
    "    print output.getvalue()\n",
    "    print '-' * total_width\n",
    "    print\n",
    "    return"
   ]
  },
  {
   "cell_type": "markdown",
   "metadata": {},
   "source": [
    "# 创建\n",
    "\n",
    "创建堆有两种基本方法： \n",
    "\n",
    "1. *heappush()* : 将元素逐个添加个堆中。\n",
    "2. *heapify()*：将现有的列表堆化。"
   ]
  },
  {
   "cell_type": "code",
   "execution_count": 7,
   "metadata": {},
   "outputs": [
    {
     "name": "stdout",
     "output_type": "stream",
     "text": [
      "From heappush:\n",
      "data:  [19, 9, 4, 10, 11]\n",
      "\n",
      "add  19:\n",
      "\n",
      "                 19                 \n",
      "------------------------------------\n",
      "\n",
      "add   9:\n",
      "\n",
      "                 9                  \n",
      "        19        \n",
      "------------------------------------\n",
      "\n",
      "add   4:\n",
      "\n",
      "                 4                  \n",
      "        19                9         \n",
      "------------------------------------\n",
      "\n",
      "add  10:\n",
      "\n",
      "                 4                  \n",
      "        10                9         \n",
      "    19   \n",
      "------------------------------------\n",
      "\n",
      "add  11:\n",
      "\n",
      "                 4                  \n",
      "        10                9         \n",
      "    19       11   \n",
      "------------------------------------\n",
      "\n",
      "From heapify:\n",
      "data:  [19, 9, 4, 10, 11]\n",
      "heapified: \n",
      "\n",
      "                 4                  \n",
      "        9                 19        \n",
      "    10       11   \n",
      "------------------------------------\n",
      "\n"
     ]
    }
   ],
   "source": [
    "import heapq\n",
    "import copy\n",
    "\n",
    "print 'From heappush:'\n",
    "\n",
    "heap = []\n",
    "print 'data: ', DATA\n",
    "print\n",
    "\n",
    "for n in DATA:\n",
    "    print 'add %3d:' % n\n",
    "    heapq.heappush(heap, n)\n",
    "    show_tree(heap)\n",
    "    \n",
    "    \n",
    "print 'From heapify:'\n",
    "print 'data: ', DATA\n",
    "data = copy.copy(DATA)\n",
    "heapq.heapify(data)\n",
    "print 'heapified: '\n",
    "show_tree(data)"
   ]
  },
  {
   "cell_type": "markdown",
   "metadata": {},
   "source": [
    "堆元素也可以是一个元组，从而可实现类似任务优先级的功能："
   ]
  },
  {
   "cell_type": "code",
   "execution_count": 11,
   "metadata": {},
   "outputs": [
    {
     "name": "stdout",
     "output_type": "stream",
     "text": [
      "top priority task: (1, 'write spec')\n"
     ]
    }
   ],
   "source": [
    "import heapq\n",
    "\n",
    "h = []\n",
    "heapq.heappush(h, (5, 'write code'))\n",
    "heapq.heappush(h, (7, 'release product'))\n",
    "heapq.heappush(h, (1, 'write spec'))\n",
    "heapq.heappush(h, (3, 'create tests'))\n",
    "\n",
    "print 'top priority task:', heapq.heappop(h)"
   ]
  },
  {
   "cell_type": "markdown",
   "metadata": {},
   "source": [
    "# 访问堆内容\n",
    "\n",
    "一旦堆组织好后，可用 *heappop* 移除并返回最小值的元素。"
   ]
  },
  {
   "cell_type": "code",
   "execution_count": 8,
   "metadata": {},
   "outputs": [
    {
     "name": "stdout",
     "output_type": "stream",
     "text": [
      "data:  [19, 9, 4, 10, 11]\n",
      "heapified:\n",
      "\n",
      "                 4                  \n",
      "        9                 19        \n",
      "    10       11   \n",
      "------------------------------------\n",
      "\n",
      "\n",
      "pop   4:\n",
      "\n",
      "                 9                  \n",
      "        10                19        \n",
      "    11   \n",
      "------------------------------------\n",
      "\n",
      "pop   9:\n",
      "\n",
      "                 10                 \n",
      "        11                19        \n",
      "------------------------------------\n",
      "\n"
     ]
    }
   ],
   "source": [
    "import heapq\n",
    "import copy\n",
    "\n",
    "data = copy.copy(DATA)\n",
    "print 'data: ', data\n",
    "heapq.heapify(data)\n",
    "print 'heapified:'\n",
    "show_tree(data)\n",
    "print\n",
    "\n",
    "for i in xrange(2):\n",
    "    smallest = heapq.heappop(data)\n",
    "    print 'pop %3d:' % smallest\n",
    "    show_tree(data)"
   ]
  },
  {
   "cell_type": "markdown",
   "metadata": {},
   "source": [
    "*heapreplace()* 实现移除并返回最小值元素，并插入一个新元素。"
   ]
  },
  {
   "cell_type": "code",
   "execution_count": 9,
   "metadata": {},
   "outputs": [
    {
     "name": "stdout",
     "output_type": "stream",
     "text": [
      "start:\n",
      "\n",
      "                 4                  \n",
      "        9                 19        \n",
      "    10       11   \n",
      "------------------------------------\n",
      "\n",
      "replace  4 with  0:\n",
      "\n",
      "                 0                  \n",
      "        9                 19        \n",
      "    10       11   \n",
      "------------------------------------\n",
      "\n",
      "replace  0 with 13:\n",
      "\n",
      "                 9                  \n",
      "        10                19        \n",
      "    13       11   \n",
      "------------------------------------\n",
      "\n"
     ]
    }
   ],
   "source": [
    "import heapq\n",
    "import copy\n",
    "\n",
    "data = copy.copy(DATA)\n",
    "heapq.heapify(data)\n",
    "print 'start:'\n",
    "show_tree(data)\n",
    "\n",
    "for n in [0, 13]:\n",
    "    smallest = heapq.heapreplace(data, n)\n",
    "    print 'replace %2d with %2d:' % (smallest, n)\n",
    "    show_tree(data)"
   ]
  },
  {
   "cell_type": "markdown",
   "metadata": {},
   "source": [
    "# 从列表中获取最大或最小值\n",
    "\n",
    "*heapq* 中的 *nlargest()* 和 *nsmallest()* 函数返回列表（不需要事先堆化）的 n 个最大值或最小值。它们仅当 n 值相对较小时才效率高。"
   ]
  },
  {
   "cell_type": "code",
   "execution_count": 10,
   "metadata": {},
   "outputs": [
    {
     "name": "stdout",
     "output_type": "stream",
     "text": [
      "all: [19, 9, 4, 10, 11]\n",
      "3 largest: [19, 11, 10]\n",
      "from sort: [19, 11, 10]\n",
      "3 smallest: [4, 9, 10]\n",
      "from sort: [4, 9, 10]\n"
     ]
    }
   ],
   "source": [
    "import heapq\n",
    "import copy\n",
    "\n",
    "data = copy.copy(DATA)\n",
    "\n",
    "print 'all:', data\n",
    "print '3 largest:', heapq.nlargest(3, data)\n",
    "print 'from sort:', list(reversed(sorted(data)[-3:]))\n",
    "print '3 smallest:', heapq.nsmallest(3, data)\n",
    "print 'from sort:', sorted(data)[:3]"
   ]
  },
  {
   "cell_type": "markdown",
   "metadata": {},
   "source": [
    "# 更多资源\n",
    "\n",
    "+ [heapq](https://docs.python.org/2.7/library/heapq.html?highlight=heapq#module-heapq) The standard library documentation for this module.\n",
    "+ [Heap (data structure)](http://en.wikipedia.org/wiki/Heap_(data_structure)) Wikipedia article that provides a general description of heap data structures."
   ]
  }
 ],
 "metadata": {
  "kernelspec": {
   "display_name": "Python 2",
   "language": "python",
   "name": "python2"
  },
  "language_info": {
   "codemirror_mode": {
    "name": "ipython",
    "version": 2
   },
   "file_extension": ".py",
   "mimetype": "text/x-python",
   "name": "python",
   "nbconvert_exporter": "python",
   "pygments_lexer": "ipython2",
   "version": "2.7.12"
  }
 },
 "nbformat": 4,
 "nbformat_minor": 2
}
