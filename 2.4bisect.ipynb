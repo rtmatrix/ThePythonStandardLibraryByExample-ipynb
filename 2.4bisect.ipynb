{
 "cells": [
  {
   "cell_type": "markdown",
   "metadata": {},
   "source": [
    "# Python 2 标准库示例：2.4 bisect-使列表保持有序\n",
    "\n",
    "\n",
    "**目的**: 维护列表的有序性，从而无需在每次添加新元素时调用排序操作。\n",
    "\n",
    "**Python 版本**: 1.4+\n",
    "\n",
    "*bisect* 模块实现了基本的二分查询算法 (bisection)。在大数据情况下，使用它来构建一个有序列表比先生成一个普通列表再进行排序效率高。\n",
    "\n",
    "# 插入元素 INsort in SORTed order\n",
    "\n",
    "*insort()* 使用二分法查询将元素插入列表中，从而维护列表的有序性。"
   ]
  },
  {
   "cell_type": "code",
   "execution_count": 1,
   "metadata": {},
   "outputs": [
    {
     "name": "stdout",
     "output_type": "stream",
     "text": [
      "New Pos Contents\n",
      "--- --- --------\n",
      " 14   0 [14]\n",
      " 85   1 [14, 85]\n",
      " 77   1 [14, 77, 85]\n",
      " 26   1 [14, 26, 77, 85]\n",
      " 50   2 [14, 26, 50, 77, 85]\n",
      " 45   2 [14, 26, 45, 50, 77, 85]\n",
      " 66   4 [14, 26, 45, 50, 66, 77, 85]\n",
      " 79   6 [14, 26, 45, 50, 66, 77, 79, 85]\n",
      " 10   0 [10, 14, 26, 45, 50, 66, 77, 79, 85]\n",
      "  3   0 [3, 10, 14, 26, 45, 50, 66, 77, 79, 85]\n",
      " 84   9 [3, 10, 14, 26, 45, 50, 66, 77, 79, 84, 85]\n",
      " 44   4 [3, 10, 14, 26, 44, 45, 50, 66, 77, 79, 84, 85]\n",
      " 77   9 [3, 10, 14, 26, 44, 45, 50, 66, 77, 77, 79, 84, 85]\n",
      "  1   0 [1, 3, 10, 14, 26, 44, 45, 50, 66, 77, 77, 79, 84, 85]\n"
     ]
    }
   ],
   "source": [
    "import bisect\n",
    "import random\n",
    "\n",
    "# Use a constant seed to ensure that\n",
    "# the same pseudo-random numbers\n",
    "# are used each time the loop is run.\n",
    "random.seed(1)\n",
    "\n",
    "print 'New Pos Contents'\n",
    "print '--- --- --------'\n",
    "\n",
    "# Generate random numbers and\n",
    "# insert them into a list in sorted order\n",
    "l = []\n",
    "for i in range(1, 15):\n",
    "    r = random.randint(1, 100)\n",
    "    pos = bisect.bisect(l, r)\n",
    "    bisect.insort(l, r)\n",
    "    print '%3d %3d' % (r, pos), l"
   ]
  },
  {
   "cell_type": "markdown",
   "metadata": {},
   "source": [
    "# 处理重复数据\n",
    "\n",
    "*bisect* 模块对于重复数据有 2 种处理方法。*insort()* （是 *insort_right()* 的别名) 插入到现有值的右边，而 *insort_left()* 插入到现有值的左边。"
   ]
  },
  {
   "cell_type": "code",
   "execution_count": 2,
   "metadata": {
    "scrolled": true
   },
   "outputs": [
    {
     "name": "stdout",
     "output_type": "stream",
     "text": [
      "New Pos Contents\n",
      "--- --- --------\n",
      " 14   0 [14]\n",
      " 85   1 [14, 85]\n",
      " 77   1 [14, 77, 85]\n",
      " 26   1 [14, 26, 77, 85]\n",
      " 50   2 [14, 26, 50, 77, 85]\n",
      " 45   2 [14, 26, 45, 50, 77, 85]\n",
      " 66   4 [14, 26, 45, 50, 66, 77, 85]\n",
      " 79   6 [14, 26, 45, 50, 66, 77, 79, 85]\n",
      " 10   0 [10, 14, 26, 45, 50, 66, 77, 79, 85]\n",
      "  3   0 [3, 10, 14, 26, 45, 50, 66, 77, 79, 85]\n",
      " 84   9 [3, 10, 14, 26, 45, 50, 66, 77, 79, 84, 85]\n",
      " 44   4 [3, 10, 14, 26, 44, 45, 50, 66, 77, 79, 84, 85]\n",
      " 77   8 [3, 10, 14, 26, 44, 45, 50, 66, 77, 77, 79, 84, 85]\n",
      "  1   0 [1, 3, 10, 14, 26, 44, 45, 50, 66, 77, 77, 79, 84, 85]\n"
     ]
    }
   ],
   "source": [
    "import bisect\n",
    "import random\n",
    "\n",
    "random.seed(1)\n",
    "\n",
    "print 'New Pos Contents'\n",
    "print '--- --- --------'\n",
    "\n",
    "# Use bisect_left and insort_left.\n",
    "l = []\n",
    "for i in range(1, 15):\n",
    "    r = random.randint(1, 100)\n",
    "    pos = bisect.bisect_left(l, r)\n",
    "    bisect.insort_left(l, r)\n",
    "    print '%3d %3d' % (r, pos), l"
   ]
  },
  {
   "cell_type": "markdown",
   "metadata": {},
   "source": [
    "# 用于查询\n",
    "\n",
    "模块中提供的函数适用于构建一个有序列表，或者进行元素插入操作。但是不太适合进行查询操作。\n",
    "\n",
    "下面的几个函数基于 *bisect* 模块中的现有函数，方便了查询操作。"
   ]
  },
  {
   "cell_type": "code",
   "execution_count": 3,
   "metadata": {
    "collapsed": true
   },
   "outputs": [],
   "source": [
    "import bisect\n",
    "\n",
    "def index(a, x):\n",
    "    'Locate the leftmost value exactly equaly to x'\n",
    "    i = bisect.bisect_left(a, x)\n",
    "    if i != len(a) and a[i] == x:\n",
    "        return i\n",
    "    raise ValueError\n",
    "\n",
    "def find_lt(a, x):\n",
    "    'Find rightmost value less than x'\n",
    "    i = bisect.bisect_left(a, x)\n",
    "    if i:\n",
    "        return a[i-1]\n",
    "    raise ValueError\n",
    "    \n",
    "def find_le(a, x):\n",
    "    'Find rightmost value less than or equal to x'\n",
    "    i = bisect.bisect_right(a, x)\n",
    "    if i:\n",
    "        return a[i-1]\n",
    "    raise ValueError\n",
    "    \n",
    "def find_gt(a, x):\n",
    "    'Find leftmost value greater than x'\n",
    "    i = bisect.bisect_right(a, x)\n",
    "    if i != len(a):\n",
    "        return a[i]\n",
    "    raise ValueError\n",
    "    \n",
    "def find_ge(a, x):\n",
    "    'Find leftmost item greater than or equal to x'\n",
    "    i = bisect.bisect_left(a, x)\n",
    "    if i != len(a):\n",
    "        return a[i]\n",
    "    raise ValueError"
   ]
  },
  {
   "cell_type": "markdown",
   "metadata": {},
   "source": [
    "# 更多资源\n",
    "\n",
    "+ [bisect](https://docs.python.org/2.7/library/bisect.html?highlight=bisect#module-bisect) The standard library documentation for this module.\n",
    "+ [Insertion Sort](http://en.wikipedia.org/wiki/Insertion_sort) Wikipedia article that provides a description of the insertion sort algorithm."
   ]
  }
 ],
 "metadata": {
  "kernelspec": {
   "display_name": "Python 2",
   "language": "python",
   "name": "python2"
  },
  "language_info": {
   "codemirror_mode": {
    "name": "ipython",
    "version": 2
   },
   "file_extension": ".py",
   "mimetype": "text/x-python",
   "name": "python",
   "nbconvert_exporter": "python",
   "pygments_lexer": "ipython2",
   "version": "2.7.12"
  }
 },
 "nbformat": 4,
 "nbformat_minor": 2
}
