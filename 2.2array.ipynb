{
 "cells": [
  {
   "cell_type": "markdown",
   "metadata": {},
   "source": [
    "# Python 2 标准库示例：2.2 array-固定类型的序列\n",
    "\n",
    "\n",
    "**目的**: 高效管理固定类型的数字型数据。\n",
    "\n",
    "**Python 版本**: 1.4+\n",
    "\n",
    "*array* 模块中定义了一个类似于 *list* 的序列数据结构，但是它包含的所有成员类型都必须是相同的，且是基本类型，即值为字符值、整数值或浮点数值等。\n",
    "\n",
    "存储的成员类型在创建 *array* 实例时就需通过 *type code* 指定。支持的 *type code* 及对应的类型如下：\n",
    "\n",
    "Type code | C 类型             | Python 类型  | 最少字节数 | 备注\n",
    "----------|\n",
    "'c'       | char               | character    | 1          |\n",
    "'b'       | signed char        | int          | 1          |\n",
    "'B'       | unsigned char      | int          | 1          |\n",
    "'u'       | PY_UNICODE         | Unicode char | 2          | 即 wchar_t，Py 3.3 中已过时，将在 Py4.0 中删除\n",
    "'h'       | signed short       | int          | 2          |\n",
    "'H'       | unsigned short     | int          | 2          |\n",
    "'i'       | signed int         | int          | 2          |\n",
    "'I'       | unsigned int       | int          | 2          |\n",
    "'l'       | signed long        | int          | 4          |\n",
    "'L'       | unsigned long      | int          | 4          |\n",
    "'f'       | float              | float        | 4          |\n",
    "'d'       | double             | float        | 8          |\n",
    "\n",
    "\n",
    "成员值的具体表示形式由低层的 C 语言实现决定，实际表示的字节个数可通过 *itemsize* 属性获得。\n",
    "\n",
    "\n",
    "# 初始化\n",
    "\n",
    "第一个参数通过 *type code* 指定存储的类型，第二个参数可选，是一个可迭代的初始序列。"
   ]
  },
  {
   "cell_type": "code",
   "execution_count": 1,
   "metadata": {},
   "outputs": [
    {
     "name": "stdout",
     "output_type": "stream",
     "text": [
      "As string: This is the array.\n",
      "As array: array('c', 'This is the array.')\n",
      "As hex: 54686973206973207468652061727261792e\n"
     ]
    }
   ],
   "source": [
    "import array\n",
    "import binascii\n",
    "\n",
    "s = 'This is the array.'\n",
    "a = array.array('c', s)\n",
    "\n",
    "print 'As string:', s\n",
    "print 'As array:', a\n",
    "print 'As hex:', binascii.hexlify(a)"
   ]
  },
  {
   "cell_type": "markdown",
   "metadata": {},
   "source": [
    "# 对 array 的操作\n",
    "\n",
    "操作和普通 Python list 类似。"
   ]
  },
  {
   "cell_type": "code",
   "execution_count": 2,
   "metadata": {},
   "outputs": [
    {
     "name": "stdout",
     "output_type": "stream",
     "text": [
      "Initial:  array('i', [0, 1, 2])\n",
      "Extended: array('i', [0, 1, 2, 0, 1, 2])\n",
      "slice: array('i', [2, 0, 1])\n",
      "Iterator:\n",
      "[(0, 0), (1, 1), (2, 2), (3, 0), (4, 1), (5, 2)]\n"
     ]
    }
   ],
   "source": [
    "import array\n",
    "import pprint\n",
    "\n",
    "a = array.array('i', xrange(3))\n",
    "print 'Initial: ', a\n",
    "\n",
    "a.extend(xrange(3))\n",
    "print 'Extended:', a\n",
    "\n",
    "print 'slice:', a[2:5]\n",
    "\n",
    "print 'Iterator:'\n",
    "print list(enumerate(a))"
   ]
  },
  {
   "cell_type": "markdown",
   "metadata": {},
   "source": [
    "# 与文件的操作\n",
    "\n",
    "*array* 的内容可通过内置方法写入到文件中，或从文件中读出。\n",
    "\n",
    "下列中先将 *array* 内容写入到文件中，再根据读出的文件内容构建新的 *array*。"
   ]
  },
  {
   "cell_type": "code",
   "execution_count": 4,
   "metadata": {},
   "outputs": [
    {
     "name": "stdout",
     "output_type": "stream",
     "text": [
      "A1: array('i', [0, 1, 2, 3, 4])\n",
      "Raw Contents: 0000000001000000020000000300000004000000\n",
      "A2: array('i', [0, 1, 2, 3, 4])\n"
     ]
    }
   ],
   "source": [
    "import array\n",
    "import binascii\n",
    "import tempfile\n",
    "\n",
    "a = array.array('i', xrange(5))\n",
    "print 'A1:', a\n",
    "\n",
    "# Write the array of numbers to a temporary file\n",
    "output = tempfile.NamedTemporaryFile()\n",
    "a.tofile(output.file) # must pass an *actual* file object\n",
    "output.flush()\n",
    "\n",
    "# Read the raw data\n",
    "with open(output.name, 'rb') as input:\n",
    "    raw_data = input.read()\n",
    "    print 'Raw Contents:', binascii.hexlify(raw_data)\n",
    "    \n",
    "    # Read the data into a array\n",
    "    input.seek(0)\n",
    "    a2 = array.array('i')\n",
    "    a2.fromfile(input, len(a))\n",
    "    print 'A2:', a2"
   ]
  },
  {
   "cell_type": "markdown",
   "metadata": {},
   "source": [
    "# 切换字节序\n",
    "\n",
    "*array* 的 *byteswap()* 进行字节序切换，它用 C 语言实现。"
   ]
  },
  {
   "cell_type": "code",
   "execution_count": 6,
   "metadata": {},
   "outputs": [
    {
     "name": "stdout",
     "output_type": "stream",
     "text": [
      "    A1 hex         A1     A2 hex         A2\n",
      "---------- ---------- ---------- ----------\n",
      "  00000000          0   00000000          0\n",
      "  01000000          1   00000001   16777216\n",
      "  02000000          2   00000002   33554432\n",
      "  03000000          3   00000003   50331648\n",
      "  04000000          4   00000004   67108864\n"
     ]
    }
   ],
   "source": [
    "import array\n",
    "import binascii\n",
    "\n",
    "def to_hex(a):\n",
    "    chars_per_item = a.itemsize * 2 # 2 hex digits\n",
    "    hex_version = binascii.hexlify(a)\n",
    "    num_chunks = len(hex_version) / chars_per_item\n",
    "    for i in xrange(num_chunks):\n",
    "        start = i*chars_per_item\n",
    "        end = start + chars_per_item\n",
    "        yield hex_version[start:end]\n",
    "        \n",
    "a1 = array.array('i', xrange(5))\n",
    "a2 = array.array('i', xrange(5))\n",
    "a2.byteswap()\n",
    "\n",
    "fmt = '%10s %10s %10s %10s'\n",
    "print fmt % ('A1 hex', 'A1', 'A2 hex', 'A2')\n",
    "print fmt % (('-'*10, ) * 4)\n",
    "for values in zip(to_hex(a1), a1, to_hex(a2), a2): # zip(seq1, seq2,..) -> [(seq1[0], seq2[0],..), (seq1[1], seq2[1],..),..]\n",
    "    print fmt % values"
   ]
  },
  {
   "cell_type": "markdown",
   "metadata": {},
   "source": [
    "# 更多资源\n",
    "\n",
    "+ array(https://docs.python.org/2.7/library/array.html?highlight=array#module-array) The standard library documentation for this module.\n",
    "+ [Numerical Python](www.scipy.org) NumPy is a Python library for working with large\n",
    "data sets efficiently."
   ]
  }
 ],
 "metadata": {
  "kernelspec": {
   "display_name": "Python 2",
   "language": "python",
   "name": "python2"
  },
  "language_info": {
   "codemirror_mode": {
    "name": "ipython",
    "version": 2
   },
   "file_extension": ".py",
   "mimetype": "text/x-python",
   "name": "python",
   "nbconvert_exporter": "python",
   "pygments_lexer": "ipython2",
   "version": "2.7.12"
  }
 },
 "nbformat": 4,
 "nbformat_minor": 2
}
