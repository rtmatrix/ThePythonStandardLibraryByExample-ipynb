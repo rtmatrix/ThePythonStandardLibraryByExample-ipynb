{
 "cells": [
  {
   "cell_type": "markdown",
   "metadata": {},
   "source": [
    "# Python 2 标准库示例：2.2 array-固定类型的序列\n",
    "\n",
    "data: 2017-05-25 22:22\n",
    "\n",
    "**目的**: 高效管理固定类型的数字型数据。\n",
    "\n",
    "**Python 版本**: 1.4+\n",
    "\n",
    "*array* 模块中定义了一个类似于 *list* 的序列数据结构，但是它包含的所有成员类型都必须是相同的，且是基本类型。\n",
    "\n",
    "## 填充段落\n",
    "\n",
    "*fill()* 函数以一个文本段作为一个输入，输出一个格式化文本段。"
   ]
  }
 ],
 "metadata": {
  "kernelspec": {
   "display_name": "Python 2",
   "language": "python",
   "name": "python2"
  },
  "language_info": {
   "codemirror_mode": {
    "name": "ipython",
    "version": 2
   },
   "file_extension": ".py",
   "mimetype": "text/x-python",
   "name": "python",
   "nbconvert_exporter": "python",
   "pygments_lexer": "ipython2",
   "version": "2.7.12"
  }
 },
 "nbformat": 4,
 "nbformat_minor": 2
}
