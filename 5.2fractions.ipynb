{
 "cells": [
  {
   "cell_type": "markdown",
   "metadata": {},
   "source": [
    "# Python 2 标准库示例：5.2 fractions-有理数\n",
    "\n",
    "\n",
    "**目的**: 实现有理数。\n",
    "\n",
    "**Python 版本**: 2.6+。\n",
    "\n",
    "*Fraction* 类实现了由 *numbers.Rational* 模块中定义的有理数运算 API.\n",
    "\n",
    "## 创建 Fraction 实例\n",
    "\n",
    "实例化后，Fraction 实例都将数规整化成分子(numerator) 和分母(denominator) 两个整数。"
   ]
  },
  {
   "cell_type": "code",
   "execution_count": 8,
   "metadata": {},
   "outputs": [
    {
     "name": "stdout",
     "output_type": "stream",
     "text": [
      "from (numerator, denominator):\n",
      "1/2 = 1/2\n",
      "2/4 = 1/2\n",
      "3/6 = 1/2\n",
      "\n",
      "from string \"X/Y\":\n",
      "1/2 = 1/2\n",
      "  2/4  = 1/2\n",
      "-3/6 = -1/2\n",
      "\n",
      "from string \"X.Y\":\n",
      "0.5 = 1/2\n",
      "1.5 = 3/2\n",
      "2.0 = 2\n",
      "\n",
      "from float:\n",
      "0.5 = 1/2\n",
      "1.5 = 3/2\n",
      "2.0 = 2\n",
      "\n",
      "from float 0.1:\n",
      "0.1 = 3602879701896397/36028797018963968\n",
      "\n",
      "from decimal:\n",
      "0.1 = 1/10\n",
      "0.5 = 1/2\n",
      "1.5 = 3/2\n",
      "2.0 = 2\n"
     ]
    }
   ],
   "source": [
    "import fractions\n",
    "import decimal\n",
    "\n",
    "# 1. 通过指定分子(numerator) 和分母(denominator) 来实例化\n",
    "print 'from (numerator, denominator):'\n",
    "for n, d in [(1, 2), (2, 4), (3, 6)]:\n",
    "    f = fractions.Fraction(n, d)\n",
    "    print '%s/%s = %s' %(n, d, f)\n",
    "    \n",
    "print\n",
    "print 'from string \"X/Y\":'\n",
    "# 2. 以分数字符串的形式指定\n",
    "for s in ['1/2', '  2/4 ', '-3/6']:\n",
    "    f = fractions.Fraction(s)\n",
    "    print '%s = %s' % (s, f)\n",
    "    \n",
    "print\n",
    "print 'from string \"X.Y\":'\n",
    "# 3. 字符串还可以小数的形式指定\n",
    "for s in ['0.5', '1.5', '2.0']:\n",
    "    f = fractions.Fraction(s)\n",
    "    print '%s = %s' % (s, f)\n",
    "    \n",
    "print\n",
    "print 'from float:'\n",
    "# 4. 以浮点数指定(v2.7+), v2.7 之前要用 Fraction.from_float() 实现\n",
    "for v in [0.5, 1.5, 2.0]:\n",
    "    f = fractions.Fraction(v)\n",
    "    print '%s = %s' % (v, f)\n",
    "\n",
    "# 有些 float 无法精确转换成 Fraction， 会出现未期望的结果\n",
    "print\n",
    "print 'from float 0.1:'\n",
    "# 4. 以浮点数指定(v2.7+), v2.7 之前要用 Fraction.from_float() 实现\n",
    "v = 0.1\n",
    "f = fractions.Fraction(v)\n",
    "print '%s = %s' % (v, f)\n",
    "\n",
    "print\n",
    "print 'from decimal:'\n",
    "# 5. 以 Decimal 指定(v2.7+), v2.7 之前要用 Fraction.from_decimal() 实现,\n",
    "#  和 float 的情况不同，Decimal 没有浮点数的精度问题\n",
    "for v in [decimal.Decimal('0.1'),\n",
    "          decimal.Decimal('0.5'),\n",
    "          decimal.Decimal('1.5'),\n",
    "          decimal.Decimal('2.0')]:\n",
    "    f = fractions.Fraction(v)\n",
    "    print '%s = %s' % (v, f)"
   ]
  },
  {
   "cell_type": "markdown",
   "metadata": {},
   "source": [
    "## 运算\n",
    "\n",
    "Fraction 实例可以在任何的数学表达式中使用。"
   ]
  },
  {
   "cell_type": "code",
   "execution_count": 9,
   "metadata": {},
   "outputs": [
    {
     "name": "stdout",
     "output_type": "stream",
     "text": [
      "1/2 + 3/4 = 5/4\n",
      "1/2 - 3/4 = -1/4\n",
      "1/2 * 3/4 = 3/8\n",
      "1/2 / 3/4 = 2/3\n"
     ]
    }
   ],
   "source": [
    "import fractions\n",
    "\n",
    "f1 = fractions.Fraction(1, 2)\n",
    "f2 = fractions.Fraction(3, 4)\n",
    "\n",
    "print '%s + %s = %s' % (f1, f2, f1+f2)\n",
    "print '%s - %s = %s' % (f1, f2, f1-f2)\n",
    "print '%s * %s = %s' % (f1, f2, f1*f2)\n",
    "print '%s / %s = %s' % (f1, f2, f1/f2)"
   ]
  },
  {
   "cell_type": "markdown",
   "metadata": {},
   "source": [
    "## 近似值\n",
    "\n",
    "可利用 Fraction 将一个浮点数转换到一个最接近的有理数值。"
   ]
  },
  {
   "cell_type": "code",
   "execution_count": 10,
   "metadata": {},
   "outputs": [
    {
     "name": "stdout",
     "output_type": "stream",
     "text": [
      "PI =  3.14159265359\n",
      "No limit =  314159265359/100000000000\n",
      "       1 = 3\n",
      "       6 = 19/6\n",
      "      11 = 22/7\n",
      "      60 = 179/57\n",
      "      70 = 201/64\n",
      "      90 = 267/85\n",
      "     100 = 311/99\n"
     ]
    }
   ],
   "source": [
    "import fractions\n",
    "import math\n",
    "\n",
    "print 'PI = ', math.pi\n",
    "f_pi = fractions.Fraction(str(math.pi))\n",
    "print 'No limit = ', f_pi\n",
    "\n",
    "for i in [1, 6, 11, 60, 70, 90, 100]:\n",
    "    limited = f_pi.limit_denominator(i) # 限制转换后的分母的最大值\n",
    "    print '{0:8} = {1}'.format(i, limited)"
   ]
  },
  {
   "cell_type": "markdown",
   "metadata": {},
   "source": [
    "## 找到最大公约数\n",
    "\n",
    "*fractions.gcd(a, b)* 可用来找到最大公约数。"
   ]
  },
  {
   "cell_type": "code",
   "execution_count": 13,
   "metadata": {},
   "outputs": [
    {
     "name": "stdout",
     "output_type": "stream",
     "text": [
      "gcd(15, 25) =  5\n",
      "gcd(15, -25) =  -5\n",
      "gcd(-15, 0) =  -15\n"
     ]
    }
   ],
   "source": [
    "import fractions\n",
    "\n",
    "# 非 0 时：\n",
    "print 'gcd(15, 25) = ', fractions.gcd(15, 25)\n",
    "\n",
    "# b 非 0 时结果取 b 的符号\n",
    "print 'gcd(15, -25) = ', fractions.gcd(15, -25)\n",
    "\n",
    "# b  0 时结果取 a 的符号\n",
    "print 'gcd(-15, 0) = ', fractions.gcd(-15, 0)"
   ]
  },
  {
   "cell_type": "markdown",
   "metadata": {},
   "source": [
    "# 更多资源\n",
    "\n",
    "+ [fractions](https://docs.python.org/2/library/decimal.html) The standard library documentation for this module.\n",
    "+ [numbers](https://docs.python.org/2/library/decimal.html) Numberic 抽象基类."
   ]
  }
 ],
 "metadata": {
  "kernelspec": {
   "display_name": "Python 2",
   "language": "python",
   "name": "python2"
  },
  "language_info": {
   "codemirror_mode": {
    "name": "ipython",
    "version": 2
   },
   "file_extension": ".py",
   "mimetype": "text/x-python",
   "name": "python",
   "nbconvert_exporter": "python",
   "pygments_lexer": "ipython2",
   "version": "2.7.12"
  }
 },
 "nbformat": 4,
 "nbformat_minor": 2
}
