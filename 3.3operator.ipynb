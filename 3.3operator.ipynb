{
 "cells": [
  {
   "cell_type": "markdown",
   "metadata": {},
   "source": [
    "# Python 2 标准库示例：3.3 operator-内置操作符的函数接口\n",
    "\n",
    "\n",
    "**目的**: 实现了内置操作符的函数接口。\n",
    "\n",
    "**Python 版本**: 1.4+。\n",
    "\n",
    "\n",
    "*operator* 模块定义了对应算术及比较等内置操作的相应函数，如 *operator.add(x,y)* 对应 *x+y* 等。函数名字即与类中对应的特殊方法名相同，如 *operator.__add__* 对应类中的 *__add__()* 方法，为方便起见，也提供了无下划线的版本，即 *operator.add* 和 *operator.__add__* 等同。\n",
    "\n",
    "\n",
    "# 逻辑操作\n",
    "\n",
    "布尔值操作的相关函数。"
   ]
  },
  {
   "cell_type": "code",
   "execution_count": 1,
   "metadata": {},
   "outputs": [
    {
     "name": "stdout",
     "output_type": "stream",
     "text": [
      "a= 1\n",
      "b= 5\n",
      "\n",
      "not_(a): False\n",
      "truth(a): True\n",
      "is_(a, b): False\n",
      "is_not(a, b): True\n"
     ]
    }
   ],
   "source": [
    "from operator import *\n",
    "\n",
    "a = 1\n",
    "b = 5\n",
    "\n",
    "print 'a=', a\n",
    "print 'b=', b\n",
    "print\n",
    "\n",
    "print 'not_(a):', not_(a)\n",
    "print 'truth(a):', truth(a)\n",
    "print 'is_(a, b):', is_(a, b)\n",
    "print 'is_not(a, b):', is_not(a, b)"
   ]
  },
  {
   "cell_type": "markdown",
   "metadata": {},
   "source": [
    "# 比较操作符\n",
    "\n",
    "支持所有的富比较操作符。"
   ]
  },
  {
   "cell_type": "code",
   "execution_count": 3,
   "metadata": {},
   "outputs": [
    {
     "name": "stdout",
     "output_type": "stream",
     "text": [
      "a= 1\n",
      "b= 5.0\n",
      "operator.lt(a, b): True\n",
      "operator.le(a, b): True\n",
      "operator.eq(a, b): False\n",
      "operator.ne(a, b): True\n",
      "operator.ge(a, b): False\n",
      "operator.gt(a, b): False\n"
     ]
    }
   ],
   "source": [
    "from operator import *\n",
    "\n",
    "a = 1\n",
    "b = 5.0\n",
    "\n",
    "print 'a=', a\n",
    "print 'b=', b\n",
    "for func in (lt, le, eq, ne, ge, gt):\n",
    "    print 'operator.%s(a, b):' % func.__name__, func(a, b)"
   ]
  },
  {
   "cell_type": "markdown",
   "metadata": {},
   "source": [
    "# 算术操作符"
   ]
  },
  {
   "cell_type": "code",
   "execution_count": 6,
   "metadata": {},
   "outputs": [
    {
     "name": "stdout",
     "output_type": "stream",
     "text": [
      "a= -1\n",
      "b= 5.0\n",
      "c= 2\n",
      "d= 6\n",
      "\n",
      "Positive/Negative:\n",
      "abs(a): 1\n",
      "neg(a): 1\n",
      "neg(b): -5.0\n",
      "pos(a): -1\n",
      "pos(b): 5.0\n",
      "\n",
      "Arithmetric:\n",
      "add(a, b): 4.0\n",
      "div(a, b): -0.2\n",
      "div(d, c): 3\n",
      "floordiv(a, b): -1.0\n",
      "floordiv(d, c): 3\n",
      "truediv(a, b): -0.2\n",
      "truediv(d, c): 3.0\n",
      "mod(a, b): 4.0\n",
      "mul(a, b): -5.0\n",
      "pow(c, d): 64\n",
      "sub(b, a): 6.0\n",
      "\n",
      "Bitwise:\n",
      "and_(c, d): 2\n",
      "invert(c): -3\n",
      "lshift(c, d): 128\n",
      "or_(c, d): 6\n",
      "rshift(d, c): 1\n",
      "xor(c, d): 4\n"
     ]
    }
   ],
   "source": [
    "from operator import *\n",
    "\n",
    "a = -1\n",
    "b = 5.0\n",
    "c = 2\n",
    "d = 6\n",
    "\n",
    "print 'a=', a\n",
    "print 'b=', b\n",
    "print 'c=', c\n",
    "print 'd=', d\n",
    "\n",
    "print '\\nPositive/Negative:'\n",
    "print 'abs(a):', abs(a)   # |a|\n",
    "print 'neg(a):', neg(a)   # -a\n",
    "print 'neg(b):', neg(b)  \n",
    "print 'pos(a):', pos(a)  # +a\n",
    "print 'pos(b):', pos(b)\n",
    "\n",
    "print '\\nArithmetric:'\n",
    "print 'add(a, b):', add(a, b)\n",
    "print 'div(a, b):', div(a, b)\n",
    "print 'div(d, c):', div(d, c)\n",
    "print 'floordiv(a, b):', floordiv(a, b)  # integer division, = a // b\n",
    "print 'floordiv(d, c):', floordiv(d, c)\n",
    "print 'truediv(a, b):', truediv(a, b)    # floating-point division\n",
    "print 'truediv(d, c):', truediv(d, c)\n",
    "print 'mod(a, b):', mod(a, b)\n",
    "print 'mul(a, b):', mul(a, b)\n",
    "print 'pow(c, d):', pow(c, d)\n",
    "print 'sub(b, a):', sub(b, a)\n",
    "\n",
    "print '\\nBitwise:'\n",
    "print 'and_(c, d):', and_(c, d)\n",
    "print 'invert(c):', invert(c)\n",
    "print 'lshift(c, d):', lshift(c, d)\n",
    "print 'or_(c, d):', or_(c, d)\n",
    "print 'rshift(d, c):', rshift(d, c)\n",
    "print 'xor(c, d):', xor(c, d)\n"
   ]
  },
  {
   "cell_type": "markdown",
   "metadata": {},
   "source": [
    "# 序列操作符\n",
    "\n",
    "用于序列的操作符分为 4 组：构建序列的、查询元素的、存取内容的、删除元素的。"
   ]
  },
  {
   "cell_type": "code",
   "execution_count": 16,
   "metadata": {},
   "outputs": [
    {
     "name": "stdout",
     "output_type": "stream",
     "text": [
      "a= [1, 2, 3]\n",
      "b= ['a', 'b', 'c']\n",
      "\n",
      "Constructive:\n",
      " concat(a, b): [1, 2, 3, 'a', 'b', 'c']\n",
      " mul(a, 3): [1, 2, 3, 1, 2, 3, 1, 2, 3]\n",
      "\n",
      "Searching:\n",
      " contains(a, 1): True\n",
      " contains(b, \"d\"): False\n",
      " countOf(a, 1): 1\n",
      " countOf(b, \"d\"): 0\n",
      " indexOf(a, 5): 0\n",
      "\n",
      "Access Items:\n",
      " getitem(b, 1): b\n",
      " getslice(a, 1, 3): [2, 3]\n",
      " setitem(b, 1, \"d\"): None , after b= ['a', 'd', 'c']\n",
      " setslice(a, 1, 3, [4, 5]): None , after a= [1, 4, 5]\n",
      "\n",
      "Destructive:\n",
      " delitem(b, 1): None , after b= ['a', 'c']\n",
      " delslice(a, 1, 3): None , after a= [1]\n"
     ]
    }
   ],
   "source": [
    "from operator import *\n",
    "\n",
    "a = [1, 2, 3]\n",
    "b = ['a', 'b', 'c']\n",
    "\n",
    "print 'a=', a\n",
    "print 'b=', b\n",
    "\n",
    "print '\\nConstructive:'\n",
    "print ' concat(a, b):', concat(a, b)\n",
    "print ' mul(a, 3):', mul(a, 3)\n",
    "\n",
    "print '\\nSearching:'\n",
    "print ' contains(a, 1):', contains(a, 1)\n",
    "print ' contains(b, \"d\"):', contains(b, \"d\")\n",
    "print ' countOf(a, 1):', countOf(a, 1)\n",
    "print ' countOf(b, \"d\"):', countOf(b, \"d\")\n",
    "print ' indexOf(a, 5):', indexOf(a, 1)\n",
    "\n",
    "print '\\nAccess Items:'\n",
    "print ' getitem(b, 1):', getitem(b, 1)\n",
    "print ' getslice(a, 1, 3):', getslice(a, 1, 3)\n",
    "print ' setitem(b, 1, \"d\"):', setitem(b, 1, \"d\"),\n",
    "print ', after b=', b\n",
    "print ' setslice(a, 1, 3, [4, 5]):', setslice(a, 1, 3, [4, 5]),\n",
    "print ', after a=', a\n",
    "\n",
    "print '\\nDestructive:'\n",
    "print ' delitem(b, 1):', delitem(b, 1), \n",
    "print ', after b=', b\n",
    "print ' delslice(a, 1, 3):', delslice(a, 1, 3),\n",
    "print ', after a=', a"
   ]
  },
  {
   "cell_type": "markdown",
   "metadata": {},
   "source": [
    "上例中，*delslice(a, b, c)* 已在 Python 2.6 中过时，会在 Python 3 中删除，可用 *delitem(a, slice_index)* 实现。*getslice(a, b, c)* 也已在 Python 2.6 中过时，会在 Python 3 中删除，可用 *getitem(a, slice_index)* 实现。"
   ]
  },
  {
   "cell_type": "markdown",
   "metadata": {},
   "source": [
    "# in-place 操作符\n",
    "\n",
    "`+=` 等 in-place 操作符。"
   ]
  },
  {
   "cell_type": "code",
   "execution_count": 9,
   "metadata": {},
   "outputs": [
    {
     "name": "stdout",
     "output_type": "stream",
     "text": [
      "a= -1\n",
      "b= 5.0\n",
      "c= [1, 2, 3]\n",
      "d= ['a', 'b', 'c']\n",
      "\n",
      "a=iadd(a, b)=> 4.0\n",
      "\n",
      "c=iconcat(c, d)=> [1, 2, 3, 'a', 'b', 'c']\n"
     ]
    }
   ],
   "source": [
    "from operator import *\n",
    "\n",
    "a = -1\n",
    "b = 5.0\n",
    "c = [1, 2, 3]\n",
    "d = ['a', 'b', 'c']\n",
    "print 'a=', a\n",
    "print 'b=', b\n",
    "print 'c=', c\n",
    "print 'd=', d\n",
    "print\n",
    "\n",
    "a = iadd(a, b)\n",
    "print 'a=iadd(a, b)=>', a\n",
    "print\n",
    "\n",
    "c = iconcat(c, d)\n",
    "print 'c=iconcat(c, d)=>', c"
   ]
  },
  {
   "cell_type": "markdown",
   "metadata": {},
   "source": [
    "# 属性及元素的 \"Getters\"\n",
    "\n",
    "*operator* 模块中的 *getter* 都是可调用对象，它们在运行时构建，用于获取对象的属性或序列的元素。*getter* 和 *iterator* 或 *generator* 序列一起使用时很有用，例如用于 *map()*, *sorted()*, *itertools.groupby()* 等中用来获取参数的数据项。"
   ]
  },
  {
   "cell_type": "code",
   "execution_count": 10,
   "metadata": {},
   "outputs": [
    {
     "name": "stdout",
     "output_type": "stream",
     "text": [
      "Objects: [MyObj(0), MyObj(1), MyObj(2), MyObj(3), MyObj(4)]\n",
      "arg values: [0, 1, 2, 3, 4]\n",
      "reversed: [MyObj(4), MyObj(3), MyObj(2), MyObj(1), MyObj(0)]\n",
      "sorted: [MyObj(0), MyObj(1), MyObj(2), MyObj(3), MyObj(4)]\n"
     ]
    }
   ],
   "source": [
    "from operator import *\n",
    "\n",
    "class MyObj(object):\n",
    "    \"\"\"example class for attrgetter\"\"\"\n",
    "    def __init__(self, arg):\n",
    "        super(MyObj, self).__init__()\n",
    "        self.arg = arg\n",
    "        \n",
    "    def __repr__(self):\n",
    "        return 'MyObj(%s)' % self.arg\n",
    "    \n",
    "l = [MyObj(i) for i in xrange(5)]\n",
    "print 'Objects:', l\n",
    "\n",
    "# Extract the 'arg' value from each object\n",
    "g = attrgetter('arg')\n",
    "vals = [g(i) for i in l]\n",
    "print 'arg values:', vals\n",
    "\n",
    "# Sort using arg\n",
    "l.reverse()\n",
    "print 'reversed:', l\n",
    "print 'sorted:', sorted(l, key=g)"
   ]
  },
  {
   "cell_type": "markdown",
   "metadata": {},
   "source": [
    "上例中，*attrgetter* 等价为 *lambda o, a='attrname': getattr(o, a)*。\n",
    "\n",
    "而 *itemgetter* 可用于获取列表或序列的元素，等价于 *lambda o, i: o.\\_\\_getitem\\_\\_(i)*，如下例所示。"
   ]
  },
  {
   "cell_type": "code",
   "execution_count": 12,
   "metadata": {},
   "outputs": [
    {
     "name": "stdout",
     "output_type": "stream",
     "text": [
      "Dictionaries: [{'val': 0}, {'val': -1}, {'val': -2}, {'val': -3}]\n",
      " values: [0, -1, -2, -3]\n",
      " sorted: [{'val': -3}, {'val': -2}, {'val': -1}, {'val': 0}]\n",
      "\n",
      "Tuples: [(0, 0), (1, -1), (2, -2), (3, -3)]\n",
      " values: [0, -1, -2, -3]\n",
      " sorted: [(3, -3), (2, -2), (1, -1), (0, 0)]\n"
     ]
    }
   ],
   "source": [
    "from operator import *\n",
    "l= [dict(val=-1*i) for i in xrange(4)]\n",
    "print 'Dictionaries:', l\n",
    "g = itemgetter('val')\n",
    "vals = [g(i) for i in l]\n",
    "print ' values:', vals\n",
    "print ' sorted:', sorted(l, key=g)\n",
    "print\n",
    "l = [(i, i*-1) for i in xrange(4)]\n",
    "print 'Tuples:', l\n",
    "g = itemgetter(1)\n",
    "vals = [g(i) for i in l]\n",
    "print ' values:', vals\n",
    "print ' sorted:', sorted(l, key=g)"
   ]
  },
  {
   "cell_type": "markdown",
   "metadata": {},
   "source": [
    "*operator.methodcaller(method_name, [,args...])* 返回的函数，调用时会调用其操作数上的相应函数。\n",
    "\n",
    "+ `f=methodcaller('method_name')` 后，调用 `f(b)` 返回 `b.method_name()`"
   ]
  },
  {
   "cell_type": "markdown",
   "metadata": {},
   "source": [
    "# 自定义类与 operator 模块\n",
    "\n",
    "*operator* 模块是基于标准的 Python 接口实现的，因此，只要自定义类实现了相应的 `__name__` 型操作方法，即可与该模块兼容。"
   ]
  },
  {
   "cell_type": "code",
   "execution_count": 13,
   "metadata": {},
   "outputs": [
    {
     "name": "stdout",
     "output_type": "stream",
     "text": [
      "Comparison:\n",
      "Testing MyObj(1) < MyObj(2)\n",
      "True\n",
      "\n",
      "Arithmetic:\n",
      "Adding MyObj(1) + MyObj(2)\n",
      "MyObj(3)\n"
     ]
    }
   ],
   "source": [
    "from operator import *\n",
    "\n",
    "class MyObj(object):\n",
    "    \"\"\"Example for operator overloading\"\"\"\n",
    "    def __init__(self, val):\n",
    "        super(MyObj, self).__init__()\n",
    "        self.val = val\n",
    "        return\n",
    "    \n",
    "    def __str__(self):\n",
    "        return 'MyObj(%s)' % self.val\n",
    "    \n",
    "    def __lt__(self, other):\n",
    "        \"\"\"Compare for less-than\"\"\"\n",
    "        print 'Testing %s < %s' % (self, other)\n",
    "        return self.val < other.val\n",
    "    \n",
    "    def __add__(self, other):\n",
    "        print 'Adding %s + %s' % (self, other)\n",
    "        return MyObj(self.val + other.val)\n",
    "    \n",
    "a = MyObj(1)\n",
    "b = MyObj(2)\n",
    "\n",
    "print 'Comparison:'\n",
    "print lt(a, b)\n",
    "\n",
    "print '\\nArithmetic:'\n",
    "print add(a, b)"
   ]
  },
  {
   "cell_type": "markdown",
   "metadata": {},
   "source": [
    "# 类型检查\n",
    "\n",
    "实现了检测可调用对象，映射、数字和序列类型的函数。"
   ]
  },
  {
   "cell_type": "code",
   "execution_count": 15,
   "metadata": {},
   "outputs": [
    {
     "name": "stdout",
     "output_type": "stream",
     "text": [
      "isMappingType(o): False\n",
      "isMappingType(t): False\n",
      "isNumberType(o): False\n",
      "isNumberType(t): True\n",
      "isSequenceType(o): False\n",
      "isSequenceType(t): False\n"
     ]
    }
   ],
   "source": [
    "from operator import *\n",
    "\n",
    "class NoType(object):\n",
    "    \"\"\"Supports none of the type APIs\"\"\"\n",
    "    \n",
    "class MultiType(object):\n",
    "    \"\"\"Supports multiple type APIs\"\"\"\n",
    "    def __len__(self):\n",
    "        return 0\n",
    "    \n",
    "    def __getitem(self, name):\n",
    "        return 'mapping'\n",
    "    \n",
    "    def __int__(self):\n",
    "        return 0\n",
    "    \n",
    "o = NoType()\n",
    "t = MultiType()\n",
    "\n",
    "for func in (isMappingType, isNumberType, isSequenceType):\n",
    "    print '%s(o):' % func.__name__, func(o)\n",
    "    print '%s(t):' % func.__name__, func(t)"
   ]
  },
  {
   "cell_type": "markdown",
   "metadata": {},
   "source": [
    "但是这些检测都不是可靠的，并且这些函数都已过时，可用 *isinstance* 代替实现，如：\n",
    "\n",
    "*operator.isCallable(obj)* 对应 *isinstance(x, collections.Callable)*，*operator.isMappingType(obj)* 对应 *isinstance(x, collections.Mapping)*，*operator.isNumberType(obj)* 对应 *isinstance(x, numbers.Number)*，*operator.isSequenceType(obj)* 对应 *isinstance(x, collections.Sequence)*。"
   ]
  },
  {
   "cell_type": "markdown",
   "metadata": {},
   "source": [
    "# 更多资源\n",
    "\n",
    "+ [operator](https://docs.python.org/2/library/operator.html) Standard library documentation for this module."
   ]
  }
 ],
 "metadata": {
  "kernelspec": {
   "display_name": "Python 2",
   "language": "python",
   "name": "python2"
  },
  "language_info": {
   "codemirror_mode": {
    "name": "ipython",
    "version": 2
   },
   "file_extension": ".py",
   "mimetype": "text/x-python",
   "name": "python",
   "nbconvert_exporter": "python",
   "pygments_lexer": "ipython2",
   "version": "2.7.12"
  }
 },
 "nbformat": 4,
 "nbformat_minor": 2
}
